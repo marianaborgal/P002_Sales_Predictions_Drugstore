{
 "cells": [
  {
   "cell_type": "markdown",
   "id": "cognitive-closure",
   "metadata": {},
   "source": [
    "# Imports"
   ]
  },
  {
   "cell_type": "code",
   "execution_count": 369,
   "id": "affiliated-dealing",
   "metadata": {
    "ExecuteTime": {
     "end_time": "2021-08-04T01:51:59.850892Z",
     "start_time": "2021-08-04T01:51:59.496570Z"
    }
   },
   "outputs": [],
   "source": [
    "import pandas             as pd\n",
    "import numpy              as np\n",
    "import seaborn            as sns\n",
    "import inflection\n",
    "import math\n",
    "import datetime\n",
    "\n",
    "from IPython.core.display  import HTML\n",
    "from matplotlib            import pyplot     as plt\n",
    "from tabulate              import tabulate\n",
    "from scipy                 import stats      as ss\n",
    "from sklearn.preprocessing import RobustScaler, MinMaxScaler, LabelEncoder\n",
    "from sklearn               import preprocessing\n",
    "from sklearn.ensemble      import RandomForestRegressor\n",
    "from boruta                import BorutaPy"
   ]
  },
  {
   "cell_type": "markdown",
   "id": "english-papua",
   "metadata": {
    "heading_collapsed": true
   },
   "source": [
    "## Helper Functions"
   ]
  },
  {
   "cell_type": "code",
   "execution_count": 323,
   "id": "departmental-regulation",
   "metadata": {
    "ExecuteTime": {
     "end_time": "2021-08-04T01:06:49.173293Z",
     "start_time": "2021-08-04T01:06:49.157279Z"
    },
    "hidden": true
   },
   "outputs": [],
   "source": [
    "def personal_settings():\n",
    "    \n",
    "    # plotly settings\n",
    "    plt.style.use( 'bmh' )\n",
    "    plt.rcParams['figure.figsize'] = [20, 10]\n",
    "    plt.rcParams['font.size'] = 24\n",
    "        \n",
    "    # notebook settings\n",
    "    display(HTML('<style>.container{width:90% !important;}</style>'))\n",
    "    np.set_printoptions(suppress=True)\n",
    "    pd.set_option('display.float_format', '{:.2f}'.format)\n",
    "\n",
    "        \n",
    "    # seaborn settings\n",
    "    sns.set(rc={'figure.figsize':(15,10)})\n",
    "    sns.set_theme(style = 'darkgrid', font_scale = 1.5)\n",
    "    \n",
    "    # %matplotlib inline\n",
    "    # %pylab inline\n",
    "    # pd.options.display.max_columns = None\n",
    "    # pd.options.display.max_rows = None\n",
    "    # pd.set_option( 'display.expand_frame_repr', False )\n",
    "    # pd.options.display.float_format = '{:,.2f}'.format\n",
    "    # np.set_printoptions(suppress=True)\n",
    "    \n",
    "def cramer_v (x,y):\n",
    "    cm = pd.crosstab(x,y).to_numpy() # contingency matriz\n",
    "    chi2 = ss.chi2_contingency(cm)[0]\n",
    "    n = cm.sum()\n",
    "    r, k = cm.shape\n",
    "    \n",
    "    chi2corr = max (0, chi2 - (k-1)*(r-1)/(n-1))\n",
    "    kcorr = k - (k-1)**2/(n-1);\n",
    "    rcorr = r - (r-1)**2/(n-1);\n",
    "    \n",
    "    return np.sqrt ( (chi2corr/n) / (min (kcorr-1, rcorr-1)) )"
   ]
  },
  {
   "cell_type": "code",
   "execution_count": 320,
   "id": "comprehensive-model",
   "metadata": {
    "ExecuteTime": {
     "end_time": "2021-08-04T01:05:45.201096Z",
     "start_time": "2021-08-04T01:05:45.193089Z"
    },
    "hidden": true
   },
   "outputs": [
    {
     "data": {
      "text/html": [
       "<style>.container{width:90% !important;}</style>"
      ],
      "text/plain": [
       "<IPython.core.display.HTML object>"
      ]
     },
     "metadata": {},
     "output_type": "display_data"
    }
   ],
   "source": [
    "personal_settings();"
   ]
  },
  {
   "cell_type": "markdown",
   "id": "81f7c015",
   "metadata": {
    "heading_collapsed": true
   },
   "source": [
    "## Loading Data"
   ]
  },
  {
   "cell_type": "code",
   "execution_count": 248,
   "id": "bb0c225c",
   "metadata": {
    "ExecuteTime": {
     "end_time": "2021-08-03T23:31:43.377896Z",
     "start_time": "2021-08-03T23:31:42.555148Z"
    },
    "hidden": true
   },
   "outputs": [],
   "source": [
    "df_sales_raw = pd.read_csv('../data/raw/train.csv', low_memory=False)\n",
    "df_store_raw = pd.read_csv('../data/raw/store.csv', low_memory=False)\n",
    "\n",
    "# merging datsets\n",
    "df_raw = pd.merge(df_sales_raw, df_store_raw, how='left', on='Store')"
   ]
  },
  {
   "cell_type": "markdown",
   "id": "1d7022db",
   "metadata": {
    "heading_collapsed": true
   },
   "source": [
    "# DATA DESCRIPTION"
   ]
  },
  {
   "cell_type": "code",
   "execution_count": 249,
   "id": "fb15cb52",
   "metadata": {
    "ExecuteTime": {
     "end_time": "2021-08-03T23:31:43.506013Z",
     "start_time": "2021-08-03T23:31:43.378897Z"
    },
    "hidden": true
   },
   "outputs": [],
   "source": [
    "df1=df_raw.copy()"
   ]
  },
  {
   "cell_type": "markdown",
   "id": "1f996569",
   "metadata": {
    "heading_collapsed": true,
    "hidden": true
   },
   "source": [
    "## Rename Columns"
   ]
  },
  {
   "cell_type": "code",
   "execution_count": 250,
   "id": "0db9a0ce",
   "metadata": {
    "ExecuteTime": {
     "end_time": "2021-08-03T23:31:43.522028Z",
     "start_time": "2021-08-03T23:31:43.509016Z"
    },
    "hidden": true
   },
   "outputs": [
    {
     "data": {
      "text/plain": [
       "Index(['Store', 'DayOfWeek', 'Date', 'Sales', 'Customers', 'Open', 'Promo',\n",
       "       'StateHoliday', 'SchoolHoliday', 'StoreType', 'Assortment',\n",
       "       'CompetitionDistance', 'CompetitionOpenSinceMonth',\n",
       "       'CompetitionOpenSinceYear', 'Promo2', 'Promo2SinceWeek',\n",
       "       'Promo2SinceYear', 'PromoInterval'],\n",
       "      dtype='object')"
      ]
     },
     "execution_count": 250,
     "metadata": {},
     "output_type": "execute_result"
    }
   ],
   "source": [
    "df1.columns"
   ]
  },
  {
   "cell_type": "code",
   "execution_count": 251,
   "id": "ca4384ee",
   "metadata": {
    "ExecuteTime": {
     "end_time": "2021-08-03T23:31:44.015477Z",
     "start_time": "2021-08-03T23:31:44.004467Z"
    },
    "hidden": true
   },
   "outputs": [
    {
     "name": "stdout",
     "output_type": "stream",
     "text": [
      "Index(['store', 'day_of_week', 'date', 'sales', 'customers', 'open', 'promo',\n",
      "       'state_holiday', 'school_holiday', 'store_type', 'assortment',\n",
      "       'competition_distance', 'competition_open_since_month',\n",
      "       'competition_open_since_year', 'promo2', 'promo2_since_week',\n",
      "       'promo2_since_year', 'promo_interval'],\n",
      "      dtype='object')\n"
     ]
    }
   ],
   "source": [
    "cols_old=['Store', 'DayOfWeek', 'Date', 'Sales', 'Customers', 'Open', 'Promo',\n",
    "           'StateHoliday', 'SchoolHoliday', 'StoreType', 'Assortment',\n",
    "           'CompetitionDistance', 'CompetitionOpenSinceMonth',\n",
    "           'CompetitionOpenSinceYear', 'Promo2', 'Promo2SinceWeek',\n",
    "           'Promo2SinceYear', 'PromoInterval']\n",
    "\n",
    "\n",
    "# changing the name of the columns\n",
    "snakecase = lambda x: inflection.underscore(x)\n",
    "cols_new = list(map(snakecase, cols_old))\n",
    "\n",
    "# renaming dataset columns\n",
    "df1.columns = cols_new\n",
    "print(df1.columns)"
   ]
  },
  {
   "cell_type": "markdown",
   "id": "7cddc5ea",
   "metadata": {
    "heading_collapsed": true,
    "hidden": true
   },
   "source": [
    "## Data Dimension"
   ]
  },
  {
   "cell_type": "code",
   "execution_count": 252,
   "id": "a32bb06d",
   "metadata": {
    "ExecuteTime": {
     "end_time": "2021-08-03T23:31:44.095549Z",
     "start_time": "2021-08-03T23:31:44.089544Z"
    },
    "hidden": true
   },
   "outputs": [
    {
     "name": "stdout",
     "output_type": "stream",
     "text": [
      "Number of rows: 1017209\n",
      "Number of columns: 18\n"
     ]
    }
   ],
   "source": [
    "print('Number of rows: {}' .format(df1.shape[0]))\n",
    "print('Number of columns: {}' .format(df1.shape[1]))"
   ]
  },
  {
   "cell_type": "markdown",
   "id": "6ebaf2e7",
   "metadata": {
    "heading_collapsed": true,
    "hidden": true
   },
   "source": [
    "## Data Types"
   ]
  },
  {
   "cell_type": "code",
   "execution_count": 253,
   "id": "28fb11f7",
   "metadata": {
    "ExecuteTime": {
     "end_time": "2021-08-03T23:31:44.174621Z",
     "start_time": "2021-08-03T23:31:44.149598Z"
    },
    "hidden": true
   },
   "outputs": [
    {
     "name": "stdout",
     "output_type": "stream",
     "text": [
      "store                             int64\n",
      "day_of_week                       int64\n",
      "date                             object\n",
      "sales                             int64\n",
      "customers                         int64\n",
      "open                              int64\n",
      "promo                             int64\n",
      "state_holiday                    object\n",
      "school_holiday                    int64\n",
      "store_type                       object\n",
      "assortment                       object\n",
      "competition_distance            float64\n",
      "competition_open_since_month    float64\n",
      "competition_open_since_year     float64\n",
      "promo2                            int64\n",
      "promo2_since_week               float64\n",
      "promo2_since_year               float64\n",
      "promo_interval                   object\n",
      "dtype: object\n"
     ]
    },
    {
     "data": {
      "text/html": [
       "<div>\n",
       "<style scoped>\n",
       "    .dataframe tbody tr th:only-of-type {\n",
       "        vertical-align: middle;\n",
       "    }\n",
       "\n",
       "    .dataframe tbody tr th {\n",
       "        vertical-align: top;\n",
       "    }\n",
       "\n",
       "    .dataframe thead th {\n",
       "        text-align: right;\n",
       "    }\n",
       "</style>\n",
       "<table border=\"1\" class=\"dataframe\">\n",
       "  <thead>\n",
       "    <tr style=\"text-align: right;\">\n",
       "      <th></th>\n",
       "      <th>store</th>\n",
       "      <th>day_of_week</th>\n",
       "      <th>date</th>\n",
       "      <th>sales</th>\n",
       "      <th>customers</th>\n",
       "      <th>open</th>\n",
       "      <th>promo</th>\n",
       "      <th>state_holiday</th>\n",
       "      <th>school_holiday</th>\n",
       "      <th>store_type</th>\n",
       "      <th>assortment</th>\n",
       "      <th>competition_distance</th>\n",
       "      <th>competition_open_since_month</th>\n",
       "      <th>competition_open_since_year</th>\n",
       "      <th>promo2</th>\n",
       "      <th>promo2_since_week</th>\n",
       "      <th>promo2_since_year</th>\n",
       "      <th>promo_interval</th>\n",
       "    </tr>\n",
       "  </thead>\n",
       "  <tbody>\n",
       "    <tr>\n",
       "      <th>0</th>\n",
       "      <td>1</td>\n",
       "      <td>5</td>\n",
       "      <td>2015-07-31</td>\n",
       "      <td>5263</td>\n",
       "      <td>555</td>\n",
       "      <td>1</td>\n",
       "      <td>1</td>\n",
       "      <td>0</td>\n",
       "      <td>1</td>\n",
       "      <td>c</td>\n",
       "      <td>a</td>\n",
       "      <td>1270.0</td>\n",
       "      <td>9.0</td>\n",
       "      <td>2008.0</td>\n",
       "      <td>0</td>\n",
       "      <td>NaN</td>\n",
       "      <td>NaN</td>\n",
       "      <td>NaN</td>\n",
       "    </tr>\n",
       "    <tr>\n",
       "      <th>1</th>\n",
       "      <td>2</td>\n",
       "      <td>5</td>\n",
       "      <td>2015-07-31</td>\n",
       "      <td>6064</td>\n",
       "      <td>625</td>\n",
       "      <td>1</td>\n",
       "      <td>1</td>\n",
       "      <td>0</td>\n",
       "      <td>1</td>\n",
       "      <td>a</td>\n",
       "      <td>a</td>\n",
       "      <td>570.0</td>\n",
       "      <td>11.0</td>\n",
       "      <td>2007.0</td>\n",
       "      <td>1</td>\n",
       "      <td>13.0</td>\n",
       "      <td>2010.0</td>\n",
       "      <td>Jan,Apr,Jul,Oct</td>\n",
       "    </tr>\n",
       "    <tr>\n",
       "      <th>2</th>\n",
       "      <td>3</td>\n",
       "      <td>5</td>\n",
       "      <td>2015-07-31</td>\n",
       "      <td>8314</td>\n",
       "      <td>821</td>\n",
       "      <td>1</td>\n",
       "      <td>1</td>\n",
       "      <td>0</td>\n",
       "      <td>1</td>\n",
       "      <td>a</td>\n",
       "      <td>a</td>\n",
       "      <td>14130.0</td>\n",
       "      <td>12.0</td>\n",
       "      <td>2006.0</td>\n",
       "      <td>1</td>\n",
       "      <td>14.0</td>\n",
       "      <td>2011.0</td>\n",
       "      <td>Jan,Apr,Jul,Oct</td>\n",
       "    </tr>\n",
       "    <tr>\n",
       "      <th>3</th>\n",
       "      <td>4</td>\n",
       "      <td>5</td>\n",
       "      <td>2015-07-31</td>\n",
       "      <td>13995</td>\n",
       "      <td>1498</td>\n",
       "      <td>1</td>\n",
       "      <td>1</td>\n",
       "      <td>0</td>\n",
       "      <td>1</td>\n",
       "      <td>c</td>\n",
       "      <td>c</td>\n",
       "      <td>620.0</td>\n",
       "      <td>9.0</td>\n",
       "      <td>2009.0</td>\n",
       "      <td>0</td>\n",
       "      <td>NaN</td>\n",
       "      <td>NaN</td>\n",
       "      <td>NaN</td>\n",
       "    </tr>\n",
       "    <tr>\n",
       "      <th>4</th>\n",
       "      <td>5</td>\n",
       "      <td>5</td>\n",
       "      <td>2015-07-31</td>\n",
       "      <td>4822</td>\n",
       "      <td>559</td>\n",
       "      <td>1</td>\n",
       "      <td>1</td>\n",
       "      <td>0</td>\n",
       "      <td>1</td>\n",
       "      <td>a</td>\n",
       "      <td>a</td>\n",
       "      <td>29910.0</td>\n",
       "      <td>4.0</td>\n",
       "      <td>2015.0</td>\n",
       "      <td>0</td>\n",
       "      <td>NaN</td>\n",
       "      <td>NaN</td>\n",
       "      <td>NaN</td>\n",
       "    </tr>\n",
       "  </tbody>\n",
       "</table>\n",
       "</div>"
      ],
      "text/plain": [
       "   store  day_of_week        date  sales  customers  open  promo  \\\n",
       "0      1            5  2015-07-31   5263        555     1      1   \n",
       "1      2            5  2015-07-31   6064        625     1      1   \n",
       "2      3            5  2015-07-31   8314        821     1      1   \n",
       "3      4            5  2015-07-31  13995       1498     1      1   \n",
       "4      5            5  2015-07-31   4822        559     1      1   \n",
       "\n",
       "  state_holiday  school_holiday store_type assortment  competition_distance  \\\n",
       "0             0               1          c          a                1270.0   \n",
       "1             0               1          a          a                 570.0   \n",
       "2             0               1          a          a               14130.0   \n",
       "3             0               1          c          c                 620.0   \n",
       "4             0               1          a          a               29910.0   \n",
       "\n",
       "   competition_open_since_month  competition_open_since_year  promo2  \\\n",
       "0                           9.0                       2008.0       0   \n",
       "1                          11.0                       2007.0       1   \n",
       "2                          12.0                       2006.0       1   \n",
       "3                           9.0                       2009.0       0   \n",
       "4                           4.0                       2015.0       0   \n",
       "\n",
       "   promo2_since_week  promo2_since_year   promo_interval  \n",
       "0                NaN                NaN              NaN  \n",
       "1               13.0             2010.0  Jan,Apr,Jul,Oct  \n",
       "2               14.0             2011.0  Jan,Apr,Jul,Oct  \n",
       "3                NaN                NaN              NaN  \n",
       "4                NaN                NaN              NaN  "
      ]
     },
     "execution_count": 253,
     "metadata": {},
     "output_type": "execute_result"
    }
   ],
   "source": [
    "print(df1.dtypes)\n",
    "df1.head()"
   ]
  },
  {
   "cell_type": "markdown",
   "id": "caac036c",
   "metadata": {
    "heading_collapsed": true,
    "hidden": true
   },
   "source": [
    "## Check NA "
   ]
  },
  {
   "cell_type": "code",
   "execution_count": 254,
   "id": "18ddaefe",
   "metadata": {
    "ExecuteTime": {
     "end_time": "2021-08-03T23:31:44.412838Z",
     "start_time": "2021-08-03T23:31:44.210654Z"
    },
    "hidden": true
   },
   "outputs": [
    {
     "data": {
      "text/plain": [
       "store                                0\n",
       "day_of_week                          0\n",
       "date                                 0\n",
       "sales                                0\n",
       "customers                            0\n",
       "open                                 0\n",
       "promo                                0\n",
       "state_holiday                        0\n",
       "school_holiday                       0\n",
       "store_type                           0\n",
       "assortment                           0\n",
       "competition_distance              2642\n",
       "competition_open_since_month    323348\n",
       "competition_open_since_year     323348\n",
       "promo2                               0\n",
       "promo2_since_week               508031\n",
       "promo2_since_year               508031\n",
       "promo_interval                  508031\n",
       "dtype: int64"
      ]
     },
     "execution_count": 254,
     "metadata": {},
     "output_type": "execute_result"
    }
   ],
   "source": [
    "df1.isna().sum()"
   ]
  },
  {
   "cell_type": "markdown",
   "id": "fdc2454a",
   "metadata": {
    "heading_collapsed": true,
    "hidden": true
   },
   "source": [
    "## Fillout NA"
   ]
  },
  {
   "cell_type": "code",
   "execution_count": 255,
   "id": "7d551489",
   "metadata": {
    "ExecuteTime": {
     "end_time": "2021-08-03T23:31:44.652056Z",
     "start_time": "2021-08-03T23:31:44.413839Z"
    },
    "hidden": true
   },
   "outputs": [],
   "source": [
    "# ======= competition_distance\n",
    "\n",
    "#checking maximum value\n",
    "df1['competition_distance'].max() # The maximum distance is:  75860.0\n",
    "\n",
    "# replacing each NA\n",
    "df1['competition_distance'] = df1['competition_distance'].apply(lambda x:2000000.0 if math.isnan(x) else (x))"
   ]
  },
  {
   "cell_type": "code",
   "execution_count": 256,
   "id": "f692ff1b",
   "metadata": {
    "ExecuteTime": {
     "end_time": "2021-08-03T23:32:12.801030Z",
     "start_time": "2021-08-03T23:31:44.654058Z"
    },
    "hidden": true
   },
   "outputs": [],
   "source": [
    "df1['date'] = pd.to_datetime(df1['date'])\n",
    "\n",
    "#  ======= competition_open_since_month\n",
    "df1['competition_open_since_month'] = df1.apply(lambda x: x['date'].month if math.isnan(x['competition_open_since_month']) else x['competition_open_since_month'], axis=1)\n",
    "\n",
    "#  ======= competition_open_since_year\n",
    "df1['competition_open_since_year'] = df1.apply(lambda x: x['date'].year if math.isnan(x['competition_open_since_year']) else x['competition_open_since_year'], axis=1)\n"
   ]
  },
  {
   "cell_type": "code",
   "execution_count": 257,
   "id": "f0ccb964",
   "metadata": {
    "ExecuteTime": {
     "end_time": "2021-08-03T23:32:41.124246Z",
     "start_time": "2021-08-03T23:32:12.802031Z"
    },
    "hidden": true
   },
   "outputs": [],
   "source": [
    "# ======= promo2_since_week\n",
    "df1['promo2_since_week'] = df1.apply(lambda x: x['date'].week if math.isnan(x['promo2_since_week']) else x['promo2_since_week'], axis=1)\n",
    "\n",
    "# ======= promo2_since_year\n",
    "df1['promo2_since_year'] = df1.apply(lambda x: x['date'].year if math.isnan(x['promo2_since_year']) else x['promo2_since_year'], axis=1)\n"
   ]
  },
  {
   "cell_type": "code",
   "execution_count": 258,
   "id": "bd0bbc4d",
   "metadata": {
    "ExecuteTime": {
     "end_time": "2021-08-03T23:32:51.982937Z",
     "start_time": "2021-08-03T23:32:41.125248Z"
    },
    "hidden": true
   },
   "outputs": [],
   "source": [
    "# ======= promo_interval\n",
    "\n",
    "month_map = { 1: 'Jan', 2: 'Feb', 3: 'Mar', 4: 'Apr', 5: 'May', 6: 'Jun',\n",
    "              7: 'Jul', 8: 'Ago', 9: 'Sep', 10: 'Oct', 11: 'Nov', 12: 'Dec'}\n",
    "\n",
    "# filling Na with \"0\"\n",
    "df1['promo_interval'].fillna(0, inplace=True)\n",
    "\n",
    "# finding the month name given month number by mapping the \"month_map\" dictionary\n",
    "df1 ['month_map'] = df1['date'].dt.month.map(month_map)\n",
    "\n",
    "\n",
    "df1['is_promo'] = df1[['promo_interval', 'month_map']].apply(lambda x: 0 if x['promo_interval'] == 0\n",
    "                                                                  else 1 if x['month_map'] in x['promo_interval'].split(',')\n",
    "                                                                  else 0, axis=1 )"
   ]
  },
  {
   "cell_type": "code",
   "execution_count": 259,
   "id": "8ab74314",
   "metadata": {
    "ExecuteTime": {
     "end_time": "2021-08-03T23:32:52.062009Z",
     "start_time": "2021-08-03T23:32:51.983938Z"
    },
    "hidden": true
   },
   "outputs": [
    {
     "data": {
      "text/html": [
       "<div>\n",
       "<style scoped>\n",
       "    .dataframe tbody tr th:only-of-type {\n",
       "        vertical-align: middle;\n",
       "    }\n",
       "\n",
       "    .dataframe tbody tr th {\n",
       "        vertical-align: top;\n",
       "    }\n",
       "\n",
       "    .dataframe thead th {\n",
       "        text-align: right;\n",
       "    }\n",
       "</style>\n",
       "<table border=\"1\" class=\"dataframe\">\n",
       "  <thead>\n",
       "    <tr style=\"text-align: right;\">\n",
       "      <th></th>\n",
       "      <th>competition_distance</th>\n",
       "      <th>competition_open_since_month</th>\n",
       "      <th>competition_open_since_year</th>\n",
       "      <th>promo2_since_week</th>\n",
       "      <th>promo2_since_year</th>\n",
       "      <th>promo_interval</th>\n",
       "      <th>month_map</th>\n",
       "      <th>is_promo</th>\n",
       "    </tr>\n",
       "  </thead>\n",
       "  <tbody>\n",
       "    <tr>\n",
       "      <th>726563</th>\n",
       "      <td>5870.0</td>\n",
       "      <td>4.0</td>\n",
       "      <td>2014.0</td>\n",
       "      <td>38.0</td>\n",
       "      <td>2013.0</td>\n",
       "      <td>0</td>\n",
       "      <td>Sep</td>\n",
       "      <td>0</td>\n",
       "    </tr>\n",
       "    <tr>\n",
       "      <th>120123</th>\n",
       "      <td>720.0</td>\n",
       "      <td>10.0</td>\n",
       "      <td>2014.0</td>\n",
       "      <td>16.0</td>\n",
       "      <td>2015.0</td>\n",
       "      <td>0</td>\n",
       "      <td>Apr</td>\n",
       "      <td>0</td>\n",
       "    </tr>\n",
       "    <tr>\n",
       "      <th>421986</th>\n",
       "      <td>19360.0</td>\n",
       "      <td>6.0</td>\n",
       "      <td>2014.0</td>\n",
       "      <td>25.0</td>\n",
       "      <td>2014.0</td>\n",
       "      <td>0</td>\n",
       "      <td>Jun</td>\n",
       "      <td>0</td>\n",
       "    </tr>\n",
       "    <tr>\n",
       "      <th>404330</th>\n",
       "      <td>1910.0</td>\n",
       "      <td>4.0</td>\n",
       "      <td>2009.0</td>\n",
       "      <td>27.0</td>\n",
       "      <td>2014.0</td>\n",
       "      <td>0</td>\n",
       "      <td>Jul</td>\n",
       "      <td>0</td>\n",
       "    </tr>\n",
       "    <tr>\n",
       "      <th>247651</th>\n",
       "      <td>2050.0</td>\n",
       "      <td>12.0</td>\n",
       "      <td>2014.0</td>\n",
       "      <td>51.0</td>\n",
       "      <td>2014.0</td>\n",
       "      <td>0</td>\n",
       "      <td>Dec</td>\n",
       "      <td>0</td>\n",
       "    </tr>\n",
       "  </tbody>\n",
       "</table>\n",
       "</div>"
      ],
      "text/plain": [
       "        competition_distance  competition_open_since_month  \\\n",
       "726563                5870.0                           4.0   \n",
       "120123                 720.0                          10.0   \n",
       "421986               19360.0                           6.0   \n",
       "404330                1910.0                           4.0   \n",
       "247651                2050.0                          12.0   \n",
       "\n",
       "        competition_open_since_year  promo2_since_week  promo2_since_year  \\\n",
       "726563                       2014.0               38.0             2013.0   \n",
       "120123                       2014.0               16.0             2015.0   \n",
       "421986                       2014.0               25.0             2014.0   \n",
       "404330                       2009.0               27.0             2014.0   \n",
       "247651                       2014.0               51.0             2014.0   \n",
       "\n",
       "       promo_interval month_map  is_promo  \n",
       "726563              0       Sep         0  \n",
       "120123              0       Apr         0  \n",
       "421986              0       Jun         0  \n",
       "404330              0       Jul         0  \n",
       "247651              0       Dec         0  "
      ]
     },
     "execution_count": 259,
     "metadata": {},
     "output_type": "execute_result"
    }
   ],
   "source": [
    "df1[['competition_distance','competition_open_since_month','competition_open_since_year',\n",
    "     'promo2_since_week','promo2_since_year','promo_interval', 'month_map', 'is_promo']].sample(5)"
   ]
  },
  {
   "cell_type": "markdown",
   "id": "b527290d",
   "metadata": {
    "heading_collapsed": true,
    "hidden": true
   },
   "source": [
    "## Change Variable Types"
   ]
  },
  {
   "cell_type": "code",
   "execution_count": 260,
   "id": "bab1d8d9",
   "metadata": {
    "ExecuteTime": {
     "end_time": "2021-08-03T23:32:52.110053Z",
     "start_time": "2021-08-03T23:32:52.063010Z"
    },
    "hidden": true
   },
   "outputs": [
    {
     "name": "stdout",
     "output_type": "stream",
     "text": [
      "store                                    int64\n",
      "day_of_week                              int64\n",
      "date                            datetime64[ns]\n",
      "sales                                    int64\n",
      "customers                                int64\n",
      "open                                     int64\n",
      "promo                                    int64\n",
      "state_holiday                           object\n",
      "school_holiday                           int64\n",
      "store_type                              object\n",
      "assortment                              object\n",
      "competition_distance                   float64\n",
      "competition_open_since_month           float64\n",
      "competition_open_since_year            float64\n",
      "promo2                                   int64\n",
      "promo2_since_week                      float64\n",
      "promo2_since_year                      float64\n",
      "promo_interval                          object\n",
      "month_map                               object\n",
      "is_promo                                 int64\n",
      "dtype: object\n"
     ]
    },
    {
     "data": {
      "text/html": [
       "<div>\n",
       "<style scoped>\n",
       "    .dataframe tbody tr th:only-of-type {\n",
       "        vertical-align: middle;\n",
       "    }\n",
       "\n",
       "    .dataframe tbody tr th {\n",
       "        vertical-align: top;\n",
       "    }\n",
       "\n",
       "    .dataframe thead th {\n",
       "        text-align: right;\n",
       "    }\n",
       "</style>\n",
       "<table border=\"1\" class=\"dataframe\">\n",
       "  <thead>\n",
       "    <tr style=\"text-align: right;\">\n",
       "      <th></th>\n",
       "      <th>store</th>\n",
       "      <th>day_of_week</th>\n",
       "      <th>date</th>\n",
       "      <th>sales</th>\n",
       "      <th>customers</th>\n",
       "      <th>open</th>\n",
       "      <th>promo</th>\n",
       "      <th>state_holiday</th>\n",
       "      <th>school_holiday</th>\n",
       "      <th>store_type</th>\n",
       "      <th>assortment</th>\n",
       "      <th>competition_distance</th>\n",
       "      <th>competition_open_since_month</th>\n",
       "      <th>competition_open_since_year</th>\n",
       "      <th>promo2</th>\n",
       "      <th>promo2_since_week</th>\n",
       "      <th>promo2_since_year</th>\n",
       "      <th>promo_interval</th>\n",
       "      <th>month_map</th>\n",
       "      <th>is_promo</th>\n",
       "    </tr>\n",
       "  </thead>\n",
       "  <tbody>\n",
       "    <tr>\n",
       "      <th>897213</th>\n",
       "      <td>424</td>\n",
       "      <td>4</td>\n",
       "      <td>2013-04-18</td>\n",
       "      <td>5163</td>\n",
       "      <td>652</td>\n",
       "      <td>1</td>\n",
       "      <td>0</td>\n",
       "      <td>0</td>\n",
       "      <td>0</td>\n",
       "      <td>d</td>\n",
       "      <td>c</td>\n",
       "      <td>1250.0</td>\n",
       "      <td>4.0</td>\n",
       "      <td>2013.0</td>\n",
       "      <td>1</td>\n",
       "      <td>40.0</td>\n",
       "      <td>2011.0</td>\n",
       "      <td>Jan,Apr,Jul,Oct</td>\n",
       "      <td>Apr</td>\n",
       "      <td>1</td>\n",
       "    </tr>\n",
       "  </tbody>\n",
       "</table>\n",
       "</div>"
      ],
      "text/plain": [
       "        store  day_of_week       date  sales  customers  open  promo  \\\n",
       "897213    424            4 2013-04-18   5163        652     1      0   \n",
       "\n",
       "       state_holiday  school_holiday store_type assortment  \\\n",
       "897213             0               0          d          c   \n",
       "\n",
       "        competition_distance  competition_open_since_month  \\\n",
       "897213                1250.0                           4.0   \n",
       "\n",
       "        competition_open_since_year  promo2  promo2_since_week  \\\n",
       "897213                       2013.0       1               40.0   \n",
       "\n",
       "        promo2_since_year   promo_interval month_map  is_promo  \n",
       "897213             2011.0  Jan,Apr,Jul,Oct       Apr         1  "
      ]
     },
     "execution_count": 260,
     "metadata": {},
     "output_type": "execute_result"
    }
   ],
   "source": [
    "print(df1.dtypes)\n",
    "df1.sample()"
   ]
  },
  {
   "cell_type": "code",
   "execution_count": 261,
   "id": "b1c82c50",
   "metadata": {
    "ExecuteTime": {
     "end_time": "2021-08-03T23:32:52.157095Z",
     "start_time": "2021-08-03T23:32:52.111053Z"
    },
    "hidden": true
   },
   "outputs": [],
   "source": [
    "df1['competition_open_since_month'] = df1['competition_open_since_month'].astype(np.int64)\n",
    "df1['competition_open_since_year'] = df1['competition_open_since_year'].astype(np.int64)\n",
    "\n",
    "df1['promo2_since_week'] = df1['promo2_since_week'].astype(np.int64)\n",
    "df1['promo2_since_year'] = df1['promo2_since_year'].astype(np.int64)"
   ]
  },
  {
   "cell_type": "markdown",
   "id": "ce318d1b",
   "metadata": {
    "heading_collapsed": true,
    "hidden": true
   },
   "source": [
    "## Descriptive Statistical"
   ]
  },
  {
   "cell_type": "code",
   "execution_count": 262,
   "id": "58ca6429",
   "metadata": {
    "ExecuteTime": {
     "end_time": "2021-08-03T23:32:52.253183Z",
     "start_time": "2021-08-03T23:32:52.158096Z"
    },
    "hidden": true
   },
   "outputs": [],
   "source": [
    "num_df1 = df1.select_dtypes(include=['int64','float64'])\n",
    "cat_df1 = df1.select_dtypes(exclude=['int64','float64','datetime64[ns]'])"
   ]
  },
  {
   "cell_type": "markdown",
   "id": "c997585f",
   "metadata": {
    "heading_collapsed": true,
    "hidden": true
   },
   "source": [
    "### Numerical Attributes"
   ]
  },
  {
   "cell_type": "code",
   "execution_count": 263,
   "id": "fe1e67df",
   "metadata": {
    "ExecuteTime": {
     "end_time": "2021-08-03T23:32:55.138808Z",
     "start_time": "2021-08-03T23:32:52.254184Z"
    },
    "hidden": true
   },
   "outputs": [
    {
     "data": {
      "text/html": [
       "<div>\n",
       "<style scoped>\n",
       "    .dataframe tbody tr th:only-of-type {\n",
       "        vertical-align: middle;\n",
       "    }\n",
       "\n",
       "    .dataframe tbody tr th {\n",
       "        vertical-align: top;\n",
       "    }\n",
       "\n",
       "    .dataframe thead th {\n",
       "        text-align: right;\n",
       "    }\n",
       "</style>\n",
       "<table border=\"1\" class=\"dataframe\">\n",
       "  <thead>\n",
       "    <tr style=\"text-align: right;\">\n",
       "      <th></th>\n",
       "      <th>attributes</th>\n",
       "      <th>min</th>\n",
       "      <th>max</th>\n",
       "      <th>range</th>\n",
       "      <th>mean</th>\n",
       "      <th>median</th>\n",
       "      <th>std</th>\n",
       "      <th>skew</th>\n",
       "      <th>kurtosis</th>\n",
       "    </tr>\n",
       "  </thead>\n",
       "  <tbody>\n",
       "    <tr>\n",
       "      <th>0</th>\n",
       "      <td>store</td>\n",
       "      <td>1.0</td>\n",
       "      <td>1115.0</td>\n",
       "      <td>1114.0</td>\n",
       "      <td>558.429727</td>\n",
       "      <td>558.0</td>\n",
       "      <td>321.908493</td>\n",
       "      <td>-0.000955</td>\n",
       "      <td>&lt;bound method NDFrame._add_numeric_operations....</td>\n",
       "    </tr>\n",
       "    <tr>\n",
       "      <th>1</th>\n",
       "      <td>day_of_week</td>\n",
       "      <td>1.0</td>\n",
       "      <td>7.0</td>\n",
       "      <td>6.0</td>\n",
       "      <td>3.998341</td>\n",
       "      <td>4.0</td>\n",
       "      <td>1.99739</td>\n",
       "      <td>0.001593</td>\n",
       "      <td>&lt;bound method NDFrame._add_numeric_operations....</td>\n",
       "    </tr>\n",
       "    <tr>\n",
       "      <th>2</th>\n",
       "      <td>sales</td>\n",
       "      <td>0.0</td>\n",
       "      <td>41551.0</td>\n",
       "      <td>41551.0</td>\n",
       "      <td>5773.818972</td>\n",
       "      <td>5744.0</td>\n",
       "      <td>3849.924283</td>\n",
       "      <td>0.64146</td>\n",
       "      <td>&lt;bound method NDFrame._add_numeric_operations....</td>\n",
       "    </tr>\n",
       "    <tr>\n",
       "      <th>3</th>\n",
       "      <td>customers</td>\n",
       "      <td>0.0</td>\n",
       "      <td>7388.0</td>\n",
       "      <td>7388.0</td>\n",
       "      <td>633.145946</td>\n",
       "      <td>609.0</td>\n",
       "      <td>464.411506</td>\n",
       "      <td>1.59865</td>\n",
       "      <td>&lt;bound method NDFrame._add_numeric_operations....</td>\n",
       "    </tr>\n",
       "    <tr>\n",
       "      <th>4</th>\n",
       "      <td>open</td>\n",
       "      <td>0.0</td>\n",
       "      <td>1.0</td>\n",
       "      <td>1.0</td>\n",
       "      <td>0.830107</td>\n",
       "      <td>1.0</td>\n",
       "      <td>0.375539</td>\n",
       "      <td>-1.758045</td>\n",
       "      <td>&lt;bound method NDFrame._add_numeric_operations....</td>\n",
       "    </tr>\n",
       "    <tr>\n",
       "      <th>5</th>\n",
       "      <td>promo</td>\n",
       "      <td>0.0</td>\n",
       "      <td>1.0</td>\n",
       "      <td>1.0</td>\n",
       "      <td>0.381515</td>\n",
       "      <td>0.0</td>\n",
       "      <td>0.485758</td>\n",
       "      <td>0.487838</td>\n",
       "      <td>&lt;bound method NDFrame._add_numeric_operations....</td>\n",
       "    </tr>\n",
       "    <tr>\n",
       "      <th>6</th>\n",
       "      <td>school_holiday</td>\n",
       "      <td>0.0</td>\n",
       "      <td>1.0</td>\n",
       "      <td>1.0</td>\n",
       "      <td>0.178647</td>\n",
       "      <td>0.0</td>\n",
       "      <td>0.383056</td>\n",
       "      <td>1.677842</td>\n",
       "      <td>&lt;bound method NDFrame._add_numeric_operations....</td>\n",
       "    </tr>\n",
       "    <tr>\n",
       "      <th>7</th>\n",
       "      <td>competition_distance</td>\n",
       "      <td>20.0</td>\n",
       "      <td>2000000.0</td>\n",
       "      <td>1999980.0</td>\n",
       "      <td>10610.588099</td>\n",
       "      <td>2330.0</td>\n",
       "      <td>101810.6491</td>\n",
       "      <td>19.378002</td>\n",
       "      <td>&lt;bound method NDFrame._add_numeric_operations....</td>\n",
       "    </tr>\n",
       "    <tr>\n",
       "      <th>8</th>\n",
       "      <td>competition_open_since_month</td>\n",
       "      <td>1.0</td>\n",
       "      <td>12.0</td>\n",
       "      <td>11.0</td>\n",
       "      <td>6.786849</td>\n",
       "      <td>7.0</td>\n",
       "      <td>3.311085</td>\n",
       "      <td>-0.042076</td>\n",
       "      <td>&lt;bound method NDFrame._add_numeric_operations....</td>\n",
       "    </tr>\n",
       "    <tr>\n",
       "      <th>9</th>\n",
       "      <td>competition_open_since_year</td>\n",
       "      <td>1900.0</td>\n",
       "      <td>2015.0</td>\n",
       "      <td>115.0</td>\n",
       "      <td>2010.32484</td>\n",
       "      <td>2012.0</td>\n",
       "      <td>5.515591</td>\n",
       "      <td>-7.235657</td>\n",
       "      <td>&lt;bound method NDFrame._add_numeric_operations....</td>\n",
       "    </tr>\n",
       "    <tr>\n",
       "      <th>10</th>\n",
       "      <td>promo2</td>\n",
       "      <td>0.0</td>\n",
       "      <td>1.0</td>\n",
       "      <td>1.0</td>\n",
       "      <td>0.500564</td>\n",
       "      <td>1.0</td>\n",
       "      <td>0.5</td>\n",
       "      <td>-0.002255</td>\n",
       "      <td>&lt;bound method NDFrame._add_numeric_operations....</td>\n",
       "    </tr>\n",
       "    <tr>\n",
       "      <th>11</th>\n",
       "      <td>promo2_since_week</td>\n",
       "      <td>1.0</td>\n",
       "      <td>52.0</td>\n",
       "      <td>51.0</td>\n",
       "      <td>23.619033</td>\n",
       "      <td>22.0</td>\n",
       "      <td>14.310057</td>\n",
       "      <td>0.178723</td>\n",
       "      <td>&lt;bound method NDFrame._add_numeric_operations....</td>\n",
       "    </tr>\n",
       "    <tr>\n",
       "      <th>12</th>\n",
       "      <td>promo2_since_year</td>\n",
       "      <td>2009.0</td>\n",
       "      <td>2015.0</td>\n",
       "      <td>6.0</td>\n",
       "      <td>2012.793297</td>\n",
       "      <td>2013.0</td>\n",
       "      <td>1.662657</td>\n",
       "      <td>-0.784436</td>\n",
       "      <td>&lt;bound method NDFrame._add_numeric_operations....</td>\n",
       "    </tr>\n",
       "    <tr>\n",
       "      <th>13</th>\n",
       "      <td>is_promo</td>\n",
       "      <td>0.0</td>\n",
       "      <td>1.0</td>\n",
       "      <td>1.0</td>\n",
       "      <td>0.158682</td>\n",
       "      <td>0.0</td>\n",
       "      <td>0.36538</td>\n",
       "      <td>1.868295</td>\n",
       "      <td>&lt;bound method NDFrame._add_numeric_operations....</td>\n",
       "    </tr>\n",
       "  </tbody>\n",
       "</table>\n",
       "</div>"
      ],
      "text/plain": [
       "                      attributes     min        max      range          mean  \\\n",
       "0                          store     1.0     1115.0     1114.0    558.429727   \n",
       "1                    day_of_week     1.0        7.0        6.0      3.998341   \n",
       "2                          sales     0.0    41551.0    41551.0   5773.818972   \n",
       "3                      customers     0.0     7388.0     7388.0    633.145946   \n",
       "4                           open     0.0        1.0        1.0      0.830107   \n",
       "5                          promo     0.0        1.0        1.0      0.381515   \n",
       "6                 school_holiday     0.0        1.0        1.0      0.178647   \n",
       "7           competition_distance    20.0  2000000.0  1999980.0  10610.588099   \n",
       "8   competition_open_since_month     1.0       12.0       11.0      6.786849   \n",
       "9    competition_open_since_year  1900.0     2015.0      115.0    2010.32484   \n",
       "10                        promo2     0.0        1.0        1.0      0.500564   \n",
       "11             promo2_since_week     1.0       52.0       51.0     23.619033   \n",
       "12             promo2_since_year  2009.0     2015.0        6.0   2012.793297   \n",
       "13                      is_promo     0.0        1.0        1.0      0.158682   \n",
       "\n",
       "    median          std       skew  \\\n",
       "0    558.0   321.908493  -0.000955   \n",
       "1      4.0      1.99739   0.001593   \n",
       "2   5744.0  3849.924283    0.64146   \n",
       "3    609.0   464.411506    1.59865   \n",
       "4      1.0     0.375539  -1.758045   \n",
       "5      0.0     0.485758   0.487838   \n",
       "6      0.0     0.383056   1.677842   \n",
       "7   2330.0  101810.6491  19.378002   \n",
       "8      7.0     3.311085  -0.042076   \n",
       "9   2012.0     5.515591  -7.235657   \n",
       "10     1.0          0.5  -0.002255   \n",
       "11    22.0    14.310057   0.178723   \n",
       "12  2013.0     1.662657  -0.784436   \n",
       "13     0.0      0.36538   1.868295   \n",
       "\n",
       "                                             kurtosis  \n",
       "0   <bound method NDFrame._add_numeric_operations....  \n",
       "1   <bound method NDFrame._add_numeric_operations....  \n",
       "2   <bound method NDFrame._add_numeric_operations....  \n",
       "3   <bound method NDFrame._add_numeric_operations....  \n",
       "4   <bound method NDFrame._add_numeric_operations....  \n",
       "5   <bound method NDFrame._add_numeric_operations....  \n",
       "6   <bound method NDFrame._add_numeric_operations....  \n",
       "7   <bound method NDFrame._add_numeric_operations....  \n",
       "8   <bound method NDFrame._add_numeric_operations....  \n",
       "9   <bound method NDFrame._add_numeric_operations....  \n",
       "10  <bound method NDFrame._add_numeric_operations....  \n",
       "11  <bound method NDFrame._add_numeric_operations....  \n",
       "12  <bound method NDFrame._add_numeric_operations....  \n",
       "13  <bound method NDFrame._add_numeric_operations....  "
      ]
     },
     "execution_count": 263,
     "metadata": {},
     "output_type": "execute_result"
    }
   ],
   "source": [
    "# central tendendy - mean, median\n",
    "ct1 = pd.DataFrame(num_df1.apply(np.mean)).T\n",
    "ct2 = pd.DataFrame(num_df1.apply(np.median)).T\n",
    "\n",
    "# dispersion - std, min, max, range, skew, kurtosis\n",
    "d1 = pd.DataFrame(num_df1.apply(np.std)).T\n",
    "d2 = pd.DataFrame(num_df1.apply(min)).T\n",
    "d3 = pd.DataFrame(num_df1.apply(max)).T\n",
    "d4 = pd.DataFrame(num_df1.apply(lambda x: x.max() - x.min())).T\n",
    "d5 = pd.DataFrame(num_df1.apply(lambda x: x.skew())).T\n",
    "d6 = pd.DataFrame(num_df1.apply(lambda x: x.kurtosis)).T\n",
    "\n",
    "# concatenate \n",
    "m = pd.concat([d2,d3,d4,ct1,ct2,d1,d5,d6]).T.reset_index()\n",
    "m.columns = ['attributes','min','max','range','mean','median','std','skew','kurtosis']\n",
    "m"
   ]
  },
  {
   "cell_type": "markdown",
   "id": "155d25f3",
   "metadata": {
    "heading_collapsed": true,
    "hidden": true
   },
   "source": [
    "### Categorical Attributes"
   ]
  },
  {
   "cell_type": "code",
   "execution_count": 264,
   "id": "4928c285",
   "metadata": {
    "ExecuteTime": {
     "end_time": "2021-08-03T23:32:55.313967Z",
     "start_time": "2021-08-03T23:32:55.139810Z"
    },
    "hidden": true
   },
   "outputs": [
    {
     "data": {
      "text/plain": [
       "state_holiday      4\n",
       "store_type         4\n",
       "assortment         3\n",
       "promo_interval     4\n",
       "month_map         12\n",
       "dtype: int64"
      ]
     },
     "execution_count": 264,
     "metadata": {},
     "output_type": "execute_result"
    }
   ],
   "source": [
    "cat_df1.apply(lambda x: x.unique().shape[0])"
   ]
  },
  {
   "cell_type": "code",
   "execution_count": 265,
   "id": "eb99b5cd",
   "metadata": {
    "ExecuteTime": {
     "end_time": "2021-08-03T23:32:55.696315Z",
     "start_time": "2021-08-03T23:32:55.314968Z"
    },
    "hidden": true
   },
   "outputs": [
    {
     "data": {
      "image/png": "[encoded data removed]",
      "text/plain": [
       "<Figure size 1080x720 with 3 Axes>"
      ]
     },
     "metadata": {},
     "output_type": "display_data"
    }
   ],
   "source": [
    "# filtering sales that happened during a state holiday\n",
    "aux1 = df1[(df1['state_holiday']!='0') & (df1['sales']>0)]\n",
    "\n",
    "plt.subplot(1,3,1)\n",
    "sns.boxplot(x='state_holiday', y='sales', data=aux1);\n",
    "\n",
    "plt.subplot(1,3,2)\n",
    "sns.boxplot(x='store_type', y='sales', data=aux1);\n",
    "\n",
    "plt.subplot(1,3,3)\n",
    "sns.boxplot(x='assortment', y='sales', data=aux1);"
   ]
  },
  {
   "cell_type": "markdown",
   "id": "df92caaf",
   "metadata": {
    "heading_collapsed": true
   },
   "source": [
    "# <FONT COLOR='RED'> FEATURE ENGINEERING"
   ]
  },
  {
   "cell_type": "code",
   "execution_count": 266,
   "id": "71e3125c",
   "metadata": {
    "ExecuteTime": {
     "end_time": "2021-08-03T23:32:55.760373Z",
     "start_time": "2021-08-03T23:32:55.697316Z"
    },
    "hidden": true
   },
   "outputs": [],
   "source": [
    "df2=df1.copy()"
   ]
  },
  {
   "cell_type": "markdown",
   "id": "2f1c94a6",
   "metadata": {
    "heading_collapsed": true,
    "hidden": true
   },
   "source": [
    "## <font color=red> Mind Map Hypothesis "
   ]
  },
  {
   "cell_type": "code",
   "execution_count": 267,
   "id": "9868dd89",
   "metadata": {
    "ExecuteTime": {
     "end_time": "2021-08-03T23:32:55.776388Z",
     "start_time": "2021-08-03T23:32:55.761374Z"
    },
    "hidden": true
   },
   "outputs": [],
   "source": [
    "# importing hipothesis mind map\n",
    "# Image('img/MindMapHypothesis.png')"
   ]
  },
  {
   "cell_type": "markdown",
   "id": "e9289808",
   "metadata": {
    "hidden": true
   },
   "source": [
    "## Creating Hypothesis"
   ]
  },
  {
   "cell_type": "markdown",
   "id": "05b0492a",
   "metadata": {
    "hidden": true
   },
   "source": [
    "1. Stores with more assortment should sell more.\n",
    "\n",
    "2. Stores with closer competitors should sell less.\n",
    "\n",
    "3. Stores with longer competitors should sell more. \n",
    "\n",
    "4. Stores with longer active promotions should sell more.\n",
    "\n",
    "5. Stores with more promotion days should sell more.\n",
    "\n",
    "6. Stores with more consecutive promotions should sell more.\n",
    "\n",
    "7. Stores open during Christmas holiday sHould sell more.\n",
    "\n",
    "8. Stores should sell more over the years.\n",
    "\n",
    "9. Stores should sell more in the second semester.\n",
    "\n",
    "10. Stores should sell more after the 10th of each month.\n",
    "\n",
    "11. Stores should sell less on weekends.\n",
    "\n",
    "12. Stores should sell less during school holidays."
   ]
  },
  {
   "cell_type": "markdown",
   "id": "2235db07",
   "metadata": {
    "heading_collapsed": true,
    "hidden": true
   },
   "source": [
    "## Feature Engineering"
   ]
  },
  {
   "cell_type": "code",
   "execution_count": 268,
   "id": "8a103483",
   "metadata": {
    "ExecuteTime": {
     "end_time": "2021-08-03T23:32:55.839445Z",
     "start_time": "2021-08-03T23:32:55.777389Z"
    },
    "hidden": true
   },
   "outputs": [
    {
     "data": {
      "text/html": [
       "<div>\n",
       "<style scoped>\n",
       "    .dataframe tbody tr th:only-of-type {\n",
       "        vertical-align: middle;\n",
       "    }\n",
       "\n",
       "    .dataframe tbody tr th {\n",
       "        vertical-align: top;\n",
       "    }\n",
       "\n",
       "    .dataframe thead th {\n",
       "        text-align: right;\n",
       "    }\n",
       "</style>\n",
       "<table border=\"1\" class=\"dataframe\">\n",
       "  <thead>\n",
       "    <tr style=\"text-align: right;\">\n",
       "      <th></th>\n",
       "      <th>store</th>\n",
       "      <th>day_of_week</th>\n",
       "      <th>date</th>\n",
       "      <th>sales</th>\n",
       "      <th>customers</th>\n",
       "      <th>open</th>\n",
       "      <th>promo</th>\n",
       "      <th>state_holiday</th>\n",
       "      <th>school_holiday</th>\n",
       "      <th>store_type</th>\n",
       "      <th>assortment</th>\n",
       "      <th>competition_distance</th>\n",
       "      <th>competition_open_since_month</th>\n",
       "      <th>competition_open_since_year</th>\n",
       "      <th>promo2</th>\n",
       "      <th>promo2_since_week</th>\n",
       "      <th>promo2_since_year</th>\n",
       "      <th>promo_interval</th>\n",
       "      <th>month_map</th>\n",
       "      <th>is_promo</th>\n",
       "    </tr>\n",
       "  </thead>\n",
       "  <tbody>\n",
       "    <tr>\n",
       "      <th>0</th>\n",
       "      <td>1</td>\n",
       "      <td>5</td>\n",
       "      <td>2015-07-31</td>\n",
       "      <td>5263</td>\n",
       "      <td>555</td>\n",
       "      <td>1</td>\n",
       "      <td>1</td>\n",
       "      <td>0</td>\n",
       "      <td>1</td>\n",
       "      <td>c</td>\n",
       "      <td>a</td>\n",
       "      <td>1270.0</td>\n",
       "      <td>9</td>\n",
       "      <td>2008</td>\n",
       "      <td>0</td>\n",
       "      <td>31</td>\n",
       "      <td>2015</td>\n",
       "      <td>0</td>\n",
       "      <td>Jul</td>\n",
       "      <td>0</td>\n",
       "    </tr>\n",
       "    <tr>\n",
       "      <th>1</th>\n",
       "      <td>2</td>\n",
       "      <td>5</td>\n",
       "      <td>2015-07-31</td>\n",
       "      <td>6064</td>\n",
       "      <td>625</td>\n",
       "      <td>1</td>\n",
       "      <td>1</td>\n",
       "      <td>0</td>\n",
       "      <td>1</td>\n",
       "      <td>a</td>\n",
       "      <td>a</td>\n",
       "      <td>570.0</td>\n",
       "      <td>11</td>\n",
       "      <td>2007</td>\n",
       "      <td>1</td>\n",
       "      <td>13</td>\n",
       "      <td>2010</td>\n",
       "      <td>Jan,Apr,Jul,Oct</td>\n",
       "      <td>Jul</td>\n",
       "      <td>1</td>\n",
       "    </tr>\n",
       "    <tr>\n",
       "      <th>2</th>\n",
       "      <td>3</td>\n",
       "      <td>5</td>\n",
       "      <td>2015-07-31</td>\n",
       "      <td>8314</td>\n",
       "      <td>821</td>\n",
       "      <td>1</td>\n",
       "      <td>1</td>\n",
       "      <td>0</td>\n",
       "      <td>1</td>\n",
       "      <td>a</td>\n",
       "      <td>a</td>\n",
       "      <td>14130.0</td>\n",
       "      <td>12</td>\n",
       "      <td>2006</td>\n",
       "      <td>1</td>\n",
       "      <td>14</td>\n",
       "      <td>2011</td>\n",
       "      <td>Jan,Apr,Jul,Oct</td>\n",
       "      <td>Jul</td>\n",
       "      <td>1</td>\n",
       "    </tr>\n",
       "    <tr>\n",
       "      <th>3</th>\n",
       "      <td>4</td>\n",
       "      <td>5</td>\n",
       "      <td>2015-07-31</td>\n",
       "      <td>13995</td>\n",
       "      <td>1498</td>\n",
       "      <td>1</td>\n",
       "      <td>1</td>\n",
       "      <td>0</td>\n",
       "      <td>1</td>\n",
       "      <td>c</td>\n",
       "      <td>c</td>\n",
       "      <td>620.0</td>\n",
       "      <td>9</td>\n",
       "      <td>2009</td>\n",
       "      <td>0</td>\n",
       "      <td>31</td>\n",
       "      <td>2015</td>\n",
       "      <td>0</td>\n",
       "      <td>Jul</td>\n",
       "      <td>0</td>\n",
       "    </tr>\n",
       "    <tr>\n",
       "      <th>4</th>\n",
       "      <td>5</td>\n",
       "      <td>5</td>\n",
       "      <td>2015-07-31</td>\n",
       "      <td>4822</td>\n",
       "      <td>559</td>\n",
       "      <td>1</td>\n",
       "      <td>1</td>\n",
       "      <td>0</td>\n",
       "      <td>1</td>\n",
       "      <td>a</td>\n",
       "      <td>a</td>\n",
       "      <td>29910.0</td>\n",
       "      <td>4</td>\n",
       "      <td>2015</td>\n",
       "      <td>0</td>\n",
       "      <td>31</td>\n",
       "      <td>2015</td>\n",
       "      <td>0</td>\n",
       "      <td>Jul</td>\n",
       "      <td>0</td>\n",
       "    </tr>\n",
       "  </tbody>\n",
       "</table>\n",
       "</div>"
      ],
      "text/plain": [
       "   store  day_of_week       date  sales  customers  open  promo state_holiday  \\\n",
       "0      1            5 2015-07-31   5263        555     1      1             0   \n",
       "1      2            5 2015-07-31   6064        625     1      1             0   \n",
       "2      3            5 2015-07-31   8314        821     1      1             0   \n",
       "3      4            5 2015-07-31  13995       1498     1      1             0   \n",
       "4      5            5 2015-07-31   4822        559     1      1             0   \n",
       "\n",
       "   school_holiday store_type assortment  competition_distance  \\\n",
       "0               1          c          a                1270.0   \n",
       "1               1          a          a                 570.0   \n",
       "2               1          a          a               14130.0   \n",
       "3               1          c          c                 620.0   \n",
       "4               1          a          a               29910.0   \n",
       "\n",
       "   competition_open_since_month  competition_open_since_year  promo2  \\\n",
       "0                             9                         2008       0   \n",
       "1                            11                         2007       1   \n",
       "2                            12                         2006       1   \n",
       "3                             9                         2009       0   \n",
       "4                             4                         2015       0   \n",
       "\n",
       "   promo2_since_week  promo2_since_year   promo_interval month_map  is_promo  \n",
       "0                 31               2015                0       Jul         0  \n",
       "1                 13               2010  Jan,Apr,Jul,Oct       Jul         1  \n",
       "2                 14               2011  Jan,Apr,Jul,Oct       Jul         1  \n",
       "3                 31               2015                0       Jul         0  \n",
       "4                 31               2015                0       Jul         0  "
      ]
     },
     "execution_count": 268,
     "metadata": {},
     "output_type": "execute_result"
    }
   ],
   "source": [
    "df2 = df1.copy()\n",
    "df2.head()"
   ]
  },
  {
   "cell_type": "code",
   "execution_count": 269,
   "id": "1494a273",
   "metadata": {
    "ExecuteTime": {
     "end_time": "2021-08-03T23:33:02.273104Z",
     "start_time": "2021-08-03T23:32:55.839445Z"
    },
    "hidden": true
   },
   "outputs": [],
   "source": [
    "# creating 'year' from 'date'\n",
    "df2['year'] = df2['date'].dt.year\n",
    "\n",
    "# creating 'month' from 'date'\n",
    "df2['month'] = df2['date'].dt.month\n",
    "\n",
    "# creating 'day' from 'date'\n",
    "df2['day'] = df2['date'].dt.day\n",
    "\n",
    "# creating 'week_of_year' from 'date'\n",
    "df2['week_of_year'] = df2['date'].dt.isocalendar().week.astype(np.int64)\n",
    "\n",
    "# creating 'year_week' from 'date'\n",
    "df2['year_week'] = df2['date'].dt.strftime('%Y-%W')"
   ]
  },
  {
   "cell_type": "code",
   "execution_count": 270,
   "id": "c94f337e",
   "metadata": {
    "ExecuteTime": {
     "end_time": "2021-08-03T23:33:02.430247Z",
     "start_time": "2021-08-03T23:33:02.274106Z"
    },
    "hidden": true
   },
   "outputs": [
    {
     "name": "stdout",
     "output_type": "stream",
     "text": [
      "date            datetime64[ns]\n",
      "year                     int64\n",
      "month                    int64\n",
      "day                      int64\n",
      "week_of_year             int64\n",
      "year_week               object\n",
      "dtype: object\n"
     ]
    },
    {
     "data": {
      "text/html": [
       "<div>\n",
       "<style scoped>\n",
       "    .dataframe tbody tr th:only-of-type {\n",
       "        vertical-align: middle;\n",
       "    }\n",
       "\n",
       "    .dataframe tbody tr th {\n",
       "        vertical-align: top;\n",
       "    }\n",
       "\n",
       "    .dataframe thead th {\n",
       "        text-align: right;\n",
       "    }\n",
       "</style>\n",
       "<table border=\"1\" class=\"dataframe\">\n",
       "  <thead>\n",
       "    <tr style=\"text-align: right;\">\n",
       "      <th></th>\n",
       "      <th>date</th>\n",
       "      <th>year</th>\n",
       "      <th>month</th>\n",
       "      <th>day</th>\n",
       "      <th>week_of_year</th>\n",
       "      <th>year_week</th>\n",
       "    </tr>\n",
       "  </thead>\n",
       "  <tbody>\n",
       "    <tr>\n",
       "      <th>0</th>\n",
       "      <td>2015-07-31</td>\n",
       "      <td>2015</td>\n",
       "      <td>7</td>\n",
       "      <td>31</td>\n",
       "      <td>31</td>\n",
       "      <td>2015-30</td>\n",
       "    </tr>\n",
       "    <tr>\n",
       "      <th>1</th>\n",
       "      <td>2015-07-31</td>\n",
       "      <td>2015</td>\n",
       "      <td>7</td>\n",
       "      <td>31</td>\n",
       "      <td>31</td>\n",
       "      <td>2015-30</td>\n",
       "    </tr>\n",
       "    <tr>\n",
       "      <th>2</th>\n",
       "      <td>2015-07-31</td>\n",
       "      <td>2015</td>\n",
       "      <td>7</td>\n",
       "      <td>31</td>\n",
       "      <td>31</td>\n",
       "      <td>2015-30</td>\n",
       "    </tr>\n",
       "    <tr>\n",
       "      <th>3</th>\n",
       "      <td>2015-07-31</td>\n",
       "      <td>2015</td>\n",
       "      <td>7</td>\n",
       "      <td>31</td>\n",
       "      <td>31</td>\n",
       "      <td>2015-30</td>\n",
       "    </tr>\n",
       "    <tr>\n",
       "      <th>4</th>\n",
       "      <td>2015-07-31</td>\n",
       "      <td>2015</td>\n",
       "      <td>7</td>\n",
       "      <td>31</td>\n",
       "      <td>31</td>\n",
       "      <td>2015-30</td>\n",
       "    </tr>\n",
       "  </tbody>\n",
       "</table>\n",
       "</div>"
      ],
      "text/plain": [
       "        date  year  month  day  week_of_year year_week\n",
       "0 2015-07-31  2015      7   31            31   2015-30\n",
       "1 2015-07-31  2015      7   31            31   2015-30\n",
       "2 2015-07-31  2015      7   31            31   2015-30\n",
       "3 2015-07-31  2015      7   31            31   2015-30\n",
       "4 2015-07-31  2015      7   31            31   2015-30"
      ]
     },
     "execution_count": 270,
     "metadata": {},
     "output_type": "execute_result"
    }
   ],
   "source": [
    "print(df2[['date','year','month','day','week_of_year','year_week']].dtypes)\n",
    "df2[['date','year','month','day','week_of_year','year_week']].head()"
   ]
  },
  {
   "cell_type": "code",
   "execution_count": 271,
   "id": "7f123db4",
   "metadata": {
    "ExecuteTime": {
     "end_time": "2021-08-03T23:33:25.548357Z",
     "start_time": "2021-08-03T23:33:02.431248Z"
    },
    "hidden": true
   },
   "outputs": [],
   "source": [
    "# creating 'competition_open_since' by combining 'competition_open_since_year and 'competition_open_since_month'\n",
    "df2['competition_open_since'] = df2.apply(lambda x: datetime.datetime(year=x['competition_open_since_year'], month=x['competition_open_since_month'], day=1), axis=1)\n",
    "\n",
    "# creating 'competition_open_timeinmonths' by calculating the difference between 'date' and 'competition_open_since':\n",
    "df2['competition_open_timeinmonths'] = ((df2['date']-df2['competition_open_since'])/30).apply(lambda x: x.days).astype('int64')"
   ]
  },
  {
   "cell_type": "code",
   "execution_count": 272,
   "id": "787e33e6",
   "metadata": {
    "ExecuteTime": {
     "end_time": "2021-08-03T23:33:25.644445Z",
     "start_time": "2021-08-03T23:33:25.549359Z"
    },
    "hidden": true
   },
   "outputs": [
    {
     "name": "stdout",
     "output_type": "stream",
     "text": [
      "date                             datetime64[ns]\n",
      "competition_open_since_year               int64\n",
      "competition_open_since_month              int64\n",
      "competition_open_since           datetime64[ns]\n",
      "competition_open_timeinmonths             int64\n",
      "dtype: object\n"
     ]
    },
    {
     "data": {
      "text/html": [
       "<div>\n",
       "<style scoped>\n",
       "    .dataframe tbody tr th:only-of-type {\n",
       "        vertical-align: middle;\n",
       "    }\n",
       "\n",
       "    .dataframe tbody tr th {\n",
       "        vertical-align: top;\n",
       "    }\n",
       "\n",
       "    .dataframe thead th {\n",
       "        text-align: right;\n",
       "    }\n",
       "</style>\n",
       "<table border=\"1\" class=\"dataframe\">\n",
       "  <thead>\n",
       "    <tr style=\"text-align: right;\">\n",
       "      <th></th>\n",
       "      <th>date</th>\n",
       "      <th>competition_open_since_year</th>\n",
       "      <th>competition_open_since_month</th>\n",
       "      <th>competition_open_since</th>\n",
       "      <th>competition_open_timeinmonths</th>\n",
       "    </tr>\n",
       "  </thead>\n",
       "  <tbody>\n",
       "    <tr>\n",
       "      <th>0</th>\n",
       "      <td>2015-07-31</td>\n",
       "      <td>2008</td>\n",
       "      <td>9</td>\n",
       "      <td>2008-09-01</td>\n",
       "      <td>84</td>\n",
       "    </tr>\n",
       "    <tr>\n",
       "      <th>1</th>\n",
       "      <td>2015-07-31</td>\n",
       "      <td>2007</td>\n",
       "      <td>11</td>\n",
       "      <td>2007-11-01</td>\n",
       "      <td>94</td>\n",
       "    </tr>\n",
       "    <tr>\n",
       "      <th>2</th>\n",
       "      <td>2015-07-31</td>\n",
       "      <td>2006</td>\n",
       "      <td>12</td>\n",
       "      <td>2006-12-01</td>\n",
       "      <td>105</td>\n",
       "    </tr>\n",
       "    <tr>\n",
       "      <th>3</th>\n",
       "      <td>2015-07-31</td>\n",
       "      <td>2009</td>\n",
       "      <td>9</td>\n",
       "      <td>2009-09-01</td>\n",
       "      <td>71</td>\n",
       "    </tr>\n",
       "    <tr>\n",
       "      <th>4</th>\n",
       "      <td>2015-07-31</td>\n",
       "      <td>2015</td>\n",
       "      <td>4</td>\n",
       "      <td>2015-04-01</td>\n",
       "      <td>4</td>\n",
       "    </tr>\n",
       "  </tbody>\n",
       "</table>\n",
       "</div>"
      ],
      "text/plain": [
       "        date  competition_open_since_year  competition_open_since_month  \\\n",
       "0 2015-07-31                         2008                             9   \n",
       "1 2015-07-31                         2007                            11   \n",
       "2 2015-07-31                         2006                            12   \n",
       "3 2015-07-31                         2009                             9   \n",
       "4 2015-07-31                         2015                             4   \n",
       "\n",
       "  competition_open_since  competition_open_timeinmonths  \n",
       "0             2008-09-01                             84  \n",
       "1             2007-11-01                             94  \n",
       "2             2006-12-01                            105  \n",
       "3             2009-09-01                             71  \n",
       "4             2015-04-01                              4  "
      ]
     },
     "execution_count": 272,
     "metadata": {},
     "output_type": "execute_result"
    }
   ],
   "source": [
    "print(df2[['date','competition_open_since_year','competition_open_since_month',\n",
    "           'competition_open_since','competition_open_timeinmonths']].dtypes)\n",
    "\n",
    "df2[['date','competition_open_since_year','competition_open_since_month',\n",
    "     'competition_open_since','competition_open_timeinmonths']].head()"
   ]
  },
  {
   "cell_type": "code",
   "execution_count": 273,
   "id": "eb762be0",
   "metadata": {
    "ExecuteTime": {
     "end_time": "2021-08-03T23:33:45.036696Z",
     "start_time": "2021-08-03T23:33:25.645446Z"
    },
    "hidden": true
   },
   "outputs": [],
   "source": [
    "# creating 'promo_since' by combining 'promo2_since_year' and 'promo2_since_week'\n",
    "df2['promo_since'] = df2['promo2_since_year'].astype(str) + '-' + df2['promo2_since_week'].astype(str) # string type (year-week, ex: 2015-31)\n",
    "df2['promo_since'] = df2['promo_since'].apply(lambda x: datetime.datetime.strptime( x + '-1', '%Y-%W-%w' ) - datetime.timedelta(days=7))  # date type (yyyy-mm-dd)\n",
    "\n",
    "# creating 'promo_since_timeinweeks' by calculating the difference between 'date' and 'promo_since':\n",
    "df2['promo_since_timeinweeks'] = ((df2['date'] - df2['promo_since'])/7).apply( lambda x: x.days).astype(np.int64)"
   ]
  },
  {
   "cell_type": "code",
   "execution_count": 274,
   "id": "715550ab",
   "metadata": {
    "ExecuteTime": {
     "end_time": "2021-08-03T23:33:45.132783Z",
     "start_time": "2021-08-03T23:33:45.037697Z"
    },
    "hidden": true
   },
   "outputs": [
    {
     "name": "stdout",
     "output_type": "stream",
     "text": [
      "date                       datetime64[ns]\n",
      "promo2_since_year                   int64\n",
      "promo2_since_week                   int64\n",
      "promo_since                datetime64[ns]\n",
      "promo_since_timeinweeks             int64\n",
      "dtype: object\n"
     ]
    },
    {
     "data": {
      "text/html": [
       "<div>\n",
       "<style scoped>\n",
       "    .dataframe tbody tr th:only-of-type {\n",
       "        vertical-align: middle;\n",
       "    }\n",
       "\n",
       "    .dataframe tbody tr th {\n",
       "        vertical-align: top;\n",
       "    }\n",
       "\n",
       "    .dataframe thead th {\n",
       "        text-align: right;\n",
       "    }\n",
       "</style>\n",
       "<table border=\"1\" class=\"dataframe\">\n",
       "  <thead>\n",
       "    <tr style=\"text-align: right;\">\n",
       "      <th></th>\n",
       "      <th>date</th>\n",
       "      <th>promo2_since_year</th>\n",
       "      <th>promo2_since_week</th>\n",
       "      <th>promo_since</th>\n",
       "      <th>promo_since_timeinweeks</th>\n",
       "    </tr>\n",
       "  </thead>\n",
       "  <tbody>\n",
       "    <tr>\n",
       "      <th>0</th>\n",
       "      <td>2015-07-31</td>\n",
       "      <td>2015</td>\n",
       "      <td>31</td>\n",
       "      <td>2015-07-27</td>\n",
       "      <td>0</td>\n",
       "    </tr>\n",
       "    <tr>\n",
       "      <th>1</th>\n",
       "      <td>2015-07-31</td>\n",
       "      <td>2010</td>\n",
       "      <td>13</td>\n",
       "      <td>2010-03-22</td>\n",
       "      <td>279</td>\n",
       "    </tr>\n",
       "    <tr>\n",
       "      <th>2</th>\n",
       "      <td>2015-07-31</td>\n",
       "      <td>2011</td>\n",
       "      <td>14</td>\n",
       "      <td>2011-03-28</td>\n",
       "      <td>226</td>\n",
       "    </tr>\n",
       "    <tr>\n",
       "      <th>3</th>\n",
       "      <td>2015-07-31</td>\n",
       "      <td>2015</td>\n",
       "      <td>31</td>\n",
       "      <td>2015-07-27</td>\n",
       "      <td>0</td>\n",
       "    </tr>\n",
       "    <tr>\n",
       "      <th>4</th>\n",
       "      <td>2015-07-31</td>\n",
       "      <td>2015</td>\n",
       "      <td>31</td>\n",
       "      <td>2015-07-27</td>\n",
       "      <td>0</td>\n",
       "    </tr>\n",
       "  </tbody>\n",
       "</table>\n",
       "</div>"
      ],
      "text/plain": [
       "        date  promo2_since_year  promo2_since_week promo_since  \\\n",
       "0 2015-07-31               2015                 31  2015-07-27   \n",
       "1 2015-07-31               2010                 13  2010-03-22   \n",
       "2 2015-07-31               2011                 14  2011-03-28   \n",
       "3 2015-07-31               2015                 31  2015-07-27   \n",
       "4 2015-07-31               2015                 31  2015-07-27   \n",
       "\n",
       "   promo_since_timeinweeks  \n",
       "0                        0  \n",
       "1                      279  \n",
       "2                      226  \n",
       "3                        0  \n",
       "4                        0  "
      ]
     },
     "execution_count": 274,
     "metadata": {},
     "output_type": "execute_result"
    }
   ],
   "source": [
    "print(df2[['date','promo2_since_year','promo2_since_week','promo_since','promo_since_timeinweeks']].dtypes)\n",
    "\n",
    "df2[['date','promo2_since_year','promo2_since_week','promo_since','promo_since_timeinweeks']].head()"
   ]
  },
  {
   "cell_type": "code",
   "execution_count": 275,
   "id": "301c2ca6",
   "metadata": {
    "ExecuteTime": {
     "end_time": "2021-08-03T23:33:45.291928Z",
     "start_time": "2021-08-03T23:33:45.133784Z"
    },
    "hidden": true
   },
   "outputs": [],
   "source": [
    "# changing 'assortment' attribute by given classification\n",
    "df2['assortment'] = df2['assortment'].apply(lambda x: 'basic' if x=='a' \n",
    "                                                 else 'extra' if x=='b' \n",
    "                                                 else 'extended')"
   ]
  },
  {
   "cell_type": "code",
   "execution_count": 276,
   "id": "8dd198dd",
   "metadata": {
    "ExecuteTime": {
     "end_time": "2021-08-03T23:33:45.323958Z",
     "start_time": "2021-08-03T23:33:45.293930Z"
    },
    "hidden": true
   },
   "outputs": [
    {
     "name": "stdout",
     "output_type": "stream",
     "text": [
      "assortment    object\n",
      "dtype: object\n"
     ]
    },
    {
     "data": {
      "text/html": [
       "<div>\n",
       "<style scoped>\n",
       "    .dataframe tbody tr th:only-of-type {\n",
       "        vertical-align: middle;\n",
       "    }\n",
       "\n",
       "    .dataframe tbody tr th {\n",
       "        vertical-align: top;\n",
       "    }\n",
       "\n",
       "    .dataframe thead th {\n",
       "        text-align: right;\n",
       "    }\n",
       "</style>\n",
       "<table border=\"1\" class=\"dataframe\">\n",
       "  <thead>\n",
       "    <tr style=\"text-align: right;\">\n",
       "      <th></th>\n",
       "      <th>assortment</th>\n",
       "    </tr>\n",
       "  </thead>\n",
       "  <tbody>\n",
       "    <tr>\n",
       "      <th>0</th>\n",
       "      <td>basic</td>\n",
       "    </tr>\n",
       "    <tr>\n",
       "      <th>1</th>\n",
       "      <td>basic</td>\n",
       "    </tr>\n",
       "    <tr>\n",
       "      <th>2</th>\n",
       "      <td>basic</td>\n",
       "    </tr>\n",
       "    <tr>\n",
       "      <th>3</th>\n",
       "      <td>extended</td>\n",
       "    </tr>\n",
       "    <tr>\n",
       "      <th>4</th>\n",
       "      <td>basic</td>\n",
       "    </tr>\n",
       "  </tbody>\n",
       "</table>\n",
       "</div>"
      ],
      "text/plain": [
       "  assortment\n",
       "0      basic\n",
       "1      basic\n",
       "2      basic\n",
       "3   extended\n",
       "4      basic"
      ]
     },
     "execution_count": 276,
     "metadata": {},
     "output_type": "execute_result"
    }
   ],
   "source": [
    "print(df2[['assortment']].dtypes)\n",
    "\n",
    "df2[['assortment']].head()"
   ]
  },
  {
   "cell_type": "code",
   "execution_count": 277,
   "id": "62df4cdb",
   "metadata": {
    "ExecuteTime": {
     "end_time": "2021-08-03T23:33:45.559171Z",
     "start_time": "2021-08-03T23:33:45.324958Z"
    },
    "hidden": true
   },
   "outputs": [],
   "source": [
    "# changing 'sate_holiday' attribute by given classification\n",
    "df2['state_holiday'] = df2['state_holiday'].apply (lambda x: 'Public holiday' if x=='a' \n",
    "                                                        else 'Easter holiday' if x=='b' \n",
    "                                                        else 'Christmas'      if x=='c'\n",
    "                                                        else 'regular day')"
   ]
  },
  {
   "cell_type": "code",
   "execution_count": 278,
   "id": "b1fe2ff1",
   "metadata": {
    "ExecuteTime": {
     "end_time": "2021-08-03T23:33:45.590200Z",
     "start_time": "2021-08-03T23:33:45.560172Z"
    },
    "hidden": true
   },
   "outputs": [
    {
     "name": "stdout",
     "output_type": "stream",
     "text": [
      "state_holiday    object\n",
      "dtype: object\n"
     ]
    },
    {
     "data": {
      "text/html": [
       "<div>\n",
       "<style scoped>\n",
       "    .dataframe tbody tr th:only-of-type {\n",
       "        vertical-align: middle;\n",
       "    }\n",
       "\n",
       "    .dataframe tbody tr th {\n",
       "        vertical-align: top;\n",
       "    }\n",
       "\n",
       "    .dataframe thead th {\n",
       "        text-align: right;\n",
       "    }\n",
       "</style>\n",
       "<table border=\"1\" class=\"dataframe\">\n",
       "  <thead>\n",
       "    <tr style=\"text-align: right;\">\n",
       "      <th></th>\n",
       "      <th>state_holiday</th>\n",
       "    </tr>\n",
       "  </thead>\n",
       "  <tbody>\n",
       "    <tr>\n",
       "      <th>0</th>\n",
       "      <td>regular day</td>\n",
       "    </tr>\n",
       "    <tr>\n",
       "      <th>1</th>\n",
       "      <td>regular day</td>\n",
       "    </tr>\n",
       "    <tr>\n",
       "      <th>2</th>\n",
       "      <td>regular day</td>\n",
       "    </tr>\n",
       "    <tr>\n",
       "      <th>3</th>\n",
       "      <td>regular day</td>\n",
       "    </tr>\n",
       "    <tr>\n",
       "      <th>4</th>\n",
       "      <td>regular day</td>\n",
       "    </tr>\n",
       "  </tbody>\n",
       "</table>\n",
       "</div>"
      ],
      "text/plain": [
       "  state_holiday\n",
       "0   regular day\n",
       "1   regular day\n",
       "2   regular day\n",
       "3   regular day\n",
       "4   regular day"
      ]
     },
     "execution_count": 278,
     "metadata": {},
     "output_type": "execute_result"
    }
   ],
   "source": [
    "print(df2[['state_holiday']].dtypes)\n",
    "\n",
    "df2[['state_holiday']].head()"
   ]
  },
  {
   "cell_type": "markdown",
   "id": "a0906709",
   "metadata": {
    "heading_collapsed": true
   },
   "source": [
    "# VARIABLE FILTERING"
   ]
  },
  {
   "cell_type": "code",
   "execution_count": 279,
   "id": "df8e74d7",
   "metadata": {
    "ExecuteTime": {
     "end_time": "2021-08-03T23:33:45.653257Z",
     "start_time": "2021-08-03T23:33:45.591201Z"
    },
    "hidden": true
   },
   "outputs": [],
   "source": [
    "df3=df2.copy()"
   ]
  },
  {
   "cell_type": "markdown",
   "id": "b85ba49e",
   "metadata": {
    "heading_collapsed": true,
    "hidden": true
   },
   "source": [
    "## Lines Filtering"
   ]
  },
  {
   "cell_type": "code",
   "execution_count": 280,
   "id": "ed0fbed9",
   "metadata": {
    "ExecuteTime": {
     "end_time": "2021-08-03T23:33:45.764358Z",
     "start_time": "2021-08-03T23:33:45.654258Z"
    },
    "hidden": true
   },
   "outputs": [],
   "source": [
    "df3 = df3[(df3['open']!=0) & (df3['sales']>0)]"
   ]
  },
  {
   "cell_type": "markdown",
   "id": "12707afb",
   "metadata": {
    "heading_collapsed": true,
    "hidden": true
   },
   "source": [
    "## Columns Selections"
   ]
  },
  {
   "cell_type": "code",
   "execution_count": 281,
   "id": "b9be0e77",
   "metadata": {
    "ExecuteTime": {
     "end_time": "2021-08-03T23:33:45.844431Z",
     "start_time": "2021-08-03T23:33:45.765359Z"
    },
    "hidden": true
   },
   "outputs": [],
   "source": [
    "cols_drop = ['customers','open','promo_interval','month_map']\n",
    "df3 = df3.drop(cols_drop, axis=1)"
   ]
  },
  {
   "cell_type": "code",
   "execution_count": 282,
   "id": "77da3dfa",
   "metadata": {
    "ExecuteTime": {
     "end_time": "2021-08-03T23:33:45.859445Z",
     "start_time": "2021-08-03T23:33:45.845432Z"
    },
    "hidden": true
   },
   "outputs": [
    {
     "data": {
      "text/plain": [
       "Index(['store', 'day_of_week', 'date', 'sales', 'promo', 'state_holiday',\n",
       "       'school_holiday', 'store_type', 'assortment', 'competition_distance',\n",
       "       'competition_open_since_month', 'competition_open_since_year', 'promo2',\n",
       "       'promo2_since_week', 'promo2_since_year', 'is_promo', 'year', 'month',\n",
       "       'day', 'week_of_year', 'year_week', 'competition_open_since',\n",
       "       'competition_open_timeinmonths', 'promo_since',\n",
       "       'promo_since_timeinweeks'],\n",
       "      dtype='object')"
      ]
     },
     "execution_count": 282,
     "metadata": {},
     "output_type": "execute_result"
    }
   ],
   "source": [
    "df3.columns"
   ]
  },
  {
   "cell_type": "markdown",
   "id": "174d57b0",
   "metadata": {
    "heading_collapsed": true
   },
   "source": [
    "# <font color=red>EDA"
   ]
  },
  {
   "cell_type": "code",
   "execution_count": 283,
   "id": "5f731ee6",
   "metadata": {
    "ExecuteTime": {
     "end_time": "2021-08-03T23:33:45.890473Z",
     "start_time": "2021-08-03T23:33:45.860446Z"
    },
    "hidden": true
   },
   "outputs": [],
   "source": [
    "df4=df3.copy()"
   ]
  },
  {
   "cell_type": "code",
   "execution_count": 284,
   "id": "97ccdebe",
   "metadata": {
    "ExecuteTime": {
     "end_time": "2021-08-03T23:33:45.953530Z",
     "start_time": "2021-08-03T23:33:45.891474Z"
    },
    "hidden": true
   },
   "outputs": [],
   "source": [
    "num_df4 = df4.select_dtypes(include=['int64','float64'])\n",
    "cat_df4 = df4.select_dtypes(exclude=['int64','float64','datetime64[ns]'])"
   ]
  },
  {
   "cell_type": "markdown",
   "id": "6c97a673",
   "metadata": {
    "heading_collapsed": true,
    "hidden": true
   },
   "source": [
    "## Univariate Analysis"
   ]
  },
  {
   "cell_type": "markdown",
   "id": "d80b5a62",
   "metadata": {
    "heading_collapsed": true,
    "hidden": true
   },
   "source": [
    "### Response Variable"
   ]
  },
  {
   "cell_type": "code",
   "execution_count": 285,
   "id": "3ca9cf1c",
   "metadata": {
    "ExecuteTime": {
     "end_time": "2021-08-03T23:33:47.193161Z",
     "start_time": "2021-08-03T23:33:45.954532Z"
    },
    "hidden": true
   },
   "outputs": [
    {
     "data": {
      "image/png": "[encoded data removed]",
      "text/plain": [
       "<Figure size 360x360 with 1 Axes>"
      ]
     },
     "metadata": {},
     "output_type": "display_data"
    }
   ],
   "source": [
    "sns.displot(df4['sales'], legend=True, kde=False);"
   ]
  },
  {
   "cell_type": "markdown",
   "id": "099252e8",
   "metadata": {
    "heading_collapsed": true,
    "hidden": true
   },
   "source": [
    "### Numerical Variables"
   ]
  },
  {
   "cell_type": "code",
   "execution_count": 289,
   "id": "cd2ebfaa",
   "metadata": {
    "ExecuteTime": {
     "end_time": "2021-08-03T23:34:54.245609Z",
     "start_time": "2021-08-03T23:34:52.469993Z"
    },
    "hidden": true
   },
   "outputs": [
    {
     "data": {
      "image/png": "[encoded data removed]",
      "text/plain": [
       "<Figure size 1080x720 with 16 Axes>"
      ]
     },
     "metadata": {},
     "output_type": "display_data"
    }
   ],
   "source": [
    "num_df1.hist(bins=25);\n",
    "plt.tight_layout()"
   ]
  },
  {
   "cell_type": "markdown",
   "id": "7bb99176",
   "metadata": {
    "heading_collapsed": true,
    "hidden": true
   },
   "source": [
    "### <font color=red>Categorical Variables"
   ]
  },
  {
   "cell_type": "code",
   "execution_count": 287,
   "id": "2cb2d4df",
   "metadata": {
    "ExecuteTime": {
     "end_time": "2021-08-03T23:33:48.827965Z",
     "start_time": "2021-08-03T23:33:48.812950Z"
    },
    "hidden": true
   },
   "outputs": [
    {
     "data": {
      "text/html": [
       "<div>\n",
       "<style scoped>\n",
       "    .dataframe tbody tr th:only-of-type {\n",
       "        vertical-align: middle;\n",
       "    }\n",
       "\n",
       "    .dataframe tbody tr th {\n",
       "        vertical-align: top;\n",
       "    }\n",
       "\n",
       "    .dataframe thead th {\n",
       "        text-align: right;\n",
       "    }\n",
       "</style>\n",
       "<table border=\"1\" class=\"dataframe\">\n",
       "  <thead>\n",
       "    <tr style=\"text-align: right;\">\n",
       "      <th></th>\n",
       "      <th>state_holiday</th>\n",
       "      <th>store_type</th>\n",
       "      <th>assortment</th>\n",
       "      <th>promo_interval</th>\n",
       "      <th>month_map</th>\n",
       "    </tr>\n",
       "  </thead>\n",
       "  <tbody>\n",
       "    <tr>\n",
       "      <th>0</th>\n",
       "      <td>0</td>\n",
       "      <td>c</td>\n",
       "      <td>a</td>\n",
       "      <td>0</td>\n",
       "      <td>Jul</td>\n",
       "    </tr>\n",
       "    <tr>\n",
       "      <th>1</th>\n",
       "      <td>0</td>\n",
       "      <td>a</td>\n",
       "      <td>a</td>\n",
       "      <td>Jan,Apr,Jul,Oct</td>\n",
       "      <td>Jul</td>\n",
       "    </tr>\n",
       "    <tr>\n",
       "      <th>2</th>\n",
       "      <td>0</td>\n",
       "      <td>a</td>\n",
       "      <td>a</td>\n",
       "      <td>Jan,Apr,Jul,Oct</td>\n",
       "      <td>Jul</td>\n",
       "    </tr>\n",
       "    <tr>\n",
       "      <th>3</th>\n",
       "      <td>0</td>\n",
       "      <td>c</td>\n",
       "      <td>c</td>\n",
       "      <td>0</td>\n",
       "      <td>Jul</td>\n",
       "    </tr>\n",
       "    <tr>\n",
       "      <th>4</th>\n",
       "      <td>0</td>\n",
       "      <td>a</td>\n",
       "      <td>a</td>\n",
       "      <td>0</td>\n",
       "      <td>Jul</td>\n",
       "    </tr>\n",
       "  </tbody>\n",
       "</table>\n",
       "</div>"
      ],
      "text/plain": [
       "  state_holiday store_type assortment   promo_interval month_map\n",
       "0             0          c          a                0       Jul\n",
       "1             0          a          a  Jan,Apr,Jul,Oct       Jul\n",
       "2             0          a          a  Jan,Apr,Jul,Oct       Jul\n",
       "3             0          c          c                0       Jul\n",
       "4             0          a          a                0       Jul"
      ]
     },
     "execution_count": 287,
     "metadata": {},
     "output_type": "execute_result"
    }
   ],
   "source": [
    "cat_df1.head()"
   ]
  },
  {
   "cell_type": "code",
   "execution_count": 290,
   "id": "26488adb",
   "metadata": {
    "ExecuteTime": {
     "end_time": "2021-08-03T23:36:08.339008Z",
     "start_time": "2021-08-03T23:35:43.214172Z"
    },
    "hidden": true
   },
   "outputs": [
    {
     "data": {
      "image/png": "[encoded data removed]",
      "text/plain": [
       "<Figure size 1080x720 with 6 Axes>"
      ]
     },
     "metadata": {},
     "output_type": "display_data"
    }
   ],
   "source": [
    "a = df4[df4['state_holiday'] != 'regular_day']\n",
    "\n",
    "# sales by state holiday\n",
    "plt.subplot(3,2,1)\n",
    "sns.countplot(data = a, x = a[\"state_holiday\"])\n",
    "\n",
    "plt.subplot(3,2,2)\n",
    "sns.kdeplot(data = df4, x = \"sales\", hue = a[\"state_holiday\"], multiple = \"stack\").set_title(\"Sales by state holidays\")\n",
    "\n",
    "\n",
    "# sales by store type\n",
    "plt.subplot(3,2,3)\n",
    "sns.countplot(data = df4, x = df4['store_type'])\n",
    "\n",
    "plt.subplot(3,2,4)\n",
    "sns.kdeplot(data = df4, x = \"sales\", hue = \"store_type\", multiple = \"stack\").set_title(\"Sales by store type\")\n",
    "\n",
    "\n",
    "# sales by assortment\n",
    "plt.subplot(3,2,5)\n",
    "sns.countplot(data = df4, x = df4['assortment'])\n",
    "\n",
    "plt.subplot(3,2,6)\n",
    "sns.kdeplot (data = df4, x = \"sales\", hue = \"assortment\", multiple = \"stack\").set_title(\"Sales by assortment\");\n",
    "\n",
    "plt.tight_layout()"
   ]
  },
  {
   "cell_type": "markdown",
   "id": "b5736b82",
   "metadata": {
    "heading_collapsed": true,
    "hidden": true
   },
   "source": [
    "## <font color=red>Bivariate Analysis"
   ]
  },
  {
   "cell_type": "markdown",
   "id": "f4ec1301",
   "metadata": {
    "hidden": true
   },
   "source": [
    "Hypothesis Resume"
   ]
  },
  {
   "cell_type": "code",
   "execution_count": 294,
   "id": "f64c72b7",
   "metadata": {
    "ExecuteTime": {
     "end_time": "2021-08-03T23:37:40.175098Z",
     "start_time": "2021-08-03T23:37:40.167091Z"
    },
    "hidden": true
   },
   "outputs": [
    {
     "name": "stdout",
     "output_type": "stream",
     "text": [
      "Hypothesis    Conclusion    Relevance\n",
      "------------  ------------  -----------\n",
      "H1            False         Low\n",
      "H2            False         Medium\n",
      "H3            False         Medium\n",
      "H4            False         Low\n",
      "H5            False         Low\n",
      "H6            False         Low\n",
      "H7            False         Low\n",
      "H8            False         Low\n",
      "H9            False         High\n",
      "H10           True          High\n",
      "H11           True          High\n",
      "H12           True          High\n"
     ]
    }
   ],
   "source": [
    "tab = [ ['Hypothesis', 'Conclusion', 'Relevance'],\n",
    "        ['H1','False','Low'],\n",
    "        ['H2','False','Medium'],\n",
    "        ['H3','False','Medium'],\n",
    "        ['H4','False','Low'],\n",
    "        ['H5','False','Low'],\n",
    "        ['H6','False','Low'],\n",
    "        ['H7','False','Low'],\n",
    "        ['H8','False','Low'],\n",
    "        ['H9','False','High'],\n",
    "        ['H10','True','High'],\n",
    "        ['H11','True','High'],\n",
    "        ['H12','True','High'],\n",
    "      ]\n",
    "\n",
    "print(tabulate(tab, headers = 'firstrow'))"
   ]
  },
  {
   "cell_type": "markdown",
   "id": "4f1e17b1",
   "metadata": {
    "hidden": true
   },
   "source": [
    "Stores with more assortment should sell more.\n",
    "\n",
    "Stores with closer competitors should sell less.\n",
    "\n",
    "Stores with longer competitors should sell more.\n",
    "\n",
    "Stores with longer active promotions should sell more.\n",
    "\n",
    "Stores with more promotion days should sell more.\n",
    "\n",
    "Stores with more consecutive promotions should sell more.\n",
    "\n",
    "Stores open during Christmas holiday sHould sell more.\n",
    "\n",
    "Stores should sell more over the years.\n",
    "\n",
    "Stores should sell more in the second semester.\n",
    "\n",
    "Stores should sell more after the 10th of each month.\n",
    "\n",
    "Stores should sell less on weekends.\n",
    "\n",
    "Stores should sell less during school holidays."
   ]
  },
  {
   "cell_type": "markdown",
   "id": "cb4f0c90",
   "metadata": {
    "heading_collapsed": true,
    "hidden": true
   },
   "source": [
    "## Multivariate Analysis"
   ]
  },
  {
   "cell_type": "markdown",
   "id": "f3d75041",
   "metadata": {
    "heading_collapsed": true,
    "hidden": true
   },
   "source": [
    "### Numerical Attributes"
   ]
  },
  {
   "cell_type": "code",
   "execution_count": 317,
   "id": "d049d5b7",
   "metadata": {
    "ExecuteTime": {
     "end_time": "2021-08-04T00:54:22.765262Z",
     "start_time": "2021-08-04T00:54:21.472086Z"
    },
    "hidden": true
   },
   "outputs": [
    {
     "data": {
      "image/png": "[encoded data removed]",
      "text/plain": [
       "<Figure size 1296x1296 with 2 Axes>"
      ]
     },
     "metadata": {},
     "output_type": "display_data"
    }
   ],
   "source": [
    "correlation = num_df4.corr(method = 'pearson')\n",
    "\n",
    "corr_mask = np.triu(correlation)\n",
    "\n",
    "plt.figure(figsize=(18,18))\n",
    "sns.heatmap(correlation, \n",
    "            cmap='YlOrRd', \n",
    "            annot=True, \n",
    "            annot_kws={'fontsize':'small'},\n",
    "            fmt='.1g',\n",
    "            linewidths=0.8, \n",
    "            square=True,\n",
    "            mask=corr_mask);"
   ]
  },
  {
   "cell_type": "markdown",
   "id": "272491b2",
   "metadata": {
    "heading_collapsed": true,
    "hidden": true
   },
   "source": [
    "### Categorical Attributes"
   ]
  },
  {
   "cell_type": "code",
   "execution_count": null,
   "id": "64bd8735",
   "metadata": {
    "hidden": true
   },
   "outputs": [],
   "source": [
    "df4.dtypes"
   ]
  },
  {
   "cell_type": "code",
   "execution_count": 325,
   "id": "da007090",
   "metadata": {
    "ExecuteTime": {
     "end_time": "2021-08-04T01:08:23.059720Z",
     "start_time": "2021-08-04T01:08:21.660447Z"
    },
    "hidden": true
   },
   "outputs": [
    {
     "name": "stdout",
     "output_type": "stream",
     "text": [
      "               state_holiday  store_type  assortment\n",
      "state_holiday           1.00        0.07        0.07\n",
      "store_type              0.07        1.00        0.54\n",
      "assortment              0.07        0.54        1.00 \n",
      "\n"
     ]
    },
    {
     "data": {
      "text/plain": [
       "<AxesSubplot:>"
      ]
     },
     "execution_count": 325,
     "metadata": {},
     "output_type": "execute_result"
    },
    {
     "data": {
      "image/png": "[encoded data removed]",
      "text/plain": [
       "<Figure size 1080x720 with 2 Axes>"
      ]
     },
     "metadata": {},
     "output_type": "display_data"
    }
   ],
   "source": [
    "# calculating Cramer V (formula at Helper Function section)\n",
    "\n",
    "a1 = cramer_v(cat_df4['state_holiday'], cat_df4['state_holiday'])\n",
    "a2 = cramer_v(cat_df4['state_holiday'], cat_df4['store_type'])\n",
    "a3 = cramer_v(cat_df4['state_holiday'], cat_df4['assortment'])\n",
    "\n",
    "a4 = cramer_v(cat_df4['store_type'], cat_df4['state_holiday'])\n",
    "a5 = cramer_v(cat_df4['store_type'], cat_df4['store_type'])\n",
    "a6 = cramer_v(cat_df4['store_type'], cat_df4['assortment'])\n",
    "\n",
    "a7 = cramer_v(cat_df4['assortment'], cat_df4['state_holiday'])\n",
    "a8 = cramer_v(cat_df4['assortment'], cat_df4['store_type'])\n",
    "a9 = cramer_v(cat_df4['assortment'], cat_df4['assortment'])\n",
    "\n",
    "# final dataset \n",
    "t = pd.DataFrame({'state_holiday': [ a1,a2,a3],\n",
    "                  'store_type':    [ a4,a5,a6],\n",
    "                  'assortment':    [ a7,a8,a9]})\n",
    "\n",
    "t = t.set_index(t.columns)\n",
    "print (t, '\\n')\n",
    "\n",
    "sns.heatmap (data=t, annot=True)"
   ]
  },
  {
   "cell_type": "markdown",
   "id": "cfe9059a",
   "metadata": {
    "heading_collapsed": true
   },
   "source": [
    "# DATA PREPARATION"
   ]
  },
  {
   "cell_type": "code",
   "execution_count": 335,
   "id": "bd61f348",
   "metadata": {
    "ExecuteTime": {
     "end_time": "2021-08-04T01:27:30.693208Z",
     "start_time": "2021-08-04T01:27:30.629150Z"
    },
    "hidden": true
   },
   "outputs": [],
   "source": [
    "df5=df4.copy()"
   ]
  },
  {
   "cell_type": "markdown",
   "id": "7f94fe58",
   "metadata": {
    "hidden": true
   },
   "source": [
    "## Rescaling"
   ]
  },
  {
   "cell_type": "code",
   "execution_count": 336,
   "id": "9ca42d0b",
   "metadata": {
    "ExecuteTime": {
     "end_time": "2021-08-04T01:27:31.027513Z",
     "start_time": "2021-08-04T01:27:30.996484Z"
    },
    "collapsed": true,
    "hidden": true
   },
   "outputs": [
    {
     "data": {
      "text/html": [
       "<div>\n",
       "<style scoped>\n",
       "    .dataframe tbody tr th:only-of-type {\n",
       "        vertical-align: middle;\n",
       "    }\n",
       "\n",
       "    .dataframe tbody tr th {\n",
       "        vertical-align: top;\n",
       "    }\n",
       "\n",
       "    .dataframe thead th {\n",
       "        text-align: right;\n",
       "    }\n",
       "</style>\n",
       "<table border=\"1\" class=\"dataframe\">\n",
       "  <thead>\n",
       "    <tr style=\"text-align: right;\">\n",
       "      <th></th>\n",
       "      <th>store</th>\n",
       "      <th>day_of_week</th>\n",
       "      <th>sales</th>\n",
       "      <th>promo</th>\n",
       "      <th>school_holiday</th>\n",
       "      <th>competition_distance</th>\n",
       "      <th>competition_open_since_month</th>\n",
       "      <th>competition_open_since_year</th>\n",
       "      <th>promo2</th>\n",
       "      <th>promo2_since_week</th>\n",
       "      <th>promo2_since_year</th>\n",
       "      <th>is_promo</th>\n",
       "      <th>year</th>\n",
       "      <th>month</th>\n",
       "      <th>day</th>\n",
       "      <th>week_of_year</th>\n",
       "      <th>competition_open_timeinmonths</th>\n",
       "      <th>promo_since_timeinweeks</th>\n",
       "    </tr>\n",
       "  </thead>\n",
       "  <tbody>\n",
       "    <tr>\n",
       "      <th>0</th>\n",
       "      <td>1</td>\n",
       "      <td>5</td>\n",
       "      <td>5263</td>\n",
       "      <td>1</td>\n",
       "      <td>1</td>\n",
       "      <td>1270.00</td>\n",
       "      <td>9</td>\n",
       "      <td>2008</td>\n",
       "      <td>0</td>\n",
       "      <td>31</td>\n",
       "      <td>2015</td>\n",
       "      <td>0</td>\n",
       "      <td>2015</td>\n",
       "      <td>7</td>\n",
       "      <td>31</td>\n",
       "      <td>31</td>\n",
       "      <td>84</td>\n",
       "      <td>0</td>\n",
       "    </tr>\n",
       "    <tr>\n",
       "      <th>1</th>\n",
       "      <td>2</td>\n",
       "      <td>5</td>\n",
       "      <td>6064</td>\n",
       "      <td>1</td>\n",
       "      <td>1</td>\n",
       "      <td>570.00</td>\n",
       "      <td>11</td>\n",
       "      <td>2007</td>\n",
       "      <td>1</td>\n",
       "      <td>13</td>\n",
       "      <td>2010</td>\n",
       "      <td>1</td>\n",
       "      <td>2015</td>\n",
       "      <td>7</td>\n",
       "      <td>31</td>\n",
       "      <td>31</td>\n",
       "      <td>94</td>\n",
       "      <td>279</td>\n",
       "    </tr>\n",
       "    <tr>\n",
       "      <th>2</th>\n",
       "      <td>3</td>\n",
       "      <td>5</td>\n",
       "      <td>8314</td>\n",
       "      <td>1</td>\n",
       "      <td>1</td>\n",
       "      <td>14130.00</td>\n",
       "      <td>12</td>\n",
       "      <td>2006</td>\n",
       "      <td>1</td>\n",
       "      <td>14</td>\n",
       "      <td>2011</td>\n",
       "      <td>1</td>\n",
       "      <td>2015</td>\n",
       "      <td>7</td>\n",
       "      <td>31</td>\n",
       "      <td>31</td>\n",
       "      <td>105</td>\n",
       "      <td>226</td>\n",
       "    </tr>\n",
       "    <tr>\n",
       "      <th>3</th>\n",
       "      <td>4</td>\n",
       "      <td>5</td>\n",
       "      <td>13995</td>\n",
       "      <td>1</td>\n",
       "      <td>1</td>\n",
       "      <td>620.00</td>\n",
       "      <td>9</td>\n",
       "      <td>2009</td>\n",
       "      <td>0</td>\n",
       "      <td>31</td>\n",
       "      <td>2015</td>\n",
       "      <td>0</td>\n",
       "      <td>2015</td>\n",
       "      <td>7</td>\n",
       "      <td>31</td>\n",
       "      <td>31</td>\n",
       "      <td>71</td>\n",
       "      <td>0</td>\n",
       "    </tr>\n",
       "    <tr>\n",
       "      <th>4</th>\n",
       "      <td>5</td>\n",
       "      <td>5</td>\n",
       "      <td>4822</td>\n",
       "      <td>1</td>\n",
       "      <td>1</td>\n",
       "      <td>29910.00</td>\n",
       "      <td>4</td>\n",
       "      <td>2015</td>\n",
       "      <td>0</td>\n",
       "      <td>31</td>\n",
       "      <td>2015</td>\n",
       "      <td>0</td>\n",
       "      <td>2015</td>\n",
       "      <td>7</td>\n",
       "      <td>31</td>\n",
       "      <td>31</td>\n",
       "      <td>4</td>\n",
       "      <td>0</td>\n",
       "    </tr>\n",
       "  </tbody>\n",
       "</table>\n",
       "</div>"
      ],
      "text/plain": [
       "   store  day_of_week  sales  promo  school_holiday  competition_distance  competition_open_since_month  competition_open_since_year  promo2  promo2_since_week  promo2_since_year  is_promo  year  month  day  week_of_year  competition_open_timeinmonths  promo_since_timeinweeks\n",
       "0      1            5   5263      1               1               1270.00                             9                         2008       0                 31               2015         0  2015      7   31            31                             84                        0\n",
       "1      2            5   6064      1               1                570.00                            11                         2007       1                 13               2010         1  2015      7   31            31                             94                      279\n",
       "2      3            5   8314      1               1              14130.00                            12                         2006       1                 14               2011         1  2015      7   31            31                            105                      226\n",
       "3      4            5  13995      1               1                620.00                             9                         2009       0                 31               2015         0  2015      7   31            31                             71                        0\n",
       "4      5            5   4822      1               1              29910.00                             4                         2015       0                 31               2015         0  2015      7   31            31                              4                        0"
      ]
     },
     "execution_count": 336,
     "metadata": {},
     "output_type": "execute_result"
    }
   ],
   "source": [
    "num_df5 = df5.select_dtypes(include=['int64','float64'])\n",
    "num_df5.head()"
   ]
  },
  {
   "cell_type": "code",
   "execution_count": 337,
   "id": "9e20de72",
   "metadata": {
    "ExecuteTime": {
     "end_time": "2021-08-04T01:27:32.525379Z",
     "start_time": "2021-08-04T01:27:31.182654Z"
    },
    "code_folding": [
     0
    ],
    "collapsed": true,
    "hidden": true
   },
   "outputs": [
    {
     "data": {
      "image/png": "[encoded data removed]",
      "text/plain": [
       "<Figure size 1080x720 with 3 Axes>"
      ]
     },
     "metadata": {},
     "output_type": "display_data"
    }
   ],
   "source": [
    "# checking outliers\n",
    "\n",
    "# competition_distance\n",
    "plt.subplot(3,1,1)\n",
    "sns.boxplot(data=df5, x=df5['competition_distance']);\n",
    "\n",
    "# competition_open_timeinmonths\n",
    "plt.subplot(3,1,2)\n",
    "sns.boxplot(data=df5, x=df5['competition_open_timeinmonths']);\n",
    "\n",
    "# promo_since_timeinweeks\n",
    "plt.subplot(3,1,3)\n",
    "sns.boxplot(data=df5, x=df5['promo_since_timeinweeks']);\n",
    "\n",
    "plt.tight_layout()"
   ]
  },
  {
   "cell_type": "code",
   "execution_count": 338,
   "id": "2789ad8f",
   "metadata": {
    "ExecuteTime": {
     "end_time": "2021-08-04T01:27:32.733568Z",
     "start_time": "2021-08-04T01:27:32.526380Z"
    },
    "code_folding": [
     0
    ],
    "collapsed": true,
    "hidden": true
   },
   "outputs": [
    {
     "data": {
      "text/html": [
       "<div>\n",
       "<style scoped>\n",
       "    .dataframe tbody tr th:only-of-type {\n",
       "        vertical-align: middle;\n",
       "    }\n",
       "\n",
       "    .dataframe tbody tr th {\n",
       "        vertical-align: top;\n",
       "    }\n",
       "\n",
       "    .dataframe thead th {\n",
       "        text-align: right;\n",
       "    }\n",
       "</style>\n",
       "<table border=\"1\" class=\"dataframe\">\n",
       "  <thead>\n",
       "    <tr style=\"text-align: right;\">\n",
       "      <th></th>\n",
       "      <th>competition_distance</th>\n",
       "      <th>competition_open_timeinmonths</th>\n",
       "      <th>promo_since_timeinweeks</th>\n",
       "    </tr>\n",
       "  </thead>\n",
       "  <tbody>\n",
       "    <tr>\n",
       "      <th>0</th>\n",
       "      <td>-0.17</td>\n",
       "      <td>0.92</td>\n",
       "      <td>0.29</td>\n",
       "    </tr>\n",
       "    <tr>\n",
       "      <th>1</th>\n",
       "      <td>-0.28</td>\n",
       "      <td>1.05</td>\n",
       "      <td>0.92</td>\n",
       "    </tr>\n",
       "    <tr>\n",
       "      <th>2</th>\n",
       "      <td>1.90</td>\n",
       "      <td>1.20</td>\n",
       "      <td>0.80</td>\n",
       "    </tr>\n",
       "    <tr>\n",
       "      <th>3</th>\n",
       "      <td>-0.28</td>\n",
       "      <td>0.74</td>\n",
       "      <td>0.29</td>\n",
       "    </tr>\n",
       "    <tr>\n",
       "      <th>4</th>\n",
       "      <td>4.45</td>\n",
       "      <td>-0.16</td>\n",
       "      <td>0.29</td>\n",
       "    </tr>\n",
       "  </tbody>\n",
       "</table>\n",
       "</div>"
      ],
      "text/plain": [
       "   competition_distance  competition_open_timeinmonths  promo_since_timeinweeks\n",
       "0                 -0.17                           0.92                     0.29\n",
       "1                 -0.28                           1.05                     0.92\n",
       "2                  1.90                           1.20                     0.80\n",
       "3                 -0.28                           0.74                     0.29\n",
       "4                  4.45                          -0.16                     0.29"
      ]
     },
     "execution_count": 338,
     "metadata": {},
     "output_type": "execute_result"
    }
   ],
   "source": [
    "# rescaling\n",
    "\n",
    "rs = RobustScaler()\n",
    "mms = MinMaxScaler()\n",
    "\n",
    "# competition_distance\n",
    "df5['competition_distance'] = rs.fit_transform(df5[['competition_distance']].values)\n",
    "\n",
    "# competition_open_timeinmonths\n",
    "df5['competition_open_timeinmonths'] = rs.fit_transform(df5[['competition_open_timeinmonths']].values)\n",
    "\n",
    "# promo_since_timeinweeks\n",
    "df5['promo_since_timeinweeks'] = mms.fit_transform(df5[['promo_since_timeinweeks']].values)\n",
    "\n",
    "# year\n",
    "df5['year'] = mms.fit_transform(df5[['year']].values)\n",
    "\n",
    "\n",
    "\n",
    "df5[['competition_distance', 'competition_open_timeinmonths', 'promo_since_timeinweeks']].head()"
   ]
  },
  {
   "cell_type": "code",
   "execution_count": 349,
   "id": "5bf025df",
   "metadata": {
    "ExecuteTime": {
     "end_time": "2021-08-04T01:31:29.765550Z",
     "start_time": "2021-08-04T01:31:29.761546Z"
    },
    "code_folding": [
     0
    ],
    "hidden": true
   },
   "outputs": [],
   "source": [
    "# v_max = df5['competition_distance'].max()\n",
    "# sns.displot(df5['competition_distance']< v_max);"
   ]
  },
  {
   "cell_type": "markdown",
   "id": "6aef8b4b",
   "metadata": {
    "hidden": true
   },
   "source": [
    "## Transforming"
   ]
  },
  {
   "cell_type": "markdown",
   "id": "62410226",
   "metadata": {
    "hidden": true
   },
   "source": [
    "### Encoding"
   ]
  },
  {
   "cell_type": "code",
   "execution_count": 355,
   "id": "c13941f8",
   "metadata": {
    "ExecuteTime": {
     "end_time": "2021-08-04T01:42:07.436909Z",
     "start_time": "2021-08-04T01:42:07.383860Z"
    },
    "hidden": true
   },
   "outputs": [
    {
     "data": {
      "text/html": [
       "<div>\n",
       "<style scoped>\n",
       "    .dataframe tbody tr th:only-of-type {\n",
       "        vertical-align: middle;\n",
       "    }\n",
       "\n",
       "    .dataframe tbody tr th {\n",
       "        vertical-align: top;\n",
       "    }\n",
       "\n",
       "    .dataframe thead th {\n",
       "        text-align: right;\n",
       "    }\n",
       "</style>\n",
       "<table border=\"1\" class=\"dataframe\">\n",
       "  <thead>\n",
       "    <tr style=\"text-align: right;\">\n",
       "      <th></th>\n",
       "      <th>state_holiday</th>\n",
       "      <th>store_type</th>\n",
       "      <th>assortment</th>\n",
       "      <th>year_week</th>\n",
       "    </tr>\n",
       "  </thead>\n",
       "  <tbody>\n",
       "    <tr>\n",
       "      <th>0</th>\n",
       "      <td>regular day</td>\n",
       "      <td>c</td>\n",
       "      <td>basic</td>\n",
       "      <td>2015-30</td>\n",
       "    </tr>\n",
       "    <tr>\n",
       "      <th>1</th>\n",
       "      <td>regular day</td>\n",
       "      <td>a</td>\n",
       "      <td>basic</td>\n",
       "      <td>2015-30</td>\n",
       "    </tr>\n",
       "    <tr>\n",
       "      <th>2</th>\n",
       "      <td>regular day</td>\n",
       "      <td>a</td>\n",
       "      <td>basic</td>\n",
       "      <td>2015-30</td>\n",
       "    </tr>\n",
       "    <tr>\n",
       "      <th>3</th>\n",
       "      <td>regular day</td>\n",
       "      <td>c</td>\n",
       "      <td>extended</td>\n",
       "      <td>2015-30</td>\n",
       "    </tr>\n",
       "    <tr>\n",
       "      <th>4</th>\n",
       "      <td>regular day</td>\n",
       "      <td>a</td>\n",
       "      <td>basic</td>\n",
       "      <td>2015-30</td>\n",
       "    </tr>\n",
       "  </tbody>\n",
       "</table>\n",
       "</div>"
      ],
      "text/plain": [
       "  state_holiday store_type assortment year_week\n",
       "0   regular day          c      basic   2015-30\n",
       "1   regular day          a      basic   2015-30\n",
       "2   regular day          a      basic   2015-30\n",
       "3   regular day          c   extended   2015-30\n",
       "4   regular day          a      basic   2015-30"
      ]
     },
     "execution_count": 355,
     "metadata": {},
     "output_type": "execute_result"
    }
   ],
   "source": [
    "df52 = df5.copy()\n",
    "\n",
    "cat_df5 = df5.select_dtypes(exclude=['int64','float64','datetime64[ns]'])\n",
    "cat_df5.head()"
   ]
  },
  {
   "cell_type": "code",
   "execution_count": 356,
   "id": "4c29c6b3",
   "metadata": {
    "ExecuteTime": {
     "end_time": "2021-08-04T01:42:07.962398Z",
     "start_time": "2021-08-04T01:42:07.556017Z"
    },
    "hidden": true
   },
   "outputs": [
    {
     "data": {
      "text/html": [
       "<div>\n",
       "<style scoped>\n",
       "    .dataframe tbody tr th:only-of-type {\n",
       "        vertical-align: middle;\n",
       "    }\n",
       "\n",
       "    .dataframe tbody tr th {\n",
       "        vertical-align: top;\n",
       "    }\n",
       "\n",
       "    .dataframe thead th {\n",
       "        text-align: right;\n",
       "    }\n",
       "</style>\n",
       "<table border=\"1\" class=\"dataframe\">\n",
       "  <thead>\n",
       "    <tr style=\"text-align: right;\">\n",
       "      <th></th>\n",
       "      <th>store</th>\n",
       "      <th>day_of_week</th>\n",
       "      <th>date</th>\n",
       "      <th>sales</th>\n",
       "      <th>promo</th>\n",
       "      <th>school_holiday</th>\n",
       "      <th>store_type</th>\n",
       "      <th>assortment</th>\n",
       "      <th>competition_distance</th>\n",
       "      <th>competition_open_since_month</th>\n",
       "      <th>...</th>\n",
       "      <th>week_of_year</th>\n",
       "      <th>year_week</th>\n",
       "      <th>competition_open_since</th>\n",
       "      <th>competition_open_timeinmonths</th>\n",
       "      <th>promo_since</th>\n",
       "      <th>promo_since_timeinweeks</th>\n",
       "      <th>state_holiday_Christmas</th>\n",
       "      <th>state_holiday_Easter holiday</th>\n",
       "      <th>state_holiday_Public holiday</th>\n",
       "      <th>state_holiday_regular day</th>\n",
       "    </tr>\n",
       "  </thead>\n",
       "  <tbody>\n",
       "    <tr>\n",
       "      <th>0</th>\n",
       "      <td>1</td>\n",
       "      <td>5</td>\n",
       "      <td>2015-07-31</td>\n",
       "      <td>5263</td>\n",
       "      <td>1</td>\n",
       "      <td>1</td>\n",
       "      <td>2</td>\n",
       "      <td>1</td>\n",
       "      <td>-0.17</td>\n",
       "      <td>9</td>\n",
       "      <td>...</td>\n",
       "      <td>31</td>\n",
       "      <td>2015-30</td>\n",
       "      <td>2008-09-01</td>\n",
       "      <td>0.92</td>\n",
       "      <td>2015-07-27</td>\n",
       "      <td>0.29</td>\n",
       "      <td>0</td>\n",
       "      <td>0</td>\n",
       "      <td>0</td>\n",
       "      <td>1</td>\n",
       "    </tr>\n",
       "    <tr>\n",
       "      <th>1</th>\n",
       "      <td>2</td>\n",
       "      <td>5</td>\n",
       "      <td>2015-07-31</td>\n",
       "      <td>6064</td>\n",
       "      <td>1</td>\n",
       "      <td>1</td>\n",
       "      <td>0</td>\n",
       "      <td>1</td>\n",
       "      <td>-0.28</td>\n",
       "      <td>11</td>\n",
       "      <td>...</td>\n",
       "      <td>31</td>\n",
       "      <td>2015-30</td>\n",
       "      <td>2007-11-01</td>\n",
       "      <td>1.05</td>\n",
       "      <td>2010-03-22</td>\n",
       "      <td>0.92</td>\n",
       "      <td>0</td>\n",
       "      <td>0</td>\n",
       "      <td>0</td>\n",
       "      <td>1</td>\n",
       "    </tr>\n",
       "    <tr>\n",
       "      <th>2</th>\n",
       "      <td>3</td>\n",
       "      <td>5</td>\n",
       "      <td>2015-07-31</td>\n",
       "      <td>8314</td>\n",
       "      <td>1</td>\n",
       "      <td>1</td>\n",
       "      <td>0</td>\n",
       "      <td>1</td>\n",
       "      <td>1.90</td>\n",
       "      <td>12</td>\n",
       "      <td>...</td>\n",
       "      <td>31</td>\n",
       "      <td>2015-30</td>\n",
       "      <td>2006-12-01</td>\n",
       "      <td>1.20</td>\n",
       "      <td>2011-03-28</td>\n",
       "      <td>0.80</td>\n",
       "      <td>0</td>\n",
       "      <td>0</td>\n",
       "      <td>0</td>\n",
       "      <td>1</td>\n",
       "    </tr>\n",
       "    <tr>\n",
       "      <th>3</th>\n",
       "      <td>4</td>\n",
       "      <td>5</td>\n",
       "      <td>2015-07-31</td>\n",
       "      <td>13995</td>\n",
       "      <td>1</td>\n",
       "      <td>1</td>\n",
       "      <td>2</td>\n",
       "      <td>3</td>\n",
       "      <td>-0.28</td>\n",
       "      <td>9</td>\n",
       "      <td>...</td>\n",
       "      <td>31</td>\n",
       "      <td>2015-30</td>\n",
       "      <td>2009-09-01</td>\n",
       "      <td>0.74</td>\n",
       "      <td>2015-07-27</td>\n",
       "      <td>0.29</td>\n",
       "      <td>0</td>\n",
       "      <td>0</td>\n",
       "      <td>0</td>\n",
       "      <td>1</td>\n",
       "    </tr>\n",
       "    <tr>\n",
       "      <th>4</th>\n",
       "      <td>5</td>\n",
       "      <td>5</td>\n",
       "      <td>2015-07-31</td>\n",
       "      <td>4822</td>\n",
       "      <td>1</td>\n",
       "      <td>1</td>\n",
       "      <td>0</td>\n",
       "      <td>1</td>\n",
       "      <td>4.45</td>\n",
       "      <td>4</td>\n",
       "      <td>...</td>\n",
       "      <td>31</td>\n",
       "      <td>2015-30</td>\n",
       "      <td>2015-04-01</td>\n",
       "      <td>-0.16</td>\n",
       "      <td>2015-07-27</td>\n",
       "      <td>0.29</td>\n",
       "      <td>0</td>\n",
       "      <td>0</td>\n",
       "      <td>0</td>\n",
       "      <td>1</td>\n",
       "    </tr>\n",
       "  </tbody>\n",
       "</table>\n",
       "<p>5 rows × 28 columns</p>\n",
       "</div>"
      ],
      "text/plain": [
       "   store  day_of_week       date  sales  promo  school_holiday  store_type  assortment  competition_distance  competition_open_since_month  ...  week_of_year  year_week  competition_open_since  competition_open_timeinmonths  promo_since  promo_since_timeinweeks  state_holiday_Christmas  state_holiday_Easter holiday  state_holiday_Public holiday state_holiday_regular day\n",
       "0      1            5 2015-07-31   5263      1               1           2           1                 -0.17                             9  ...            31    2015-30              2008-09-01                           0.92   2015-07-27                     0.29                        0                             0                             0                         1\n",
       "1      2            5 2015-07-31   6064      1               1           0           1                 -0.28                            11  ...            31    2015-30              2007-11-01                           1.05   2010-03-22                     0.92                        0                             0                             0                         1\n",
       "2      3            5 2015-07-31   8314      1               1           0           1                  1.90                            12  ...            31    2015-30              2006-12-01                           1.20   2011-03-28                     0.80                        0                             0                             0                         1\n",
       "3      4            5 2015-07-31  13995      1               1           2           3                 -0.28                             9  ...            31    2015-30              2009-09-01                           0.74   2015-07-27                     0.29                        0                             0                             0                         1\n",
       "4      5            5 2015-07-31   4822      1               1           0           1                  4.45                             4  ...            31    2015-30              2015-04-01                          -0.16   2015-07-27                     0.29                        0                             0                             0                         1\n",
       "\n",
       "[5 rows x 28 columns]"
      ]
     },
     "execution_count": 356,
     "metadata": {},
     "output_type": "execute_result"
    }
   ],
   "source": [
    "# state_holiday - one hot enconding (each holiday becomes a column)\n",
    "df52 = pd.get_dummies(df52, prefix = ['state_holiday'], columns = ['state_holiday'])\n",
    "\n",
    "# store_type - label enconding (each type becomes a value in a range)\n",
    "le = preprocessing.LabelEncoder()\n",
    "df52['store_type'] = le.fit_transform(df52['store_type'])\n",
    "\n",
    "# assortment - ordinal enconding (each assortment becomes a value in a hierarchy)\n",
    "assortment_dict = {'basic': 1, 'extra': 2, 'extended': 3}\n",
    "df52['assortment'] = df52['assortment'].map(assortment_dict)\n",
    "\n",
    "df52.head()"
   ]
  },
  {
   "cell_type": "markdown",
   "id": "0678460c",
   "metadata": {
    "hidden": true
   },
   "source": [
    "### Response Variable Transformation"
   ]
  },
  {
   "cell_type": "code",
   "execution_count": 357,
   "id": "ed74db3f",
   "metadata": {
    "ExecuteTime": {
     "end_time": "2021-08-04T01:42:34.516066Z",
     "start_time": "2021-08-04T01:42:33.279942Z"
    },
    "hidden": true
   },
   "outputs": [
    {
     "data": {
      "image/png": "[encoded data removed]",
      "text/plain": [
       "<Figure size 360x360 with 1 Axes>"
      ]
     },
     "metadata": {},
     "output_type": "display_data"
    }
   ],
   "source": [
    "sns.displot(df52['sales']);"
   ]
  },
  {
   "cell_type": "code",
   "execution_count": 358,
   "id": "6bcca7fe",
   "metadata": {
    "ExecuteTime": {
     "end_time": "2021-08-04T01:42:58.775144Z",
     "start_time": "2021-08-04T01:42:57.214724Z"
    },
    "hidden": true
   },
   "outputs": [
    {
     "data": {
      "image/png": "[encoded data removed]",
      "text/plain": [
       "<Figure size 360x360 with 1 Axes>"
      ]
     },
     "metadata": {},
     "output_type": "display_data"
    }
   ],
   "source": [
    "df52['sales'] = np.log1p(df52['sales'])\n",
    "sns.displot(df52['sales']);"
   ]
  },
  {
   "cell_type": "markdown",
   "id": "65285fed",
   "metadata": {
    "hidden": true
   },
   "source": [
    "### Nature Transformation"
   ]
  },
  {
   "cell_type": "code",
   "execution_count": 360,
   "id": "2170dec9",
   "metadata": {
    "ExecuteTime": {
     "end_time": "2021-08-04T01:44:25.841191Z",
     "start_time": "2021-08-04T01:44:16.937284Z"
    },
    "hidden": true
   },
   "outputs": [
    {
     "data": {
      "text/html": [
       "<div>\n",
       "<style scoped>\n",
       "    .dataframe tbody tr th:only-of-type {\n",
       "        vertical-align: middle;\n",
       "    }\n",
       "\n",
       "    .dataframe tbody tr th {\n",
       "        vertical-align: top;\n",
       "    }\n",
       "\n",
       "    .dataframe thead th {\n",
       "        text-align: right;\n",
       "    }\n",
       "</style>\n",
       "<table border=\"1\" class=\"dataframe\">\n",
       "  <thead>\n",
       "    <tr style=\"text-align: right;\">\n",
       "      <th></th>\n",
       "      <th>store</th>\n",
       "      <th>day_of_week</th>\n",
       "      <th>date</th>\n",
       "      <th>sales</th>\n",
       "      <th>promo</th>\n",
       "      <th>school_holiday</th>\n",
       "      <th>store_type</th>\n",
       "      <th>assortment</th>\n",
       "      <th>competition_distance</th>\n",
       "      <th>competition_open_since_month</th>\n",
       "      <th>...</th>\n",
       "      <th>state_holiday_Public holiday</th>\n",
       "      <th>state_holiday_regular day</th>\n",
       "      <th>month_sin</th>\n",
       "      <th>month_cos</th>\n",
       "      <th>week_of_year_sin</th>\n",
       "      <th>week_of_year_cos</th>\n",
       "      <th>day_sin</th>\n",
       "      <th>day_cos</th>\n",
       "      <th>day_of_week_sin</th>\n",
       "      <th>day_of_week_cos</th>\n",
       "    </tr>\n",
       "  </thead>\n",
       "  <tbody>\n",
       "    <tr>\n",
       "      <th>0</th>\n",
       "      <td>1</td>\n",
       "      <td>5</td>\n",
       "      <td>2015-07-31</td>\n",
       "      <td>8.57</td>\n",
       "      <td>1</td>\n",
       "      <td>1</td>\n",
       "      <td>2</td>\n",
       "      <td>1</td>\n",
       "      <td>-0.17</td>\n",
       "      <td>9</td>\n",
       "      <td>...</td>\n",
       "      <td>0</td>\n",
       "      <td>1</td>\n",
       "      <td>-0.50</td>\n",
       "      <td>-0.87</td>\n",
       "      <td>-0.57</td>\n",
       "      <td>-0.82</td>\n",
       "      <td>0.21</td>\n",
       "      <td>0.98</td>\n",
       "      <td>-0.97</td>\n",
       "      <td>-0.22</td>\n",
       "    </tr>\n",
       "    <tr>\n",
       "      <th>1</th>\n",
       "      <td>2</td>\n",
       "      <td>5</td>\n",
       "      <td>2015-07-31</td>\n",
       "      <td>8.71</td>\n",
       "      <td>1</td>\n",
       "      <td>1</td>\n",
       "      <td>0</td>\n",
       "      <td>1</td>\n",
       "      <td>-0.28</td>\n",
       "      <td>11</td>\n",
       "      <td>...</td>\n",
       "      <td>0</td>\n",
       "      <td>1</td>\n",
       "      <td>-0.50</td>\n",
       "      <td>-0.87</td>\n",
       "      <td>-0.57</td>\n",
       "      <td>-0.82</td>\n",
       "      <td>0.21</td>\n",
       "      <td>0.98</td>\n",
       "      <td>-0.97</td>\n",
       "      <td>-0.22</td>\n",
       "    </tr>\n",
       "    <tr>\n",
       "      <th>2</th>\n",
       "      <td>3</td>\n",
       "      <td>5</td>\n",
       "      <td>2015-07-31</td>\n",
       "      <td>9.03</td>\n",
       "      <td>1</td>\n",
       "      <td>1</td>\n",
       "      <td>0</td>\n",
       "      <td>1</td>\n",
       "      <td>1.90</td>\n",
       "      <td>12</td>\n",
       "      <td>...</td>\n",
       "      <td>0</td>\n",
       "      <td>1</td>\n",
       "      <td>-0.50</td>\n",
       "      <td>-0.87</td>\n",
       "      <td>-0.57</td>\n",
       "      <td>-0.82</td>\n",
       "      <td>0.21</td>\n",
       "      <td>0.98</td>\n",
       "      <td>-0.97</td>\n",
       "      <td>-0.22</td>\n",
       "    </tr>\n",
       "    <tr>\n",
       "      <th>3</th>\n",
       "      <td>4</td>\n",
       "      <td>5</td>\n",
       "      <td>2015-07-31</td>\n",
       "      <td>9.55</td>\n",
       "      <td>1</td>\n",
       "      <td>1</td>\n",
       "      <td>2</td>\n",
       "      <td>3</td>\n",
       "      <td>-0.28</td>\n",
       "      <td>9</td>\n",
       "      <td>...</td>\n",
       "      <td>0</td>\n",
       "      <td>1</td>\n",
       "      <td>-0.50</td>\n",
       "      <td>-0.87</td>\n",
       "      <td>-0.57</td>\n",
       "      <td>-0.82</td>\n",
       "      <td>0.21</td>\n",
       "      <td>0.98</td>\n",
       "      <td>-0.97</td>\n",
       "      <td>-0.22</td>\n",
       "    </tr>\n",
       "    <tr>\n",
       "      <th>4</th>\n",
       "      <td>5</td>\n",
       "      <td>5</td>\n",
       "      <td>2015-07-31</td>\n",
       "      <td>8.48</td>\n",
       "      <td>1</td>\n",
       "      <td>1</td>\n",
       "      <td>0</td>\n",
       "      <td>1</td>\n",
       "      <td>4.45</td>\n",
       "      <td>4</td>\n",
       "      <td>...</td>\n",
       "      <td>0</td>\n",
       "      <td>1</td>\n",
       "      <td>-0.50</td>\n",
       "      <td>-0.87</td>\n",
       "      <td>-0.57</td>\n",
       "      <td>-0.82</td>\n",
       "      <td>0.21</td>\n",
       "      <td>0.98</td>\n",
       "      <td>-0.97</td>\n",
       "      <td>-0.22</td>\n",
       "    </tr>\n",
       "  </tbody>\n",
       "</table>\n",
       "<p>5 rows × 36 columns</p>\n",
       "</div>"
      ],
      "text/plain": [
       "   store  day_of_week       date  sales  promo  school_holiday  store_type  assortment  competition_distance  competition_open_since_month  ...  state_holiday_Public holiday  state_holiday_regular day  month_sin  month_cos  week_of_year_sin  week_of_year_cos  day_sin  day_cos  day_of_week_sin day_of_week_cos\n",
       "0      1            5 2015-07-31   8.57      1               1           2           1                 -0.17                             9  ...                             0                          1      -0.50      -0.87             -0.57             -0.82     0.21     0.98            -0.97           -0.22\n",
       "1      2            5 2015-07-31   8.71      1               1           0           1                 -0.28                            11  ...                             0                          1      -0.50      -0.87             -0.57             -0.82     0.21     0.98            -0.97           -0.22\n",
       "2      3            5 2015-07-31   9.03      1               1           0           1                  1.90                            12  ...                             0                          1      -0.50      -0.87             -0.57             -0.82     0.21     0.98            -0.97           -0.22\n",
       "3      4            5 2015-07-31   9.55      1               1           2           3                 -0.28                             9  ...                             0                          1      -0.50      -0.87             -0.57             -0.82     0.21     0.98            -0.97           -0.22\n",
       "4      5            5 2015-07-31   8.48      1               1           0           1                  4.45                             4  ...                             0                          1      -0.50      -0.87             -0.57             -0.82     0.21     0.98            -0.97           -0.22\n",
       "\n",
       "[5 rows x 36 columns]"
      ]
     },
     "execution_count": 360,
     "metadata": {},
     "output_type": "execute_result"
    }
   ],
   "source": [
    "# month\n",
    "df52['month_sin'] = df52['month'].apply(lambda x: np.sin(x*(2*np.pi/12))) \n",
    "df52['month_cos'] = df52['month'].apply(lambda x: np.cos(x*(2*np.pi/12))) \n",
    "\n",
    "# week_of_year\n",
    "df52['week_of_year_sin'] = df52['week_of_year'].apply(lambda x: np.sin(x*(2*np.pi/52))) \n",
    "df52['week_of_year_cos'] = df52['week_of_year'].apply(lambda x: np.cos(x*(2*np.pi/52))) \n",
    "\n",
    "# day\n",
    "df52['day_sin'] = df52['day'].apply(lambda x: np.sin(x*(2*np.pi/30))) \n",
    "df52['day_cos'] = df52['day'].apply(lambda x: np.cos(x*(2*np.pi/30)))\n",
    "\n",
    "# day_of_week\n",
    "df52['day_of_week_sin'] = df52['day_of_week'].apply(lambda x: np.sin(x*(2*np.pi/7))) \n",
    "df52['day_of_week_cos'] = df52['day_of_week'].apply(lambda x: np.cos(x*(2*np.pi/7)))\n",
    "\n",
    "\n",
    "\n",
    "df52.head()"
   ]
  },
  {
   "cell_type": "markdown",
   "id": "1787c8f5",
   "metadata": {},
   "source": [
    "# FEATURE SELECTION"
   ]
  },
  {
   "cell_type": "code",
   "execution_count": 361,
   "id": "50439ff5",
   "metadata": {
    "ExecuteTime": {
     "end_time": "2021-08-04T01:48:03.983219Z",
     "start_time": "2021-08-04T01:48:03.823073Z"
    }
   },
   "outputs": [
    {
     "data": {
      "text/html": [
       "<div>\n",
       "<style scoped>\n",
       "    .dataframe tbody tr th:only-of-type {\n",
       "        vertical-align: middle;\n",
       "    }\n",
       "\n",
       "    .dataframe tbody tr th {\n",
       "        vertical-align: top;\n",
       "    }\n",
       "\n",
       "    .dataframe thead th {\n",
       "        text-align: right;\n",
       "    }\n",
       "</style>\n",
       "<table border=\"1\" class=\"dataframe\">\n",
       "  <thead>\n",
       "    <tr style=\"text-align: right;\">\n",
       "      <th></th>\n",
       "      <th>store</th>\n",
       "      <th>day_of_week</th>\n",
       "      <th>date</th>\n",
       "      <th>sales</th>\n",
       "      <th>promo</th>\n",
       "      <th>school_holiday</th>\n",
       "      <th>store_type</th>\n",
       "      <th>assortment</th>\n",
       "      <th>competition_distance</th>\n",
       "      <th>competition_open_since_month</th>\n",
       "      <th>...</th>\n",
       "      <th>state_holiday_Public holiday</th>\n",
       "      <th>state_holiday_regular day</th>\n",
       "      <th>month_sin</th>\n",
       "      <th>month_cos</th>\n",
       "      <th>week_of_year_sin</th>\n",
       "      <th>week_of_year_cos</th>\n",
       "      <th>day_sin</th>\n",
       "      <th>day_cos</th>\n",
       "      <th>day_of_week_sin</th>\n",
       "      <th>day_of_week_cos</th>\n",
       "    </tr>\n",
       "  </thead>\n",
       "  <tbody>\n",
       "    <tr>\n",
       "      <th>0</th>\n",
       "      <td>1</td>\n",
       "      <td>5</td>\n",
       "      <td>2015-07-31</td>\n",
       "      <td>8.57</td>\n",
       "      <td>1</td>\n",
       "      <td>1</td>\n",
       "      <td>2</td>\n",
       "      <td>1</td>\n",
       "      <td>-0.17</td>\n",
       "      <td>9</td>\n",
       "      <td>...</td>\n",
       "      <td>0</td>\n",
       "      <td>1</td>\n",
       "      <td>-0.50</td>\n",
       "      <td>-0.87</td>\n",
       "      <td>-0.57</td>\n",
       "      <td>-0.82</td>\n",
       "      <td>0.21</td>\n",
       "      <td>0.98</td>\n",
       "      <td>-0.97</td>\n",
       "      <td>-0.22</td>\n",
       "    </tr>\n",
       "    <tr>\n",
       "      <th>1</th>\n",
       "      <td>2</td>\n",
       "      <td>5</td>\n",
       "      <td>2015-07-31</td>\n",
       "      <td>8.71</td>\n",
       "      <td>1</td>\n",
       "      <td>1</td>\n",
       "      <td>0</td>\n",
       "      <td>1</td>\n",
       "      <td>-0.28</td>\n",
       "      <td>11</td>\n",
       "      <td>...</td>\n",
       "      <td>0</td>\n",
       "      <td>1</td>\n",
       "      <td>-0.50</td>\n",
       "      <td>-0.87</td>\n",
       "      <td>-0.57</td>\n",
       "      <td>-0.82</td>\n",
       "      <td>0.21</td>\n",
       "      <td>0.98</td>\n",
       "      <td>-0.97</td>\n",
       "      <td>-0.22</td>\n",
       "    </tr>\n",
       "    <tr>\n",
       "      <th>2</th>\n",
       "      <td>3</td>\n",
       "      <td>5</td>\n",
       "      <td>2015-07-31</td>\n",
       "      <td>9.03</td>\n",
       "      <td>1</td>\n",
       "      <td>1</td>\n",
       "      <td>0</td>\n",
       "      <td>1</td>\n",
       "      <td>1.90</td>\n",
       "      <td>12</td>\n",
       "      <td>...</td>\n",
       "      <td>0</td>\n",
       "      <td>1</td>\n",
       "      <td>-0.50</td>\n",
       "      <td>-0.87</td>\n",
       "      <td>-0.57</td>\n",
       "      <td>-0.82</td>\n",
       "      <td>0.21</td>\n",
       "      <td>0.98</td>\n",
       "      <td>-0.97</td>\n",
       "      <td>-0.22</td>\n",
       "    </tr>\n",
       "    <tr>\n",
       "      <th>3</th>\n",
       "      <td>4</td>\n",
       "      <td>5</td>\n",
       "      <td>2015-07-31</td>\n",
       "      <td>9.55</td>\n",
       "      <td>1</td>\n",
       "      <td>1</td>\n",
       "      <td>2</td>\n",
       "      <td>3</td>\n",
       "      <td>-0.28</td>\n",
       "      <td>9</td>\n",
       "      <td>...</td>\n",
       "      <td>0</td>\n",
       "      <td>1</td>\n",
       "      <td>-0.50</td>\n",
       "      <td>-0.87</td>\n",
       "      <td>-0.57</td>\n",
       "      <td>-0.82</td>\n",
       "      <td>0.21</td>\n",
       "      <td>0.98</td>\n",
       "      <td>-0.97</td>\n",
       "      <td>-0.22</td>\n",
       "    </tr>\n",
       "    <tr>\n",
       "      <th>4</th>\n",
       "      <td>5</td>\n",
       "      <td>5</td>\n",
       "      <td>2015-07-31</td>\n",
       "      <td>8.48</td>\n",
       "      <td>1</td>\n",
       "      <td>1</td>\n",
       "      <td>0</td>\n",
       "      <td>1</td>\n",
       "      <td>4.45</td>\n",
       "      <td>4</td>\n",
       "      <td>...</td>\n",
       "      <td>0</td>\n",
       "      <td>1</td>\n",
       "      <td>-0.50</td>\n",
       "      <td>-0.87</td>\n",
       "      <td>-0.57</td>\n",
       "      <td>-0.82</td>\n",
       "      <td>0.21</td>\n",
       "      <td>0.98</td>\n",
       "      <td>-0.97</td>\n",
       "      <td>-0.22</td>\n",
       "    </tr>\n",
       "  </tbody>\n",
       "</table>\n",
       "<p>5 rows × 36 columns</p>\n",
       "</div>"
      ],
      "text/plain": [
       "   store  day_of_week       date  sales  promo  school_holiday  store_type  assortment  competition_distance  competition_open_since_month  ...  state_holiday_Public holiday  state_holiday_regular day  month_sin  month_cos  week_of_year_sin  week_of_year_cos  day_sin  day_cos  day_of_week_sin day_of_week_cos\n",
       "0      1            5 2015-07-31   8.57      1               1           2           1                 -0.17                             9  ...                             0                          1      -0.50      -0.87             -0.57             -0.82     0.21     0.98            -0.97           -0.22\n",
       "1      2            5 2015-07-31   8.71      1               1           0           1                 -0.28                            11  ...                             0                          1      -0.50      -0.87             -0.57             -0.82     0.21     0.98            -0.97           -0.22\n",
       "2      3            5 2015-07-31   9.03      1               1           0           1                  1.90                            12  ...                             0                          1      -0.50      -0.87             -0.57             -0.82     0.21     0.98            -0.97           -0.22\n",
       "3      4            5 2015-07-31   9.55      1               1           2           3                 -0.28                             9  ...                             0                          1      -0.50      -0.87             -0.57             -0.82     0.21     0.98            -0.97           -0.22\n",
       "4      5            5 2015-07-31   8.48      1               1           0           1                  4.45                             4  ...                             0                          1      -0.50      -0.87             -0.57             -0.82     0.21     0.98            -0.97           -0.22\n",
       "\n",
       "[5 rows x 36 columns]"
      ]
     },
     "execution_count": 361,
     "metadata": {},
     "output_type": "execute_result"
    }
   ],
   "source": [
    "df6 = df52.copy()\n",
    "df6.head()"
   ]
  },
  {
   "cell_type": "markdown",
   "id": "3011fa52",
   "metadata": {},
   "source": [
    "## Training and Test dataset"
   ]
  },
  {
   "cell_type": "code",
   "execution_count": 365,
   "id": "ce908162",
   "metadata": {
    "ExecuteTime": {
     "end_time": "2021-08-04T01:50:50.059869Z",
     "start_time": "2021-08-04T01:50:50.010824Z"
    }
   },
   "outputs": [
    {
     "data": {
      "text/plain": [
       "(844338, 29)"
      ]
     },
     "execution_count": 365,
     "metadata": {},
     "output_type": "execute_result"
    }
   ],
   "source": [
    "# deleting columns that derived other features\n",
    "dropcols = ['week_of_year', 'day', 'month', 'day_of_week', 'promo_since', 'competition_open_since', 'year_week']\n",
    "df6 = df6.drop(dropcols, axis=1)\n",
    "df6.shape"
   ]
  },
  {
   "cell_type": "code",
   "execution_count": 366,
   "id": "04663209",
   "metadata": {
    "ExecuteTime": {
     "end_time": "2021-08-04T01:51:10.041057Z",
     "start_time": "2021-08-04T01:51:09.951976Z"
    }
   },
   "outputs": [
    {
     "name": "stdout",
     "output_type": "stream",
     "text": [
      "2013-01-02 00:00:00 -> First date\n",
      "2015-07-31 00:00:00 -> Last date\n",
      "2015-06-19 00:00:00 -> Six weeks before last date\n"
     ]
    }
   ],
   "source": [
    "# Checking 'date' intervals\n",
    "print(df6[['store', 'date']].groupby('store').min().reset_index()['date'][0], '-> First date')\n",
    "print(df6[['store', 'date']].groupby('store').max().reset_index()['date'][0], '-> Last date', )\n",
    "print(df6[['store', 'date']].groupby('store').max().reset_index()['date'][0] - datetime.timedelta(days=6*7), '-> Six weeks before last date')"
   ]
  },
  {
   "cell_type": "code",
   "execution_count": 367,
   "id": "42ee83f0",
   "metadata": {
    "ExecuteTime": {
     "end_time": "2021-08-04T01:51:23.518326Z",
     "start_time": "2021-08-04T01:51:23.420237Z"
    }
   },
   "outputs": [
    {
     "name": "stdout",
     "output_type": "stream",
     "text": [
      "Training Min Date: 2013-01-01 00:00:00\n",
      "Training Max Date: 2015-06-18 00:00:00\n",
      "\n",
      "Test Min Date: 2015-06-19 00:00:00\n",
      "Test Max Date: 2015-07-31 00:00:00\n"
     ]
    }
   ],
   "source": [
    "# Training Dataset\n",
    "X_train = df6[df6['date'] < '2015-06-19']\n",
    "Y_train = X_train['sales']\n",
    "\n",
    "# Test Dataset\n",
    "X_test = df6[df6['date'] >= '2015-06-19']\n",
    "Y_test = X_test['sales']\n",
    "\n",
    "print('Training Min Date: {}'.format(X_train['date'].min()))\n",
    "print('Training Max Date: {}'.format(X_train['date'].max()))\n",
    "print()\n",
    "print('Test Min Date: {}'.format(X_test['date'].min()))\n",
    "print('Test Max Date: {}'.format(X_test['date'].max()))"
   ]
  },
  {
   "cell_type": "markdown",
   "id": "68539e5a",
   "metadata": {},
   "source": [
    "## Boruta as Feature Selection"
   ]
  },
  {
   "cell_type": "code",
   "execution_count": 370,
   "id": "20e20ab1",
   "metadata": {
    "ExecuteTime": {
     "end_time": "2021-08-04T01:54:59.852714Z",
     "start_time": "2021-08-04T01:52:10.660232Z"
    }
   },
   "outputs": [
    {
     "name": "stdout",
     "output_type": "stream",
     "text": [
      "Iteration: \t1 / 100\n",
      "Confirmed: \t0\n",
      "Tentative: \t27\n",
      "Rejected: \t0\n"
     ]
    },
    {
     "ename": "KeyboardInterrupt",
     "evalue": "",
     "output_type": "error",
     "traceback": [
      "\u001b[1;31m---------------------------------------------------------------------------\u001b[0m",
      "\u001b[1;31mKeyboardInterrupt\u001b[0m                         Traceback (most recent call last)",
      "\u001b[1;32m<ipython-input-370-a18438b84cb4>\u001b[0m in \u001b[0;36m<module>\u001b[1;34m\u001b[0m\n\u001b[0;32m      7\u001b[0m \u001b[1;33m\u001b[0m\u001b[0m\n\u001b[0;32m      8\u001b[0m \u001b[1;31m# defining Boruta\u001b[0m\u001b[1;33m\u001b[0m\u001b[1;33m\u001b[0m\u001b[1;33m\u001b[0m\u001b[0m\n\u001b[1;32m----> 9\u001b[1;33m \u001b[0mboruta\u001b[0m \u001b[1;33m=\u001b[0m \u001b[0mBorutaPy\u001b[0m\u001b[1;33m(\u001b[0m\u001b[0mrf\u001b[0m\u001b[1;33m,\u001b[0m \u001b[0mn_estimators\u001b[0m\u001b[1;33m=\u001b[0m\u001b[1;34m'auto'\u001b[0m\u001b[1;33m,\u001b[0m \u001b[0mverbose\u001b[0m\u001b[1;33m=\u001b[0m\u001b[1;36m2\u001b[0m\u001b[1;33m,\u001b[0m \u001b[0mrandom_state\u001b[0m\u001b[1;33m=\u001b[0m\u001b[1;36m42\u001b[0m\u001b[1;33m)\u001b[0m\u001b[1;33m.\u001b[0m\u001b[0mfit\u001b[0m\u001b[1;33m(\u001b[0m\u001b[0mX_train_blist\u001b[0m\u001b[1;33m,\u001b[0m \u001b[0mY_train_blist\u001b[0m\u001b[1;33m)\u001b[0m\u001b[1;33m\u001b[0m\u001b[1;33m\u001b[0m\u001b[0m\n\u001b[0m",
      "\u001b[1;32m~\\Documents\\anaconda3\\envs\\sales_prediction\\lib\\site-packages\\boruta\\boruta_py.py\u001b[0m in \u001b[0;36mfit\u001b[1;34m(self, X, y)\u001b[0m\n\u001b[0;32m    199\u001b[0m         \"\"\"\n\u001b[0;32m    200\u001b[0m \u001b[1;33m\u001b[0m\u001b[0m\n\u001b[1;32m--> 201\u001b[1;33m         \u001b[1;32mreturn\u001b[0m \u001b[0mself\u001b[0m\u001b[1;33m.\u001b[0m\u001b[0m_fit\u001b[0m\u001b[1;33m(\u001b[0m\u001b[0mX\u001b[0m\u001b[1;33m,\u001b[0m \u001b[0my\u001b[0m\u001b[1;33m)\u001b[0m\u001b[1;33m\u001b[0m\u001b[1;33m\u001b[0m\u001b[0m\n\u001b[0m\u001b[0;32m    202\u001b[0m \u001b[1;33m\u001b[0m\u001b[0m\n\u001b[0;32m    203\u001b[0m     \u001b[1;32mdef\u001b[0m \u001b[0mtransform\u001b[0m\u001b[1;33m(\u001b[0m\u001b[0mself\u001b[0m\u001b[1;33m,\u001b[0m \u001b[0mX\u001b[0m\u001b[1;33m,\u001b[0m \u001b[0mweak\u001b[0m\u001b[1;33m=\u001b[0m\u001b[1;32mFalse\u001b[0m\u001b[1;33m)\u001b[0m\u001b[1;33m:\u001b[0m\u001b[1;33m\u001b[0m\u001b[1;33m\u001b[0m\u001b[0m\n",
      "\u001b[1;32m~\\Documents\\anaconda3\\envs\\sales_prediction\\lib\\site-packages\\boruta\\boruta_py.py\u001b[0m in \u001b[0;36m_fit\u001b[1;34m(self, X, y)\u001b[0m\n\u001b[0;32m    283\u001b[0m \u001b[1;33m\u001b[0m\u001b[0m\n\u001b[0;32m    284\u001b[0m             \u001b[1;31m# add shadow attributes, shuffle them and train estimator, get imps\u001b[0m\u001b[1;33m\u001b[0m\u001b[1;33m\u001b[0m\u001b[1;33m\u001b[0m\u001b[0m\n\u001b[1;32m--> 285\u001b[1;33m             \u001b[0mcur_imp\u001b[0m \u001b[1;33m=\u001b[0m \u001b[0mself\u001b[0m\u001b[1;33m.\u001b[0m\u001b[0m_add_shadows_get_imps\u001b[0m\u001b[1;33m(\u001b[0m\u001b[0mX\u001b[0m\u001b[1;33m,\u001b[0m \u001b[0my\u001b[0m\u001b[1;33m,\u001b[0m \u001b[0mdec_reg\u001b[0m\u001b[1;33m)\u001b[0m\u001b[1;33m\u001b[0m\u001b[1;33m\u001b[0m\u001b[0m\n\u001b[0m\u001b[0;32m    286\u001b[0m \u001b[1;33m\u001b[0m\u001b[0m\n\u001b[0;32m    287\u001b[0m             \u001b[1;31m# get the threshold of shadow importances we will use for rejection\u001b[0m\u001b[1;33m\u001b[0m\u001b[1;33m\u001b[0m\u001b[1;33m\u001b[0m\u001b[0m\n",
      "\u001b[1;32m~\\Documents\\anaconda3\\envs\\sales_prediction\\lib\\site-packages\\boruta\\boruta_py.py\u001b[0m in \u001b[0;36m_add_shadows_get_imps\u001b[1;34m(self, X, y, dec_reg)\u001b[0m\n\u001b[0;32m    410\u001b[0m         \u001b[0mx_sha\u001b[0m \u001b[1;33m=\u001b[0m \u001b[0mnp\u001b[0m\u001b[1;33m.\u001b[0m\u001b[0mapply_along_axis\u001b[0m\u001b[1;33m(\u001b[0m\u001b[0mself\u001b[0m\u001b[1;33m.\u001b[0m\u001b[0m_get_shuffle\u001b[0m\u001b[1;33m,\u001b[0m \u001b[1;36m0\u001b[0m\u001b[1;33m,\u001b[0m \u001b[0mx_sha\u001b[0m\u001b[1;33m)\u001b[0m\u001b[1;33m\u001b[0m\u001b[1;33m\u001b[0m\u001b[0m\n\u001b[0;32m    411\u001b[0m         \u001b[1;31m# get importance of the merged matrix\u001b[0m\u001b[1;33m\u001b[0m\u001b[1;33m\u001b[0m\u001b[1;33m\u001b[0m\u001b[0m\n\u001b[1;32m--> 412\u001b[1;33m         \u001b[0mimp\u001b[0m \u001b[1;33m=\u001b[0m \u001b[0mself\u001b[0m\u001b[1;33m.\u001b[0m\u001b[0m_get_imp\u001b[0m\u001b[1;33m(\u001b[0m\u001b[0mnp\u001b[0m\u001b[1;33m.\u001b[0m\u001b[0mhstack\u001b[0m\u001b[1;33m(\u001b[0m\u001b[1;33m(\u001b[0m\u001b[0mx_cur\u001b[0m\u001b[1;33m,\u001b[0m \u001b[0mx_sha\u001b[0m\u001b[1;33m)\u001b[0m\u001b[1;33m)\u001b[0m\u001b[1;33m,\u001b[0m \u001b[0my\u001b[0m\u001b[1;33m)\u001b[0m\u001b[1;33m\u001b[0m\u001b[1;33m\u001b[0m\u001b[0m\n\u001b[0m\u001b[0;32m    413\u001b[0m         \u001b[1;31m# separate importances of real and shadow features\u001b[0m\u001b[1;33m\u001b[0m\u001b[1;33m\u001b[0m\u001b[1;33m\u001b[0m\u001b[0m\n\u001b[0;32m    414\u001b[0m         \u001b[0mimp_sha\u001b[0m \u001b[1;33m=\u001b[0m \u001b[0mimp\u001b[0m\u001b[1;33m[\u001b[0m\u001b[0mx_cur_w\u001b[0m\u001b[1;33m:\u001b[0m\u001b[1;33m]\u001b[0m\u001b[1;33m\u001b[0m\u001b[1;33m\u001b[0m\u001b[0m\n",
      "\u001b[1;32m~\\Documents\\anaconda3\\envs\\sales_prediction\\lib\\site-packages\\boruta\\boruta_py.py\u001b[0m in \u001b[0;36m_get_imp\u001b[1;34m(self, X, y)\u001b[0m\n\u001b[0;32m    382\u001b[0m     \u001b[1;32mdef\u001b[0m \u001b[0m_get_imp\u001b[0m\u001b[1;33m(\u001b[0m\u001b[0mself\u001b[0m\u001b[1;33m,\u001b[0m \u001b[0mX\u001b[0m\u001b[1;33m,\u001b[0m \u001b[0my\u001b[0m\u001b[1;33m)\u001b[0m\u001b[1;33m:\u001b[0m\u001b[1;33m\u001b[0m\u001b[1;33m\u001b[0m\u001b[0m\n\u001b[0;32m    383\u001b[0m         \u001b[1;32mtry\u001b[0m\u001b[1;33m:\u001b[0m\u001b[1;33m\u001b[0m\u001b[1;33m\u001b[0m\u001b[0m\n\u001b[1;32m--> 384\u001b[1;33m             \u001b[0mself\u001b[0m\u001b[1;33m.\u001b[0m\u001b[0mestimator\u001b[0m\u001b[1;33m.\u001b[0m\u001b[0mfit\u001b[0m\u001b[1;33m(\u001b[0m\u001b[0mX\u001b[0m\u001b[1;33m,\u001b[0m \u001b[0my\u001b[0m\u001b[1;33m)\u001b[0m\u001b[1;33m\u001b[0m\u001b[1;33m\u001b[0m\u001b[0m\n\u001b[0m\u001b[0;32m    385\u001b[0m         \u001b[1;32mexcept\u001b[0m \u001b[0mException\u001b[0m \u001b[1;32mas\u001b[0m \u001b[0me\u001b[0m\u001b[1;33m:\u001b[0m\u001b[1;33m\u001b[0m\u001b[1;33m\u001b[0m\u001b[0m\n\u001b[0;32m    386\u001b[0m             raise ValueError('Please check your X and y variable. The provided'\n",
      "\u001b[1;32m~\\Documents\\anaconda3\\envs\\sales_prediction\\lib\\site-packages\\sklearn\\ensemble\\_forest.py\u001b[0m in \u001b[0;36mfit\u001b[1;34m(self, X, y, sample_weight)\u001b[0m\n\u001b[0;32m    385\u001b[0m             \u001b[1;31m# parallel_backend contexts set at a higher level,\u001b[0m\u001b[1;33m\u001b[0m\u001b[1;33m\u001b[0m\u001b[1;33m\u001b[0m\u001b[0m\n\u001b[0;32m    386\u001b[0m             \u001b[1;31m# since correctness does not rely on using threads.\u001b[0m\u001b[1;33m\u001b[0m\u001b[1;33m\u001b[0m\u001b[1;33m\u001b[0m\u001b[0m\n\u001b[1;32m--> 387\u001b[1;33m             trees = Parallel(n_jobs=self.n_jobs, verbose=self.verbose,\n\u001b[0m\u001b[0;32m    388\u001b[0m                              \u001b[1;33m**\u001b[0m\u001b[0m_joblib_parallel_args\u001b[0m\u001b[1;33m(\u001b[0m\u001b[0mprefer\u001b[0m\u001b[1;33m=\u001b[0m\u001b[1;34m'threads'\u001b[0m\u001b[1;33m)\u001b[0m\u001b[1;33m)\u001b[0m\u001b[1;33m(\u001b[0m\u001b[1;33m\u001b[0m\u001b[1;33m\u001b[0m\u001b[0m\n\u001b[0;32m    389\u001b[0m                 delayed(_parallel_build_trees)(\n",
      "\u001b[1;32m~\\Documents\\anaconda3\\envs\\sales_prediction\\lib\\site-packages\\joblib\\parallel.py\u001b[0m in \u001b[0;36m__call__\u001b[1;34m(self, iterable)\u001b[0m\n\u001b[0;32m   1052\u001b[0m \u001b[1;33m\u001b[0m\u001b[0m\n\u001b[0;32m   1053\u001b[0m             \u001b[1;32mwith\u001b[0m \u001b[0mself\u001b[0m\u001b[1;33m.\u001b[0m\u001b[0m_backend\u001b[0m\u001b[1;33m.\u001b[0m\u001b[0mretrieval_context\u001b[0m\u001b[1;33m(\u001b[0m\u001b[1;33m)\u001b[0m\u001b[1;33m:\u001b[0m\u001b[1;33m\u001b[0m\u001b[1;33m\u001b[0m\u001b[0m\n\u001b[1;32m-> 1054\u001b[1;33m                 \u001b[0mself\u001b[0m\u001b[1;33m.\u001b[0m\u001b[0mretrieve\u001b[0m\u001b[1;33m(\u001b[0m\u001b[1;33m)\u001b[0m\u001b[1;33m\u001b[0m\u001b[1;33m\u001b[0m\u001b[0m\n\u001b[0m\u001b[0;32m   1055\u001b[0m             \u001b[1;31m# Make sure that we get a last message telling us we are done\u001b[0m\u001b[1;33m\u001b[0m\u001b[1;33m\u001b[0m\u001b[1;33m\u001b[0m\u001b[0m\n\u001b[0;32m   1056\u001b[0m             \u001b[0melapsed_time\u001b[0m \u001b[1;33m=\u001b[0m \u001b[0mtime\u001b[0m\u001b[1;33m.\u001b[0m\u001b[0mtime\u001b[0m\u001b[1;33m(\u001b[0m\u001b[1;33m)\u001b[0m \u001b[1;33m-\u001b[0m \u001b[0mself\u001b[0m\u001b[1;33m.\u001b[0m\u001b[0m_start_time\u001b[0m\u001b[1;33m\u001b[0m\u001b[1;33m\u001b[0m\u001b[0m\n",
      "\u001b[1;32m~\\Documents\\anaconda3\\envs\\sales_prediction\\lib\\site-packages\\joblib\\parallel.py\u001b[0m in \u001b[0;36mretrieve\u001b[1;34m(self)\u001b[0m\n\u001b[0;32m    931\u001b[0m             \u001b[1;32mtry\u001b[0m\u001b[1;33m:\u001b[0m\u001b[1;33m\u001b[0m\u001b[1;33m\u001b[0m\u001b[0m\n\u001b[0;32m    932\u001b[0m                 \u001b[1;32mif\u001b[0m \u001b[0mgetattr\u001b[0m\u001b[1;33m(\u001b[0m\u001b[0mself\u001b[0m\u001b[1;33m.\u001b[0m\u001b[0m_backend\u001b[0m\u001b[1;33m,\u001b[0m \u001b[1;34m'supports_timeout'\u001b[0m\u001b[1;33m,\u001b[0m \u001b[1;32mFalse\u001b[0m\u001b[1;33m)\u001b[0m\u001b[1;33m:\u001b[0m\u001b[1;33m\u001b[0m\u001b[1;33m\u001b[0m\u001b[0m\n\u001b[1;32m--> 933\u001b[1;33m                     \u001b[0mself\u001b[0m\u001b[1;33m.\u001b[0m\u001b[0m_output\u001b[0m\u001b[1;33m.\u001b[0m\u001b[0mextend\u001b[0m\u001b[1;33m(\u001b[0m\u001b[0mjob\u001b[0m\u001b[1;33m.\u001b[0m\u001b[0mget\u001b[0m\u001b[1;33m(\u001b[0m\u001b[0mtimeout\u001b[0m\u001b[1;33m=\u001b[0m\u001b[0mself\u001b[0m\u001b[1;33m.\u001b[0m\u001b[0mtimeout\u001b[0m\u001b[1;33m)\u001b[0m\u001b[1;33m)\u001b[0m\u001b[1;33m\u001b[0m\u001b[1;33m\u001b[0m\u001b[0m\n\u001b[0m\u001b[0;32m    934\u001b[0m                 \u001b[1;32melse\u001b[0m\u001b[1;33m:\u001b[0m\u001b[1;33m\u001b[0m\u001b[1;33m\u001b[0m\u001b[0m\n\u001b[0;32m    935\u001b[0m                     \u001b[0mself\u001b[0m\u001b[1;33m.\u001b[0m\u001b[0m_output\u001b[0m\u001b[1;33m.\u001b[0m\u001b[0mextend\u001b[0m\u001b[1;33m(\u001b[0m\u001b[0mjob\u001b[0m\u001b[1;33m.\u001b[0m\u001b[0mget\u001b[0m\u001b[1;33m(\u001b[0m\u001b[1;33m)\u001b[0m\u001b[1;33m)\u001b[0m\u001b[1;33m\u001b[0m\u001b[1;33m\u001b[0m\u001b[0m\n",
      "\u001b[1;32m~\\Documents\\anaconda3\\envs\\sales_prediction\\lib\\multiprocessing\\pool.py\u001b[0m in \u001b[0;36mget\u001b[1;34m(self, timeout)\u001b[0m\n\u001b[0;32m    763\u001b[0m \u001b[1;33m\u001b[0m\u001b[0m\n\u001b[0;32m    764\u001b[0m     \u001b[1;32mdef\u001b[0m \u001b[0mget\u001b[0m\u001b[1;33m(\u001b[0m\u001b[0mself\u001b[0m\u001b[1;33m,\u001b[0m \u001b[0mtimeout\u001b[0m\u001b[1;33m=\u001b[0m\u001b[1;32mNone\u001b[0m\u001b[1;33m)\u001b[0m\u001b[1;33m:\u001b[0m\u001b[1;33m\u001b[0m\u001b[1;33m\u001b[0m\u001b[0m\n\u001b[1;32m--> 765\u001b[1;33m         \u001b[0mself\u001b[0m\u001b[1;33m.\u001b[0m\u001b[0mwait\u001b[0m\u001b[1;33m(\u001b[0m\u001b[0mtimeout\u001b[0m\u001b[1;33m)\u001b[0m\u001b[1;33m\u001b[0m\u001b[1;33m\u001b[0m\u001b[0m\n\u001b[0m\u001b[0;32m    766\u001b[0m         \u001b[1;32mif\u001b[0m \u001b[1;32mnot\u001b[0m \u001b[0mself\u001b[0m\u001b[1;33m.\u001b[0m\u001b[0mready\u001b[0m\u001b[1;33m(\u001b[0m\u001b[1;33m)\u001b[0m\u001b[1;33m:\u001b[0m\u001b[1;33m\u001b[0m\u001b[1;33m\u001b[0m\u001b[0m\n\u001b[0;32m    767\u001b[0m             \u001b[1;32mraise\u001b[0m \u001b[0mTimeoutError\u001b[0m\u001b[1;33m\u001b[0m\u001b[1;33m\u001b[0m\u001b[0m\n",
      "\u001b[1;32m~\\Documents\\anaconda3\\envs\\sales_prediction\\lib\\multiprocessing\\pool.py\u001b[0m in \u001b[0;36mwait\u001b[1;34m(self, timeout)\u001b[0m\n\u001b[0;32m    760\u001b[0m \u001b[1;33m\u001b[0m\u001b[0m\n\u001b[0;32m    761\u001b[0m     \u001b[1;32mdef\u001b[0m \u001b[0mwait\u001b[0m\u001b[1;33m(\u001b[0m\u001b[0mself\u001b[0m\u001b[1;33m,\u001b[0m \u001b[0mtimeout\u001b[0m\u001b[1;33m=\u001b[0m\u001b[1;32mNone\u001b[0m\u001b[1;33m)\u001b[0m\u001b[1;33m:\u001b[0m\u001b[1;33m\u001b[0m\u001b[1;33m\u001b[0m\u001b[0m\n\u001b[1;32m--> 762\u001b[1;33m         \u001b[0mself\u001b[0m\u001b[1;33m.\u001b[0m\u001b[0m_event\u001b[0m\u001b[1;33m.\u001b[0m\u001b[0mwait\u001b[0m\u001b[1;33m(\u001b[0m\u001b[0mtimeout\u001b[0m\u001b[1;33m)\u001b[0m\u001b[1;33m\u001b[0m\u001b[1;33m\u001b[0m\u001b[0m\n\u001b[0m\u001b[0;32m    763\u001b[0m \u001b[1;33m\u001b[0m\u001b[0m\n\u001b[0;32m    764\u001b[0m     \u001b[1;32mdef\u001b[0m \u001b[0mget\u001b[0m\u001b[1;33m(\u001b[0m\u001b[0mself\u001b[0m\u001b[1;33m,\u001b[0m \u001b[0mtimeout\u001b[0m\u001b[1;33m=\u001b[0m\u001b[1;32mNone\u001b[0m\u001b[1;33m)\u001b[0m\u001b[1;33m:\u001b[0m\u001b[1;33m\u001b[0m\u001b[1;33m\u001b[0m\u001b[0m\n",
      "\u001b[1;32m~\\Documents\\anaconda3\\envs\\sales_prediction\\lib\\threading.py\u001b[0m in \u001b[0;36mwait\u001b[1;34m(self, timeout)\u001b[0m\n\u001b[0;32m    556\u001b[0m             \u001b[0msignaled\u001b[0m \u001b[1;33m=\u001b[0m \u001b[0mself\u001b[0m\u001b[1;33m.\u001b[0m\u001b[0m_flag\u001b[0m\u001b[1;33m\u001b[0m\u001b[1;33m\u001b[0m\u001b[0m\n\u001b[0;32m    557\u001b[0m             \u001b[1;32mif\u001b[0m \u001b[1;32mnot\u001b[0m \u001b[0msignaled\u001b[0m\u001b[1;33m:\u001b[0m\u001b[1;33m\u001b[0m\u001b[1;33m\u001b[0m\u001b[0m\n\u001b[1;32m--> 558\u001b[1;33m                 \u001b[0msignaled\u001b[0m \u001b[1;33m=\u001b[0m \u001b[0mself\u001b[0m\u001b[1;33m.\u001b[0m\u001b[0m_cond\u001b[0m\u001b[1;33m.\u001b[0m\u001b[0mwait\u001b[0m\u001b[1;33m(\u001b[0m\u001b[0mtimeout\u001b[0m\u001b[1;33m)\u001b[0m\u001b[1;33m\u001b[0m\u001b[1;33m\u001b[0m\u001b[0m\n\u001b[0m\u001b[0;32m    559\u001b[0m             \u001b[1;32mreturn\u001b[0m \u001b[0msignaled\u001b[0m\u001b[1;33m\u001b[0m\u001b[1;33m\u001b[0m\u001b[0m\n\u001b[0;32m    560\u001b[0m \u001b[1;33m\u001b[0m\u001b[0m\n",
      "\u001b[1;32m~\\Documents\\anaconda3\\envs\\sales_prediction\\lib\\threading.py\u001b[0m in \u001b[0;36mwait\u001b[1;34m(self, timeout)\u001b[0m\n\u001b[0;32m    300\u001b[0m         \u001b[1;32mtry\u001b[0m\u001b[1;33m:\u001b[0m    \u001b[1;31m# restore state no matter what (e.g., KeyboardInterrupt)\u001b[0m\u001b[1;33m\u001b[0m\u001b[1;33m\u001b[0m\u001b[0m\n\u001b[0;32m    301\u001b[0m             \u001b[1;32mif\u001b[0m \u001b[0mtimeout\u001b[0m \u001b[1;32mis\u001b[0m \u001b[1;32mNone\u001b[0m\u001b[1;33m:\u001b[0m\u001b[1;33m\u001b[0m\u001b[1;33m\u001b[0m\u001b[0m\n\u001b[1;32m--> 302\u001b[1;33m                 \u001b[0mwaiter\u001b[0m\u001b[1;33m.\u001b[0m\u001b[0macquire\u001b[0m\u001b[1;33m(\u001b[0m\u001b[1;33m)\u001b[0m\u001b[1;33m\u001b[0m\u001b[1;33m\u001b[0m\u001b[0m\n\u001b[0m\u001b[0;32m    303\u001b[0m                 \u001b[0mgotit\u001b[0m \u001b[1;33m=\u001b[0m \u001b[1;32mTrue\u001b[0m\u001b[1;33m\u001b[0m\u001b[1;33m\u001b[0m\u001b[0m\n\u001b[0;32m    304\u001b[0m             \u001b[1;32melse\u001b[0m\u001b[1;33m:\u001b[0m\u001b[1;33m\u001b[0m\u001b[1;33m\u001b[0m\u001b[0m\n",
      "\u001b[1;31mKeyboardInterrupt\u001b[0m: "
     ]
    }
   ],
   "source": [
    "# training and test datset for Boruta\n",
    "X_train_blist = X_train.drop(['date', 'sales'], axis=1).values # array\n",
    "Y_train_blist = Y_train.values.ravel() # array\n",
    "\n",
    "# defining Radom Forest Regressor\n",
    "rf = RandomForestRegressor(n_jobs=-1) # pararel processing\n",
    "\n",
    "# defining Boruta\n",
    "boruta = BorutaPy(rf, n_estimators='auto', verbose=2, random_state=42).fit(X_train_blist, Y_train_blist)"
   ]
  },
  {
   "cell_type": "code",
   "execution_count": null,
   "id": "11105746",
   "metadata": {},
   "outputs": [],
   "source": [
    "cols_selected_blist = boruta.support_.tolist() # list of features boruta selected in boolean format\n",
    "X_train_FS = X_train.drop(['date', 'sales'], axis=1) # deleting cols from X_train to read next step\n",
    "\n",
    "# Features Selected from Boruta\n",
    "cols_selected_boruta = X_train_FS.iloc[:, cols_selected_blist].columns.to_list() # list of columns boruta selected\n",
    "\n",
    "# Features not Selected from Boruta\n",
    "cols_notselected_boruta = list(np.setdiff1d(X_train_FS.columns, cols_selected_boruta)) # list of columns boruta did not select"
   ]
  },
  {
   "cell_type": "markdown",
   "id": "2cd6be1a",
   "metadata": {},
   "source": [
    "## Manual Feature Selection"
   ]
  },
  {
   "cell_type": "code",
   "execution_count": null,
   "id": "8a414614",
   "metadata": {
    "ExecuteTime": {
     "end_time": "2021-08-04T01:54:59.854717Z",
     "start_time": "2021-08-04T01:53:34.514Z"
    }
   },
   "outputs": [],
   "source": [
    "cols_selected_boruta"
   ]
  },
  {
   "cell_type": "code",
   "execution_count": 371,
   "id": "137115c9",
   "metadata": {
    "ExecuteTime": {
     "end_time": "2021-08-04T01:56:09.220182Z",
     "start_time": "2021-08-04T01:56:09.205169Z"
    }
   },
   "outputs": [
    {
     "data": {
      "text/plain": [
       "['store',\n",
       " 'promo',\n",
       " 'store_type',\n",
       " 'assortment',\n",
       " 'competition_distance',\n",
       " 'competition_open_since_month',\n",
       " 'competition_open_since_year',\n",
       " 'promo2',\n",
       " 'promo2_since_week',\n",
       " 'promo2_since_year',\n",
       " 'competition_open_timeinmonths',\n",
       " 'promo_since_timeinweeks',\n",
       " 'month_sin',\n",
       " 'month_cos',\n",
       " 'week_of_year_sin',\n",
       " 'week_of_year_cos',\n",
       " 'day_sin',\n",
       " 'day_cos',\n",
       " 'day_of_week_sin',\n",
       " 'day_of_week_cos',\n",
       " 'date',\n",
       " 'sales',\n",
       " 'date',\n",
       " 'sales']"
      ]
     },
     "execution_count": 371,
     "metadata": {},
     "output_type": "execute_result"
    }
   ],
   "source": [
    "# Features Selected from Boruta\n",
    "cols_selected_boruta = [\n",
    " 'store',\n",
    " 'promo',\n",
    " 'store_type',\n",
    " 'assortment',\n",
    " 'competition_distance',\n",
    " 'competition_open_since_month',\n",
    " 'competition_open_since_year',\n",
    " 'promo2',\n",
    " 'promo2_since_week',\n",
    " 'promo2_since_year',\n",
    " 'competition_open_timeinmonths',\n",
    " 'promo_since_timeinweeks',\n",
    " 'month_sin', # added manually\n",
    " 'month_cos',\n",
    " 'week_of_year_sin', # added manually\n",
    " 'week_of_year_cos',\n",
    " 'day_sin',\n",
    " 'day_cos',\n",
    " 'day_of_week_sin',\n",
    " 'day_of_week_cos']\n",
    "\n",
    "# features to add\n",
    "features_added = ['date', 'sales']\n",
    "\n",
    "# final features\n",
    "cols_selected_boruta.extend(features_added)\n",
    "\n",
    "cols_selected_boruta_full = cols_selected_boruta.copy()\n",
    "cols_selected_boruta_full.extend(features_added)\n",
    "\n",
    "cols_selected_boruta_full"
   ]
  },
  {
   "cell_type": "code",
   "execution_count": null,
   "id": "3626f472",
   "metadata": {},
   "outputs": [],
   "source": []
  }
 ],
 "metadata": {
  "kernelspec": {
   "display_name": "Python 3",
   "language": "python",
   "name": "python3"
  },
  "language_info": {
   "codemirror_mode": {
    "name": "ipython",
    "version": 3
   },
   "file_extension": ".py",
   "mimetype": "text/x-python",
   "name": "python",
   "nbconvert_exporter": "python",
   "pygments_lexer": "ipython3",
   "version": "3.8.10"
  },
  "toc": {
   "base_numbering": "0",
   "nav_menu": {},
   "number_sections": true,
   "sideBar": false,
   "skip_h1_title": false,
   "title_cell": "Table of Contents",
   "title_sidebar": "Contents",
   "toc_cell": false,
   "toc_position": {
    "height": "47.7778px",
    "left": "905.308px",
    "top": "134.045px",
    "width": "159.132px"
   },
   "toc_section_display": false,
   "toc_window_display": true
  }
 },
 "nbformat": 4,
 "nbformat_minor": 5
}
