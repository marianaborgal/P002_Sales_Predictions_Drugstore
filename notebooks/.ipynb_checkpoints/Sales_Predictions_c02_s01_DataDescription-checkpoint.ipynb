{
 "cells": [
  {
   "cell_type": "markdown",
   "id": "cognitive-closure",
   "metadata": {
    "heading_collapsed": true
   },
   "source": [
    "# Imports"
   ]
  },
  {
   "cell_type": "code",
   "execution_count": 37,
   "id": "affiliated-dealing",
   "metadata": {
    "ExecuteTime": {
     "end_time": "2022-01-08T19:14:45.828551Z",
     "start_time": "2022-01-08T19:14:45.813971Z"
    },
    "hidden": true
   },
   "outputs": [],
   "source": [
    "import pandas             as pd\n",
    "import numpy              as np\n",
    "import seaborn            as sns\n",
    "import inflection\n",
    "import math\n",
    "import datetime\n",
    "\n",
    "from IPython.core.display import HTML\n",
    "from matplotlib           import pyplot     as plt"
   ]
  },
  {
   "cell_type": "markdown",
   "id": "english-papua",
   "metadata": {
    "heading_collapsed": true,
    "hidden": true
   },
   "source": [
    "## Helper Functions"
   ]
  },
  {
   "cell_type": "code",
   "execution_count": 2,
   "id": "departmental-regulation",
   "metadata": {
    "ExecuteTime": {
     "end_time": "2022-01-08T15:41:45.111085Z",
     "start_time": "2022-01-08T15:41:45.097432Z"
    },
    "hidden": true
   },
   "outputs": [],
   "source": [
    "def personal_settings():\n",
    "    \n",
    "    # plotly settings\n",
    "    plt.style.use('bmh')\n",
    "    plt.rcParams['figure.figsize'] = [20, 10]\n",
    "    plt.rcParams['font.size'] = 24\n",
    "        \n",
    "    # notebook settings\n",
    "    display(HTML('<style>.container{width:90% !important;}</style>'))\n",
    "    np.set_printoptions(suppress=True)\n",
    "    pd.set_option('display.float_format', '{:.2f}'.format)\n",
    "        \n",
    "    # seaborn settings\n",
    "    sns.set(rc={'figure.figsize':(20,10)})\n",
    "    sns.set_theme(style = 'darkgrid', font_scale = 1.5)"
   ]
  },
  {
   "cell_type": "code",
   "execution_count": 15,
   "id": "comprehensive-model",
   "metadata": {
    "ExecuteTime": {
     "end_time": "2022-01-08T19:08:56.963643Z",
     "start_time": "2022-01-08T19:08:56.949196Z"
    },
    "hidden": true
   },
   "outputs": [
    {
     "data": {
      "text/html": [
       "<style>.container{width:90% !important;}</style>"
      ],
      "text/plain": [
       "<IPython.core.display.HTML object>"
      ]
     },
     "metadata": {},
     "output_type": "display_data"
    }
   ],
   "source": [
    "personal_settings();"
   ]
  },
  {
   "cell_type": "markdown",
   "id": "4779ef20",
   "metadata": {
    "heading_collapsed": true,
    "hidden": true
   },
   "source": [
    "## Loading Data"
   ]
  },
  {
   "cell_type": "code",
   "execution_count": 16,
   "id": "4b78745e",
   "metadata": {
    "ExecuteTime": {
     "end_time": "2022-01-08T19:08:58.371117Z",
     "start_time": "2022-01-08T19:08:57.354591Z"
    },
    "hidden": true
   },
   "outputs": [
    {
     "data": {
      "text/html": [
       "<div>\n",
       "<style scoped>\n",
       "    .dataframe tbody tr th:only-of-type {\n",
       "        vertical-align: middle;\n",
       "    }\n",
       "\n",
       "    .dataframe tbody tr th {\n",
       "        vertical-align: top;\n",
       "    }\n",
       "\n",
       "    .dataframe thead th {\n",
       "        text-align: right;\n",
       "    }\n",
       "</style>\n",
       "<table border=\"1\" class=\"dataframe\">\n",
       "  <thead>\n",
       "    <tr style=\"text-align: right;\">\n",
       "      <th></th>\n",
       "      <th>Store</th>\n",
       "      <th>DayOfWeek</th>\n",
       "      <th>Date</th>\n",
       "      <th>Sales</th>\n",
       "      <th>Customers</th>\n",
       "      <th>Open</th>\n",
       "      <th>Promo</th>\n",
       "      <th>StateHoliday</th>\n",
       "      <th>SchoolHoliday</th>\n",
       "      <th>StoreType</th>\n",
       "      <th>Assortment</th>\n",
       "      <th>CompetitionDistance</th>\n",
       "      <th>CompetitionOpenSinceMonth</th>\n",
       "      <th>CompetitionOpenSinceYear</th>\n",
       "      <th>Promo2</th>\n",
       "      <th>Promo2SinceWeek</th>\n",
       "      <th>Promo2SinceYear</th>\n",
       "      <th>PromoInterval</th>\n",
       "    </tr>\n",
       "  </thead>\n",
       "  <tbody>\n",
       "    <tr>\n",
       "      <th>0</th>\n",
       "      <td>1</td>\n",
       "      <td>5</td>\n",
       "      <td>2015-07-31</td>\n",
       "      <td>5263</td>\n",
       "      <td>555</td>\n",
       "      <td>1</td>\n",
       "      <td>1</td>\n",
       "      <td>0</td>\n",
       "      <td>1</td>\n",
       "      <td>c</td>\n",
       "      <td>a</td>\n",
       "      <td>1270.00</td>\n",
       "      <td>9.00</td>\n",
       "      <td>2008.00</td>\n",
       "      <td>0</td>\n",
       "      <td>NaN</td>\n",
       "      <td>NaN</td>\n",
       "      <td>NaN</td>\n",
       "    </tr>\n",
       "    <tr>\n",
       "      <th>1</th>\n",
       "      <td>2</td>\n",
       "      <td>5</td>\n",
       "      <td>2015-07-31</td>\n",
       "      <td>6064</td>\n",
       "      <td>625</td>\n",
       "      <td>1</td>\n",
       "      <td>1</td>\n",
       "      <td>0</td>\n",
       "      <td>1</td>\n",
       "      <td>a</td>\n",
       "      <td>a</td>\n",
       "      <td>570.00</td>\n",
       "      <td>11.00</td>\n",
       "      <td>2007.00</td>\n",
       "      <td>1</td>\n",
       "      <td>13.00</td>\n",
       "      <td>2010.00</td>\n",
       "      <td>Jan,Apr,Jul,Oct</td>\n",
       "    </tr>\n",
       "  </tbody>\n",
       "</table>\n",
       "</div>"
      ],
      "text/plain": [
       "   Store  DayOfWeek        Date  Sales  Customers  Open  Promo StateHoliday  \\\n",
       "0      1          5  2015-07-31   5263        555     1      1            0   \n",
       "1      2          5  2015-07-31   6064        625     1      1            0   \n",
       "\n",
       "   SchoolHoliday StoreType Assortment  CompetitionDistance  \\\n",
       "0              1         c          a              1270.00   \n",
       "1              1         a          a               570.00   \n",
       "\n",
       "   CompetitionOpenSinceMonth  CompetitionOpenSinceYear  Promo2  \\\n",
       "0                       9.00                   2008.00       0   \n",
       "1                      11.00                   2007.00       1   \n",
       "\n",
       "   Promo2SinceWeek  Promo2SinceYear    PromoInterval  \n",
       "0              NaN              NaN              NaN  \n",
       "1            13.00          2010.00  Jan,Apr,Jul,Oct  "
      ]
     },
     "execution_count": 16,
     "metadata": {},
     "output_type": "execute_result"
    }
   ],
   "source": [
    "df_sales_raw = pd.read_csv('../data/raw/train.csv', low_memory=False)\n",
    "df_store_raw = pd.read_csv('../data/raw/store.csv', low_memory=False)\n",
    "\n",
    "# merging datasets\n",
    "df_raw = pd.merge(df_sales_raw, df_store_raw, how='left', on='Store')\n",
    "df_raw.head(2)"
   ]
  },
  {
   "cell_type": "markdown",
   "id": "b510a0bb",
   "metadata": {},
   "source": [
    "# DATA DESCRIPTION"
   ]
  },
  {
   "cell_type": "code",
   "execution_count": 44,
   "id": "14db08fb",
   "metadata": {
    "ExecuteTime": {
     "end_time": "2022-01-08T19:22:00.202639Z",
     "start_time": "2022-01-08T19:22:00.039510Z"
    }
   },
   "outputs": [],
   "source": [
    "df1=df_raw.copy()"
   ]
  },
  {
   "cell_type": "markdown",
   "id": "dee5f0ff",
   "metadata": {
    "heading_collapsed": true
   },
   "source": [
    "## Renaming Columns"
   ]
  },
  {
   "cell_type": "code",
   "execution_count": 45,
   "id": "d9348de0",
   "metadata": {
    "ExecuteTime": {
     "end_time": "2022-01-08T19:22:00.407359Z",
     "start_time": "2022-01-08T19:22:00.400337Z"
    },
    "hidden": true
   },
   "outputs": [
    {
     "data": {
      "text/plain": [
       "Index(['Store', 'DayOfWeek', 'Date', 'Sales', 'Customers', 'Open', 'Promo',\n",
       "       'StateHoliday', 'SchoolHoliday', 'StoreType', 'Assortment',\n",
       "       'CompetitionDistance', 'CompetitionOpenSinceMonth',\n",
       "       'CompetitionOpenSinceYear', 'Promo2', 'Promo2SinceWeek',\n",
       "       'Promo2SinceYear', 'PromoInterval'],\n",
       "      dtype='object')"
      ]
     },
     "execution_count": 45,
     "metadata": {},
     "output_type": "execute_result"
    }
   ],
   "source": [
    "df1.columns"
   ]
  },
  {
   "cell_type": "code",
   "execution_count": 46,
   "id": "2c0f1bba",
   "metadata": {
    "ExecuteTime": {
     "end_time": "2022-01-08T19:22:00.547596Z",
     "start_time": "2022-01-08T19:22:00.540926Z"
    },
    "hidden": true
   },
   "outputs": [
    {
     "name": "stdout",
     "output_type": "stream",
     "text": [
      "Index(['store', 'day_of_week', 'date', 'sales', 'customers', 'open', 'promo',\n",
      "       'state_holiday', 'school_holiday', 'store_type', 'assortment',\n",
      "       'competition_distance', 'competition_open_since_month',\n",
      "       'competition_open_since_year', 'promo2', 'promo2_since_week',\n",
      "       'promo2_since_year', 'promo_interval'],\n",
      "      dtype='object')\n"
     ]
    }
   ],
   "source": [
    "cols_old=['Store', 'DayOfWeek', 'Date', 'Sales', 'Customers', 'Open', 'Promo',\n",
    "           'StateHoliday', 'SchoolHoliday', 'StoreType', 'Assortment',\n",
    "           'CompetitionDistance', 'CompetitionOpenSinceMonth',\n",
    "           'CompetitionOpenSinceYear', 'Promo2', 'Promo2SinceWeek',\n",
    "           'Promo2SinceYear', 'PromoInterval']\n",
    "\n",
    "\n",
    "# changing the name of the columns\n",
    "snakecase = lambda x: inflection.underscore(x)\n",
    "cols_new = list(map(snakecase, cols_old))\n",
    "\n",
    "# renaming dataset columns\n",
    "df1.columns = cols_new\n",
    "print(df1.columns)"
   ]
  },
  {
   "cell_type": "markdown",
   "id": "12dacbee",
   "metadata": {
    "heading_collapsed": true
   },
   "source": [
    "## Data Dimension"
   ]
  },
  {
   "cell_type": "code",
   "execution_count": 47,
   "id": "61152a6c",
   "metadata": {
    "ExecuteTime": {
     "end_time": "2022-01-08T19:22:00.922226Z",
     "start_time": "2022-01-08T19:22:00.916245Z"
    },
    "hidden": true
   },
   "outputs": [
    {
     "name": "stdout",
     "output_type": "stream",
     "text": [
      "Number of rows: 1017209\n",
      "Number of columns: 18\n"
     ]
    }
   ],
   "source": [
    "print('Number of rows: {}' .format(df1.shape[0]))\n",
    "print('Number of columns: {}' .format(df1.shape[1]))"
   ]
  },
  {
   "cell_type": "markdown",
   "id": "267f2e48",
   "metadata": {
    "heading_collapsed": true
   },
   "source": [
    "## Data Types"
   ]
  },
  {
   "cell_type": "code",
   "execution_count": 48,
   "id": "bde28d70",
   "metadata": {
    "ExecuteTime": {
     "end_time": "2022-01-08T19:22:01.293868Z",
     "start_time": "2022-01-08T19:22:01.264835Z"
    },
    "hidden": true
   },
   "outputs": [
    {
     "name": "stdout",
     "output_type": "stream",
     "text": [
      "store                             int64\n",
      "day_of_week                       int64\n",
      "date                             object\n",
      "sales                             int64\n",
      "customers                         int64\n",
      "open                              int64\n",
      "promo                             int64\n",
      "state_holiday                    object\n",
      "school_holiday                    int64\n",
      "store_type                       object\n",
      "assortment                       object\n",
      "competition_distance            float64\n",
      "competition_open_since_month    float64\n",
      "competition_open_since_year     float64\n",
      "promo2                            int64\n",
      "promo2_since_week               float64\n",
      "promo2_since_year               float64\n",
      "promo_interval                   object\n",
      "dtype: object\n"
     ]
    },
    {
     "data": {
      "text/html": [
       "<div>\n",
       "<style scoped>\n",
       "    .dataframe tbody tr th:only-of-type {\n",
       "        vertical-align: middle;\n",
       "    }\n",
       "\n",
       "    .dataframe tbody tr th {\n",
       "        vertical-align: top;\n",
       "    }\n",
       "\n",
       "    .dataframe thead th {\n",
       "        text-align: right;\n",
       "    }\n",
       "</style>\n",
       "<table border=\"1\" class=\"dataframe\">\n",
       "  <thead>\n",
       "    <tr style=\"text-align: right;\">\n",
       "      <th></th>\n",
       "      <th>store</th>\n",
       "      <th>day_of_week</th>\n",
       "      <th>date</th>\n",
       "      <th>sales</th>\n",
       "      <th>customers</th>\n",
       "      <th>open</th>\n",
       "      <th>promo</th>\n",
       "      <th>state_holiday</th>\n",
       "      <th>school_holiday</th>\n",
       "      <th>store_type</th>\n",
       "      <th>assortment</th>\n",
       "      <th>competition_distance</th>\n",
       "      <th>competition_open_since_month</th>\n",
       "      <th>competition_open_since_year</th>\n",
       "      <th>promo2</th>\n",
       "      <th>promo2_since_week</th>\n",
       "      <th>promo2_since_year</th>\n",
       "      <th>promo_interval</th>\n",
       "    </tr>\n",
       "  </thead>\n",
       "  <tbody>\n",
       "    <tr>\n",
       "      <th>0</th>\n",
       "      <td>1</td>\n",
       "      <td>5</td>\n",
       "      <td>2015-07-31</td>\n",
       "      <td>5263</td>\n",
       "      <td>555</td>\n",
       "      <td>1</td>\n",
       "      <td>1</td>\n",
       "      <td>0</td>\n",
       "      <td>1</td>\n",
       "      <td>c</td>\n",
       "      <td>a</td>\n",
       "      <td>1270.00</td>\n",
       "      <td>9.00</td>\n",
       "      <td>2008.00</td>\n",
       "      <td>0</td>\n",
       "      <td>NaN</td>\n",
       "      <td>NaN</td>\n",
       "      <td>NaN</td>\n",
       "    </tr>\n",
       "    <tr>\n",
       "      <th>1</th>\n",
       "      <td>2</td>\n",
       "      <td>5</td>\n",
       "      <td>2015-07-31</td>\n",
       "      <td>6064</td>\n",
       "      <td>625</td>\n",
       "      <td>1</td>\n",
       "      <td>1</td>\n",
       "      <td>0</td>\n",
       "      <td>1</td>\n",
       "      <td>a</td>\n",
       "      <td>a</td>\n",
       "      <td>570.00</td>\n",
       "      <td>11.00</td>\n",
       "      <td>2007.00</td>\n",
       "      <td>1</td>\n",
       "      <td>13.00</td>\n",
       "      <td>2010.00</td>\n",
       "      <td>Jan,Apr,Jul,Oct</td>\n",
       "    </tr>\n",
       "  </tbody>\n",
       "</table>\n",
       "</div>"
      ],
      "text/plain": [
       "   store  day_of_week        date  sales  customers  open  promo  \\\n",
       "0      1            5  2015-07-31   5263        555     1      1   \n",
       "1      2            5  2015-07-31   6064        625     1      1   \n",
       "\n",
       "  state_holiday  school_holiday store_type assortment  competition_distance  \\\n",
       "0             0               1          c          a               1270.00   \n",
       "1             0               1          a          a                570.00   \n",
       "\n",
       "   competition_open_since_month  competition_open_since_year  promo2  \\\n",
       "0                          9.00                      2008.00       0   \n",
       "1                         11.00                      2007.00       1   \n",
       "\n",
       "   promo2_since_week  promo2_since_year   promo_interval  \n",
       "0                NaN                NaN              NaN  \n",
       "1              13.00            2010.00  Jan,Apr,Jul,Oct  "
      ]
     },
     "execution_count": 48,
     "metadata": {},
     "output_type": "execute_result"
    }
   ],
   "source": [
    "print(df1.dtypes)\n",
    "df1.head(2)"
   ]
  },
  {
   "cell_type": "markdown",
   "id": "ce7f200d",
   "metadata": {
    "heading_collapsed": true
   },
   "source": [
    "## Checking NA "
   ]
  },
  {
   "cell_type": "code",
   "execution_count": 49,
   "id": "62004bda",
   "metadata": {
    "ExecuteTime": {
     "end_time": "2022-01-08T19:22:01.905417Z",
     "start_time": "2022-01-08T19:22:01.722731Z"
    },
    "hidden": true
   },
   "outputs": [
    {
     "data": {
      "text/plain": [
       "store                                0\n",
       "day_of_week                          0\n",
       "date                                 0\n",
       "sales                                0\n",
       "customers                            0\n",
       "open                                 0\n",
       "promo                                0\n",
       "state_holiday                        0\n",
       "school_holiday                       0\n",
       "store_type                           0\n",
       "assortment                           0\n",
       "competition_distance              2642\n",
       "competition_open_since_month    323348\n",
       "competition_open_since_year     323348\n",
       "promo2                               0\n",
       "promo2_since_week               508031\n",
       "promo2_since_year               508031\n",
       "promo_interval                  508031\n",
       "dtype: int64"
      ]
     },
     "execution_count": 49,
     "metadata": {},
     "output_type": "execute_result"
    }
   ],
   "source": [
    "df1.isna().sum()"
   ]
  },
  {
   "cell_type": "markdown",
   "id": "5bda2b07",
   "metadata": {
    "heading_collapsed": true
   },
   "source": [
    "## Filling Out NA"
   ]
  },
  {
   "cell_type": "code",
   "execution_count": 50,
   "id": "a2b59e77",
   "metadata": {
    "ExecuteTime": {
     "end_time": "2022-01-08T19:22:02.452100Z",
     "start_time": "2022-01-08T19:22:02.366887Z"
    },
    "hidden": true
   },
   "outputs": [
    {
     "data": {
      "text/html": [
       "<div>\n",
       "<style scoped>\n",
       "    .dataframe tbody tr th:only-of-type {\n",
       "        vertical-align: middle;\n",
       "    }\n",
       "\n",
       "    .dataframe tbody tr th {\n",
       "        vertical-align: top;\n",
       "    }\n",
       "\n",
       "    .dataframe thead th {\n",
       "        text-align: right;\n",
       "    }\n",
       "</style>\n",
       "<table border=\"1\" class=\"dataframe\">\n",
       "  <thead>\n",
       "    <tr style=\"text-align: right;\">\n",
       "      <th></th>\n",
       "      <th>store</th>\n",
       "      <th>date</th>\n",
       "      <th>competition_distance</th>\n",
       "      <th>competition_open_since_month</th>\n",
       "      <th>competition_open_since_year</th>\n",
       "      <th>promo2</th>\n",
       "      <th>promo2_since_week</th>\n",
       "      <th>promo2_since_year</th>\n",
       "      <th>promo_interval</th>\n",
       "    </tr>\n",
       "  </thead>\n",
       "  <tbody>\n",
       "    <tr>\n",
       "      <th>985909</th>\n",
       "      <td>1035</td>\n",
       "      <td>2013-01-29</td>\n",
       "      <td>27150.00</td>\n",
       "      <td>NaN</td>\n",
       "      <td>NaN</td>\n",
       "      <td>0</td>\n",
       "      <td>NaN</td>\n",
       "      <td>NaN</td>\n",
       "      <td>NaN</td>\n",
       "    </tr>\n",
       "    <tr>\n",
       "      <th>937760</th>\n",
       "      <td>831</td>\n",
       "      <td>2013-03-13</td>\n",
       "      <td>800.00</td>\n",
       "      <td>6.00</td>\n",
       "      <td>2007.00</td>\n",
       "      <td>0</td>\n",
       "      <td>NaN</td>\n",
       "      <td>NaN</td>\n",
       "      <td>NaN</td>\n",
       "    </tr>\n",
       "    <tr>\n",
       "      <th>936073</th>\n",
       "      <td>259</td>\n",
       "      <td>2013-03-14</td>\n",
       "      <td>210.00</td>\n",
       "      <td>NaN</td>\n",
       "      <td>NaN</td>\n",
       "      <td>0</td>\n",
       "      <td>NaN</td>\n",
       "      <td>NaN</td>\n",
       "      <td>NaN</td>\n",
       "    </tr>\n",
       "    <tr>\n",
       "      <th>845858</th>\n",
       "      <td>359</td>\n",
       "      <td>2013-06-03</td>\n",
       "      <td>4370.00</td>\n",
       "      <td>NaN</td>\n",
       "      <td>NaN</td>\n",
       "      <td>0</td>\n",
       "      <td>NaN</td>\n",
       "      <td>NaN</td>\n",
       "      <td>NaN</td>\n",
       "    </tr>\n",
       "    <tr>\n",
       "      <th>720557</th>\n",
       "      <td>1053</td>\n",
       "      <td>2013-09-24</td>\n",
       "      <td>1710.00</td>\n",
       "      <td>7.00</td>\n",
       "      <td>2015.00</td>\n",
       "      <td>0</td>\n",
       "      <td>NaN</td>\n",
       "      <td>NaN</td>\n",
       "      <td>NaN</td>\n",
       "    </tr>\n",
       "    <tr>\n",
       "      <th>640132</th>\n",
       "      <td>908</td>\n",
       "      <td>2013-12-05</td>\n",
       "      <td>1980.00</td>\n",
       "      <td>7.00</td>\n",
       "      <td>2010.00</td>\n",
       "      <td>1</td>\n",
       "      <td>37.00</td>\n",
       "      <td>2009.00</td>\n",
       "      <td>Jan,Apr,Jul,Oct</td>\n",
       "    </tr>\n",
       "    <tr>\n",
       "      <th>619600</th>\n",
       "      <td>446</td>\n",
       "      <td>2013-12-23</td>\n",
       "      <td>340.00</td>\n",
       "      <td>10.00</td>\n",
       "      <td>2000.00</td>\n",
       "      <td>1</td>\n",
       "      <td>31.00</td>\n",
       "      <td>2013.00</td>\n",
       "      <td>Feb,May,Aug,Nov</td>\n",
       "    </tr>\n",
       "    <tr>\n",
       "      <th>370894</th>\n",
       "      <td>968</td>\n",
       "      <td>2014-08-10</td>\n",
       "      <td>1190.00</td>\n",
       "      <td>NaN</td>\n",
       "      <td>NaN</td>\n",
       "      <td>0</td>\n",
       "      <td>NaN</td>\n",
       "      <td>NaN</td>\n",
       "      <td>NaN</td>\n",
       "    </tr>\n",
       "    <tr>\n",
       "      <th>63116</th>\n",
       "      <td>677</td>\n",
       "      <td>2015-06-05</td>\n",
       "      <td>1740.00</td>\n",
       "      <td>6.00</td>\n",
       "      <td>2014.00</td>\n",
       "      <td>1</td>\n",
       "      <td>45.00</td>\n",
       "      <td>2009.00</td>\n",
       "      <td>Feb,May,Aug,Nov</td>\n",
       "    </tr>\n",
       "    <tr>\n",
       "      <th>59569</th>\n",
       "      <td>475</td>\n",
       "      <td>2015-06-08</td>\n",
       "      <td>140.00</td>\n",
       "      <td>9.00</td>\n",
       "      <td>2005.00</td>\n",
       "      <td>0</td>\n",
       "      <td>NaN</td>\n",
       "      <td>NaN</td>\n",
       "      <td>NaN</td>\n",
       "    </tr>\n",
       "  </tbody>\n",
       "</table>\n",
       "</div>"
      ],
      "text/plain": [
       "        store        date  competition_distance  competition_open_since_month  \\\n",
       "985909   1035  2013-01-29              27150.00                           NaN   \n",
       "937760    831  2013-03-13                800.00                          6.00   \n",
       "936073    259  2013-03-14                210.00                           NaN   \n",
       "845858    359  2013-06-03               4370.00                           NaN   \n",
       "720557   1053  2013-09-24               1710.00                          7.00   \n",
       "640132    908  2013-12-05               1980.00                          7.00   \n",
       "619600    446  2013-12-23                340.00                         10.00   \n",
       "370894    968  2014-08-10               1190.00                           NaN   \n",
       "63116     677  2015-06-05               1740.00                          6.00   \n",
       "59569     475  2015-06-08                140.00                          9.00   \n",
       "\n",
       "        competition_open_since_year  promo2  promo2_since_week  \\\n",
       "985909                          NaN       0                NaN   \n",
       "937760                      2007.00       0                NaN   \n",
       "936073                          NaN       0                NaN   \n",
       "845858                          NaN       0                NaN   \n",
       "720557                      2015.00       0                NaN   \n",
       "640132                      2010.00       1              37.00   \n",
       "619600                      2000.00       1              31.00   \n",
       "370894                          NaN       0                NaN   \n",
       "63116                       2014.00       1              45.00   \n",
       "59569                       2005.00       0                NaN   \n",
       "\n",
       "        promo2_since_year   promo_interval  \n",
       "985909                NaN              NaN  \n",
       "937760                NaN              NaN  \n",
       "936073                NaN              NaN  \n",
       "845858                NaN              NaN  \n",
       "720557                NaN              NaN  \n",
       "640132            2009.00  Jan,Apr,Jul,Oct  \n",
       "619600            2013.00  Feb,May,Aug,Nov  \n",
       "370894                NaN              NaN  \n",
       "63116             2009.00  Feb,May,Aug,Nov  \n",
       "59569                 NaN              NaN  "
      ]
     },
     "execution_count": 50,
     "metadata": {},
     "output_type": "execute_result"
    }
   ],
   "source": [
    "# analysing attributes with NA\n",
    "df1[['store','date','competition_distance', 'competition_open_since_month', 'competition_open_since_year',\n",
    "     'promo2', 'promo2_since_week', 'promo2_since_year', 'promo_interval']].sample(10).sort_values('date')"
   ]
  },
  {
   "cell_type": "code",
   "execution_count": 51,
   "id": "a79af6f3",
   "metadata": {
    "ExecuteTime": {
     "end_time": "2022-01-08T19:22:02.844273Z",
     "start_time": "2022-01-08T19:22:02.642878Z"
    },
    "hidden": true
   },
   "outputs": [],
   "source": [
    "# ======= competition_distance\n",
    "\n",
    "#checking maximum value\n",
    "df1['competition_distance'].max() # The maximum distance is: 75860.0\n",
    "\n",
    "# replacing each NA\n",
    "df1['competition_distance'] = df1['competition_distance'].apply(lambda x:2000000.0 if math.isnan(x) else (x))"
   ]
  },
  {
   "cell_type": "code",
   "execution_count": 52,
   "id": "9997098b",
   "metadata": {
    "ExecuteTime": {
     "end_time": "2022-01-08T19:22:22.367846Z",
     "start_time": "2022-01-08T19:22:03.049869Z"
    },
    "hidden": true
   },
   "outputs": [],
   "source": [
    "df1['date'] = pd.to_datetime(df1['date'])\n",
    "\n",
    "#checking minimum value\n",
    "df1['date'].min() # every store has a row with date 2013/01/01\n",
    "fill_date = df1['date'].min() - datetime.timedelta(days=1)\n",
    "fill_month = fill_date.month\n",
    "fill_year = fill_date.year\n",
    "\n",
    "# ======= competition_open_since_month\n",
    "df1['competition_open_since_month'] = df1.apply(lambda x: fill_month if math.isnan(x['competition_open_since_month']) else x['competition_open_since_month'], axis=1)\n",
    "\n",
    "# ======= competition_open_since_year\n",
    "df1['competition_open_since_year'] = df1.apply(lambda x: fill_year if math.isnan(x['competition_open_since_year']) else x['competition_open_since_year'], axis=1)"
   ]
  },
  {
   "cell_type": "code",
   "execution_count": 53,
   "id": "7468054f",
   "metadata": {
    "ExecuteTime": {
     "end_time": "2022-01-08T19:22:41.078767Z",
     "start_time": "2022-01-08T19:22:40.497264Z"
    },
    "hidden": true
   },
   "outputs": [
    {
     "name": "stdout",
     "output_type": "stream",
     "text": [
      "Checking NAs for stores participanting in promo2\n",
      "NAs for week: 0\n",
      "NAs for year: 0\n",
      "NAs for interval: 0\n",
      "\n",
      "Checking unique values for stores tha are NOT participanting in promo2\n",
      "Unique values for week: [nan]\n",
      "Unique values for year: [nan]\n",
      "Unique values for interval: [nan]\n",
      "\n",
      "Data before:\n"
     ]
    },
    {
     "data": {
      "text/html": [
       "<div>\n",
       "<style scoped>\n",
       "    .dataframe tbody tr th:only-of-type {\n",
       "        vertical-align: middle;\n",
       "    }\n",
       "\n",
       "    .dataframe tbody tr th {\n",
       "        vertical-align: top;\n",
       "    }\n",
       "\n",
       "    .dataframe thead th {\n",
       "        text-align: right;\n",
       "    }\n",
       "</style>\n",
       "<table border=\"1\" class=\"dataframe\">\n",
       "  <thead>\n",
       "    <tr style=\"text-align: right;\">\n",
       "      <th></th>\n",
       "      <th>promo2</th>\n",
       "      <th>promo2_since_week</th>\n",
       "      <th>promo2_since_year</th>\n",
       "      <th>promo_interval</th>\n",
       "    </tr>\n",
       "  </thead>\n",
       "  <tbody>\n",
       "    <tr>\n",
       "      <th>267895</th>\n",
       "      <td>0</td>\n",
       "      <td>NaN</td>\n",
       "      <td>NaN</td>\n",
       "      <td>NaN</td>\n",
       "    </tr>\n",
       "    <tr>\n",
       "      <th>736906</th>\n",
       "      <td>1</td>\n",
       "      <td>45.00</td>\n",
       "      <td>2009.00</td>\n",
       "      <td>Feb,May,Aug,Nov</td>\n",
       "    </tr>\n",
       "    <tr>\n",
       "      <th>706763</th>\n",
       "      <td>0</td>\n",
       "      <td>NaN</td>\n",
       "      <td>NaN</td>\n",
       "      <td>NaN</td>\n",
       "    </tr>\n",
       "    <tr>\n",
       "      <th>824532</th>\n",
       "      <td>1</td>\n",
       "      <td>9.00</td>\n",
       "      <td>2011.00</td>\n",
       "      <td>Mar,Jun,Sept,Dec</td>\n",
       "    </tr>\n",
       "    <tr>\n",
       "      <th>68679</th>\n",
       "      <td>1</td>\n",
       "      <td>14.00</td>\n",
       "      <td>2011.00</td>\n",
       "      <td>Jan,Apr,Jul,Oct</td>\n",
       "    </tr>\n",
       "  </tbody>\n",
       "</table>\n",
       "</div>"
      ],
      "text/plain": [
       "        promo2  promo2_since_week  promo2_since_year    promo_interval\n",
       "267895       0                NaN                NaN               NaN\n",
       "736906       1              45.00            2009.00   Feb,May,Aug,Nov\n",
       "706763       0                NaN                NaN               NaN\n",
       "824532       1               9.00            2011.00  Mar,Jun,Sept,Dec\n",
       "68679        1              14.00            2011.00   Jan,Apr,Jul,Oct"
      ]
     },
     "metadata": {},
     "output_type": "display_data"
    },
    {
     "name": "stdout",
     "output_type": "stream",
     "text": [
      "\n",
      "Data after:\n"
     ]
    },
    {
     "data": {
      "text/html": [
       "<div>\n",
       "<style scoped>\n",
       "    .dataframe tbody tr th:only-of-type {\n",
       "        vertical-align: middle;\n",
       "    }\n",
       "\n",
       "    .dataframe tbody tr th {\n",
       "        vertical-align: top;\n",
       "    }\n",
       "\n",
       "    .dataframe thead th {\n",
       "        text-align: right;\n",
       "    }\n",
       "</style>\n",
       "<table border=\"1\" class=\"dataframe\">\n",
       "  <thead>\n",
       "    <tr style=\"text-align: right;\">\n",
       "      <th></th>\n",
       "      <th>promo2</th>\n",
       "      <th>promo2_since_week</th>\n",
       "      <th>promo2_since_year</th>\n",
       "      <th>promo_interval</th>\n",
       "    </tr>\n",
       "  </thead>\n",
       "  <tbody>\n",
       "    <tr>\n",
       "      <th>194161</th>\n",
       "      <td>0</td>\n",
       "      <td>0.00</td>\n",
       "      <td>0.00</td>\n",
       "      <td>0</td>\n",
       "    </tr>\n",
       "    <tr>\n",
       "      <th>808835</th>\n",
       "      <td>0</td>\n",
       "      <td>0.00</td>\n",
       "      <td>0.00</td>\n",
       "      <td>0</td>\n",
       "    </tr>\n",
       "    <tr>\n",
       "      <th>287172</th>\n",
       "      <td>0</td>\n",
       "      <td>0.00</td>\n",
       "      <td>0.00</td>\n",
       "      <td>0</td>\n",
       "    </tr>\n",
       "    <tr>\n",
       "      <th>885697</th>\n",
       "      <td>1</td>\n",
       "      <td>27.00</td>\n",
       "      <td>2012.00</td>\n",
       "      <td>Jan,Apr,Jul,Oct</td>\n",
       "    </tr>\n",
       "    <tr>\n",
       "      <th>51263</th>\n",
       "      <td>0</td>\n",
       "      <td>0.00</td>\n",
       "      <td>0.00</td>\n",
       "      <td>0</td>\n",
       "    </tr>\n",
       "  </tbody>\n",
       "</table>\n",
       "</div>"
      ],
      "text/plain": [
       "        promo2  promo2_since_week  promo2_since_year   promo_interval\n",
       "194161       0               0.00               0.00                0\n",
       "808835       0               0.00               0.00                0\n",
       "287172       0               0.00               0.00                0\n",
       "885697       1              27.00            2012.00  Jan,Apr,Jul,Oct\n",
       "51263        0               0.00               0.00                0"
      ]
     },
     "metadata": {},
     "output_type": "display_data"
    }
   ],
   "source": [
    "# ======= promo2_since_week\n",
    "# ======= promo2_since_year\n",
    "# ======= promo_interval\n",
    "\n",
    "# 'promo2' is continuous promo, when 0 means that the store is not participating and 1 that the store is. \n",
    "# Therefore, if the store is not participating in 'promo2' there will be no data for 'promo2_since_week' and 'promo2_since_year'\n",
    "\n",
    "# Checking NAs for 'promo2'==1\n",
    "print(\"Checking NAs for stores participanting in promo2\")\n",
    "print('NAs for week:', df1[df1['promo2']==1]['promo2_since_week'].isna().sum())\n",
    "print('NAs for year:', df1[df1['promo2']==1]['promo2_since_year'].isna().sum())\n",
    "print('NAs for interval:',df1[df1['promo2']==1]['promo_interval'].isna().sum())\n",
    "\n",
    "# Checking NAs for 'promo2'==0\n",
    "print(\"\\nChecking unique values for stores tha are NOT participanting in promo2\")\n",
    "print('Unique values for week:', df1[df1['promo2']==0]['promo2_since_week'].unique())\n",
    "print('Unique values for year:',df1[df1['promo2']==0]['promo2_since_year'].unique())\n",
    "print('Unique values for interval:',df1[df1['promo2']==0]['promo_interval'].unique())\n",
    "\n",
    "print('\\nData before:')\n",
    "display(df1[['promo2','promo2_since_week', 'promo2_since_year', 'promo_interval']].sample(5))\n",
    "\n",
    "# filling Na with \"0\"\n",
    "df1['promo2_since_week'].fillna(0, inplace=True)\n",
    "df1['promo2_since_year'].fillna(0, inplace=True)\n",
    "df1['promo_interval'].fillna(0, inplace=True)\n",
    "\n",
    "print('\\nData after:')\n",
    "display(df1[['promo2','promo2_since_week', 'promo2_since_year', 'promo_interval']].sample(5))"
   ]
  },
  {
   "cell_type": "code",
   "execution_count": 54,
   "id": "984a77e3",
   "metadata": {
    "ExecuteTime": {
     "end_time": "2022-01-08T19:22:58.469651Z",
     "start_time": "2022-01-08T19:22:58.309319Z"
    },
    "hidden": true
   },
   "outputs": [
    {
     "data": {
      "text/plain": [
       "store                           0\n",
       "day_of_week                     0\n",
       "date                            0\n",
       "sales                           0\n",
       "customers                       0\n",
       "open                            0\n",
       "promo                           0\n",
       "state_holiday                   0\n",
       "school_holiday                  0\n",
       "store_type                      0\n",
       "assortment                      0\n",
       "competition_distance            0\n",
       "competition_open_since_month    0\n",
       "competition_open_since_year     0\n",
       "promo2                          0\n",
       "promo2_since_week               0\n",
       "promo2_since_year               0\n",
       "promo_interval                  0\n",
       "dtype: int64"
      ]
     },
     "execution_count": 54,
     "metadata": {},
     "output_type": "execute_result"
    }
   ],
   "source": [
    "# final check\n",
    "df1.isna().sum()"
   ]
  },
  {
   "cell_type": "markdown",
   "id": "3a18cd65",
   "metadata": {
    "heading_collapsed": true
   },
   "source": [
    "## Changing Variable Types"
   ]
  },
  {
   "cell_type": "code",
   "execution_count": 55,
   "id": "c0492d05",
   "metadata": {
    "ExecuteTime": {
     "end_time": "2022-01-08T19:23:04.661619Z",
     "start_time": "2022-01-08T19:23:04.616370Z"
    },
    "hidden": true
   },
   "outputs": [
    {
     "name": "stdout",
     "output_type": "stream",
     "text": [
      "store                                    int64\n",
      "day_of_week                              int64\n",
      "date                            datetime64[ns]\n",
      "sales                                    int64\n",
      "customers                                int64\n",
      "open                                     int64\n",
      "promo                                    int64\n",
      "state_holiday                           object\n",
      "school_holiday                           int64\n",
      "store_type                              object\n",
      "assortment                              object\n",
      "competition_distance                   float64\n",
      "competition_open_since_month           float64\n",
      "competition_open_since_year            float64\n",
      "promo2                                   int64\n",
      "promo2_since_week                      float64\n",
      "promo2_since_year                      float64\n",
      "promo_interval                          object\n",
      "dtype: object\n"
     ]
    },
    {
     "data": {
      "text/html": [
       "<div>\n",
       "<style scoped>\n",
       "    .dataframe tbody tr th:only-of-type {\n",
       "        vertical-align: middle;\n",
       "    }\n",
       "\n",
       "    .dataframe tbody tr th {\n",
       "        vertical-align: top;\n",
       "    }\n",
       "\n",
       "    .dataframe thead th {\n",
       "        text-align: right;\n",
       "    }\n",
       "</style>\n",
       "<table border=\"1\" class=\"dataframe\">\n",
       "  <thead>\n",
       "    <tr style=\"text-align: right;\">\n",
       "      <th></th>\n",
       "      <th>store</th>\n",
       "      <th>day_of_week</th>\n",
       "      <th>date</th>\n",
       "      <th>sales</th>\n",
       "      <th>customers</th>\n",
       "      <th>open</th>\n",
       "      <th>promo</th>\n",
       "      <th>state_holiday</th>\n",
       "      <th>school_holiday</th>\n",
       "      <th>store_type</th>\n",
       "      <th>assortment</th>\n",
       "      <th>competition_distance</th>\n",
       "      <th>competition_open_since_month</th>\n",
       "      <th>competition_open_since_year</th>\n",
       "      <th>promo2</th>\n",
       "      <th>promo2_since_week</th>\n",
       "      <th>promo2_since_year</th>\n",
       "      <th>promo_interval</th>\n",
       "    </tr>\n",
       "  </thead>\n",
       "  <tbody>\n",
       "    <tr>\n",
       "      <th>471613</th>\n",
       "      <td>754</td>\n",
       "      <td>1</td>\n",
       "      <td>2014-05-05</td>\n",
       "      <td>11057</td>\n",
       "      <td>1171</td>\n",
       "      <td>1</td>\n",
       "      <td>1</td>\n",
       "      <td>0</td>\n",
       "      <td>0</td>\n",
       "      <td>c</td>\n",
       "      <td>c</td>\n",
       "      <td>380.00</td>\n",
       "      <td>5.00</td>\n",
       "      <td>2008.00</td>\n",
       "      <td>1</td>\n",
       "      <td>10.00</td>\n",
       "      <td>2014.00</td>\n",
       "      <td>Mar,Jun,Sept,Dec</td>\n",
       "    </tr>\n",
       "    <tr>\n",
       "      <th>762450</th>\n",
       "      <td>576</td>\n",
       "      <td>6</td>\n",
       "      <td>2013-08-17</td>\n",
       "      <td>6250</td>\n",
       "      <td>946</td>\n",
       "      <td>1</td>\n",
       "      <td>0</td>\n",
       "      <td>0</td>\n",
       "      <td>0</td>\n",
       "      <td>c</td>\n",
       "      <td>a</td>\n",
       "      <td>50.00</td>\n",
       "      <td>11.00</td>\n",
       "      <td>2006.00</td>\n",
       "      <td>0</td>\n",
       "      <td>0.00</td>\n",
       "      <td>0.00</td>\n",
       "      <td>0</td>\n",
       "    </tr>\n",
       "    <tr>\n",
       "      <th>678768</th>\n",
       "      <td>519</td>\n",
       "      <td>4</td>\n",
       "      <td>2013-10-31</td>\n",
       "      <td>4487</td>\n",
       "      <td>512</td>\n",
       "      <td>1</td>\n",
       "      <td>0</td>\n",
       "      <td>0</td>\n",
       "      <td>0</td>\n",
       "      <td>c</td>\n",
       "      <td>c</td>\n",
       "      <td>2510.00</td>\n",
       "      <td>8.00</td>\n",
       "      <td>2009.00</td>\n",
       "      <td>1</td>\n",
       "      <td>1.00</td>\n",
       "      <td>2012.00</td>\n",
       "      <td>Jan,Apr,Jul,Oct</td>\n",
       "    </tr>\n",
       "    <tr>\n",
       "      <th>847461</th>\n",
       "      <td>847</td>\n",
       "      <td>7</td>\n",
       "      <td>2013-06-02</td>\n",
       "      <td>0</td>\n",
       "      <td>0</td>\n",
       "      <td>0</td>\n",
       "      <td>0</td>\n",
       "      <td>0</td>\n",
       "      <td>0</td>\n",
       "      <td>c</td>\n",
       "      <td>c</td>\n",
       "      <td>190.00</td>\n",
       "      <td>12.00</td>\n",
       "      <td>2012.00</td>\n",
       "      <td>1</td>\n",
       "      <td>31.00</td>\n",
       "      <td>2013.00</td>\n",
       "      <td>Feb,May,Aug,Nov</td>\n",
       "    </tr>\n",
       "    <tr>\n",
       "      <th>850844</th>\n",
       "      <td>885</td>\n",
       "      <td>4</td>\n",
       "      <td>2013-05-30</td>\n",
       "      <td>0</td>\n",
       "      <td>0</td>\n",
       "      <td>0</td>\n",
       "      <td>1</td>\n",
       "      <td>a</td>\n",
       "      <td>0</td>\n",
       "      <td>a</td>\n",
       "      <td>a</td>\n",
       "      <td>480.00</td>\n",
       "      <td>12.00</td>\n",
       "      <td>2005.00</td>\n",
       "      <td>0</td>\n",
       "      <td>0.00</td>\n",
       "      <td>0.00</td>\n",
       "      <td>0</td>\n",
       "    </tr>\n",
       "  </tbody>\n",
       "</table>\n",
       "</div>"
      ],
      "text/plain": [
       "        store  day_of_week       date  sales  customers  open  promo  \\\n",
       "471613    754            1 2014-05-05  11057       1171     1      1   \n",
       "762450    576            6 2013-08-17   6250        946     1      0   \n",
       "678768    519            4 2013-10-31   4487        512     1      0   \n",
       "847461    847            7 2013-06-02      0          0     0      0   \n",
       "850844    885            4 2013-05-30      0          0     0      1   \n",
       "\n",
       "       state_holiday  school_holiday store_type assortment  \\\n",
       "471613             0               0          c          c   \n",
       "762450             0               0          c          a   \n",
       "678768             0               0          c          c   \n",
       "847461             0               0          c          c   \n",
       "850844             a               0          a          a   \n",
       "\n",
       "        competition_distance  competition_open_since_month  \\\n",
       "471613                380.00                          5.00   \n",
       "762450                 50.00                         11.00   \n",
       "678768               2510.00                          8.00   \n",
       "847461                190.00                         12.00   \n",
       "850844                480.00                         12.00   \n",
       "\n",
       "        competition_open_since_year  promo2  promo2_since_week  \\\n",
       "471613                      2008.00       1              10.00   \n",
       "762450                      2006.00       0               0.00   \n",
       "678768                      2009.00       1               1.00   \n",
       "847461                      2012.00       1              31.00   \n",
       "850844                      2005.00       0               0.00   \n",
       "\n",
       "        promo2_since_year    promo_interval  \n",
       "471613            2014.00  Mar,Jun,Sept,Dec  \n",
       "762450               0.00                 0  \n",
       "678768            2012.00   Jan,Apr,Jul,Oct  \n",
       "847461            2013.00   Feb,May,Aug,Nov  \n",
       "850844               0.00                 0  "
      ]
     },
     "execution_count": 55,
     "metadata": {},
     "output_type": "execute_result"
    }
   ],
   "source": [
    "print(df1.dtypes)\n",
    "df1.sample(5)"
   ]
  },
  {
   "cell_type": "code",
   "execution_count": 56,
   "id": "af929a2d",
   "metadata": {
    "ExecuteTime": {
     "end_time": "2022-01-08T19:23:22.883303Z",
     "start_time": "2022-01-08T19:23:22.804513Z"
    },
    "hidden": true
   },
   "outputs": [
    {
     "name": "stdout",
     "output_type": "stream",
     "text": [
      "store                                    int64\n",
      "day_of_week                              int64\n",
      "date                            datetime64[ns]\n",
      "sales                                    int64\n",
      "customers                                int64\n",
      "open                                     int64\n",
      "promo                                    int64\n",
      "state_holiday                           object\n",
      "school_holiday                           int64\n",
      "store_type                              object\n",
      "assortment                              object\n",
      "competition_distance                     int64\n",
      "competition_open_since_month             int64\n",
      "competition_open_since_year              int64\n",
      "promo2                                   int64\n",
      "promo2_since_week                        int64\n",
      "promo2_since_year                        int64\n",
      "promo_interval                          object\n",
      "dtype: object\n"
     ]
    }
   ],
   "source": [
    "df1['competition_distance'] = df1['competition_distance'].astype(np.int64)\n",
    "df1['competition_open_since_month'] = df1['competition_open_since_month'].astype(np.int64)\n",
    "df1['competition_open_since_year'] = df1['competition_open_since_year'].astype(np.int64)\n",
    "\n",
    "df1['promo2_since_week'] = df1['promo2_since_week'].astype(np.int64)\n",
    "df1['promo2_since_year'] = df1['promo2_since_year'].astype(np.int64)\n",
    "\n",
    "print(df1.dtypes)"
   ]
  },
  {
   "cell_type": "markdown",
   "id": "ed5cf327",
   "metadata": {
    "heading_collapsed": true
   },
   "source": [
    "## Descriptive Statistical"
   ]
  },
  {
   "cell_type": "code",
   "execution_count": 57,
   "id": "2e54447b",
   "metadata": {
    "ExecuteTime": {
     "end_time": "2022-01-08T19:23:26.327396Z",
     "start_time": "2022-01-08T19:23:26.206520Z"
    },
    "hidden": true
   },
   "outputs": [],
   "source": [
    "num_df1 = df1.select_dtypes(include=['int64','float64'])\n",
    "cat_df1 = df1.select_dtypes(exclude=['int64','float64','datetime64[ns]'])"
   ]
  },
  {
   "cell_type": "markdown",
   "id": "9b9288f1",
   "metadata": {
    "heading_collapsed": true,
    "hidden": true
   },
   "source": [
    "### Numerical Attributes"
   ]
  },
  {
   "cell_type": "code",
   "execution_count": 58,
   "id": "7e012e24",
   "metadata": {
    "ExecuteTime": {
     "end_time": "2022-01-08T19:23:33.894759Z",
     "start_time": "2022-01-08T19:23:32.026756Z"
    },
    "hidden": true
   },
   "outputs": [
    {
     "data": {
      "text/html": [
       "<div>\n",
       "<style scoped>\n",
       "    .dataframe tbody tr th:only-of-type {\n",
       "        vertical-align: middle;\n",
       "    }\n",
       "\n",
       "    .dataframe tbody tr th {\n",
       "        vertical-align: top;\n",
       "    }\n",
       "\n",
       "    .dataframe thead th {\n",
       "        text-align: right;\n",
       "    }\n",
       "</style>\n",
       "<table border=\"1\" class=\"dataframe\">\n",
       "  <thead>\n",
       "    <tr style=\"text-align: right;\">\n",
       "      <th></th>\n",
       "      <th>attributes</th>\n",
       "      <th>min</th>\n",
       "      <th>max</th>\n",
       "      <th>range</th>\n",
       "      <th>mean</th>\n",
       "      <th>median</th>\n",
       "      <th>std</th>\n",
       "      <th>skew</th>\n",
       "      <th>kurtosis</th>\n",
       "    </tr>\n",
       "  </thead>\n",
       "  <tbody>\n",
       "    <tr>\n",
       "      <th>0</th>\n",
       "      <td>store</td>\n",
       "      <td>1</td>\n",
       "      <td>1115</td>\n",
       "      <td>1114</td>\n",
       "      <td>558.43</td>\n",
       "      <td>558.00</td>\n",
       "      <td>321.91</td>\n",
       "      <td>-0.00</td>\n",
       "      <td>&lt;bound method NDFrame._add_numeric_operations....</td>\n",
       "    </tr>\n",
       "    <tr>\n",
       "      <th>1</th>\n",
       "      <td>day_of_week</td>\n",
       "      <td>1</td>\n",
       "      <td>7</td>\n",
       "      <td>6</td>\n",
       "      <td>4.00</td>\n",
       "      <td>4.00</td>\n",
       "      <td>2.00</td>\n",
       "      <td>0.00</td>\n",
       "      <td>&lt;bound method NDFrame._add_numeric_operations....</td>\n",
       "    </tr>\n",
       "    <tr>\n",
       "      <th>2</th>\n",
       "      <td>sales</td>\n",
       "      <td>0</td>\n",
       "      <td>41551</td>\n",
       "      <td>41551</td>\n",
       "      <td>5773.82</td>\n",
       "      <td>5744.00</td>\n",
       "      <td>3849.92</td>\n",
       "      <td>0.64</td>\n",
       "      <td>&lt;bound method NDFrame._add_numeric_operations....</td>\n",
       "    </tr>\n",
       "    <tr>\n",
       "      <th>3</th>\n",
       "      <td>customers</td>\n",
       "      <td>0</td>\n",
       "      <td>7388</td>\n",
       "      <td>7388</td>\n",
       "      <td>633.15</td>\n",
       "      <td>609.00</td>\n",
       "      <td>464.41</td>\n",
       "      <td>1.60</td>\n",
       "      <td>&lt;bound method NDFrame._add_numeric_operations....</td>\n",
       "    </tr>\n",
       "    <tr>\n",
       "      <th>4</th>\n",
       "      <td>open</td>\n",
       "      <td>0</td>\n",
       "      <td>1</td>\n",
       "      <td>1</td>\n",
       "      <td>0.83</td>\n",
       "      <td>1.00</td>\n",
       "      <td>0.38</td>\n",
       "      <td>-1.76</td>\n",
       "      <td>&lt;bound method NDFrame._add_numeric_operations....</td>\n",
       "    </tr>\n",
       "    <tr>\n",
       "      <th>5</th>\n",
       "      <td>promo</td>\n",
       "      <td>0</td>\n",
       "      <td>1</td>\n",
       "      <td>1</td>\n",
       "      <td>0.38</td>\n",
       "      <td>0.00</td>\n",
       "      <td>0.49</td>\n",
       "      <td>0.49</td>\n",
       "      <td>&lt;bound method NDFrame._add_numeric_operations....</td>\n",
       "    </tr>\n",
       "    <tr>\n",
       "      <th>6</th>\n",
       "      <td>school_holiday</td>\n",
       "      <td>0</td>\n",
       "      <td>1</td>\n",
       "      <td>1</td>\n",
       "      <td>0.18</td>\n",
       "      <td>0.00</td>\n",
       "      <td>0.38</td>\n",
       "      <td>1.68</td>\n",
       "      <td>&lt;bound method NDFrame._add_numeric_operations....</td>\n",
       "    </tr>\n",
       "    <tr>\n",
       "      <th>7</th>\n",
       "      <td>competition_distance</td>\n",
       "      <td>20</td>\n",
       "      <td>2000000</td>\n",
       "      <td>1999980</td>\n",
       "      <td>10610.59</td>\n",
       "      <td>2330.00</td>\n",
       "      <td>101810.65</td>\n",
       "      <td>19.38</td>\n",
       "      <td>&lt;bound method NDFrame._add_numeric_operations....</td>\n",
       "    </tr>\n",
       "    <tr>\n",
       "      <th>8</th>\n",
       "      <td>competition_open_since_month</td>\n",
       "      <td>1</td>\n",
       "      <td>12</td>\n",
       "      <td>11</td>\n",
       "      <td>8.74</td>\n",
       "      <td>10.00</td>\n",
       "      <td>3.46</td>\n",
       "      <td>-0.66</td>\n",
       "      <td>&lt;bound method NDFrame._add_numeric_operations....</td>\n",
       "    </tr>\n",
       "    <tr>\n",
       "      <th>9</th>\n",
       "      <td>competition_open_since_year</td>\n",
       "      <td>1900</td>\n",
       "      <td>2015</td>\n",
       "      <td>115</td>\n",
       "      <td>2009.74</td>\n",
       "      <td>2012.00</td>\n",
       "      <td>5.18</td>\n",
       "      <td>-8.48</td>\n",
       "      <td>&lt;bound method NDFrame._add_numeric_operations....</td>\n",
       "    </tr>\n",
       "    <tr>\n",
       "      <th>10</th>\n",
       "      <td>promo2</td>\n",
       "      <td>0</td>\n",
       "      <td>1</td>\n",
       "      <td>1</td>\n",
       "      <td>0.50</td>\n",
       "      <td>1.00</td>\n",
       "      <td>0.50</td>\n",
       "      <td>-0.00</td>\n",
       "      <td>&lt;bound method NDFrame._add_numeric_operations....</td>\n",
       "    </tr>\n",
       "    <tr>\n",
       "      <th>11</th>\n",
       "      <td>promo2_since_week</td>\n",
       "      <td>0</td>\n",
       "      <td>50</td>\n",
       "      <td>50</td>\n",
       "      <td>11.65</td>\n",
       "      <td>1.00</td>\n",
       "      <td>15.32</td>\n",
       "      <td>1.00</td>\n",
       "      <td>&lt;bound method NDFrame._add_numeric_operations....</td>\n",
       "    </tr>\n",
       "    <tr>\n",
       "      <th>12</th>\n",
       "      <td>promo2_since_year</td>\n",
       "      <td>0</td>\n",
       "      <td>2015</td>\n",
       "      <td>2015</td>\n",
       "      <td>1007.01</td>\n",
       "      <td>2009.00</td>\n",
       "      <td>1005.88</td>\n",
       "      <td>-0.00</td>\n",
       "      <td>&lt;bound method NDFrame._add_numeric_operations....</td>\n",
       "    </tr>\n",
       "  </tbody>\n",
       "</table>\n",
       "</div>"
      ],
      "text/plain": [
       "                      attributes   min      max    range     mean  median  \\\n",
       "0                          store     1     1115     1114   558.43  558.00   \n",
       "1                    day_of_week     1        7        6     4.00    4.00   \n",
       "2                          sales     0    41551    41551  5773.82 5744.00   \n",
       "3                      customers     0     7388     7388   633.15  609.00   \n",
       "4                           open     0        1        1     0.83    1.00   \n",
       "5                          promo     0        1        1     0.38    0.00   \n",
       "6                 school_holiday     0        1        1     0.18    0.00   \n",
       "7           competition_distance    20  2000000  1999980 10610.59 2330.00   \n",
       "8   competition_open_since_month     1       12       11     8.74   10.00   \n",
       "9    competition_open_since_year  1900     2015      115  2009.74 2012.00   \n",
       "10                        promo2     0        1        1     0.50    1.00   \n",
       "11             promo2_since_week     0       50       50    11.65    1.00   \n",
       "12             promo2_since_year     0     2015     2015  1007.01 2009.00   \n",
       "\n",
       "         std  skew                                           kurtosis  \n",
       "0     321.91 -0.00  <bound method NDFrame._add_numeric_operations....  \n",
       "1       2.00  0.00  <bound method NDFrame._add_numeric_operations....  \n",
       "2    3849.92  0.64  <bound method NDFrame._add_numeric_operations....  \n",
       "3     464.41  1.60  <bound method NDFrame._add_numeric_operations....  \n",
       "4       0.38 -1.76  <bound method NDFrame._add_numeric_operations....  \n",
       "5       0.49  0.49  <bound method NDFrame._add_numeric_operations....  \n",
       "6       0.38  1.68  <bound method NDFrame._add_numeric_operations....  \n",
       "7  101810.65 19.38  <bound method NDFrame._add_numeric_operations....  \n",
       "8       3.46 -0.66  <bound method NDFrame._add_numeric_operations....  \n",
       "9       5.18 -8.48  <bound method NDFrame._add_numeric_operations....  \n",
       "10      0.50 -0.00  <bound method NDFrame._add_numeric_operations....  \n",
       "11     15.32  1.00  <bound method NDFrame._add_numeric_operations....  \n",
       "12   1005.88 -0.00  <bound method NDFrame._add_numeric_operations....  "
      ]
     },
     "execution_count": 58,
     "metadata": {},
     "output_type": "execute_result"
    }
   ],
   "source": [
    "# central tendendy - mean, median\n",
    "ct1 = pd.DataFrame(num_df1.apply(np.mean)).T\n",
    "ct2 = pd.DataFrame(num_df1.apply(np.median)).T\n",
    "\n",
    "# dispersion - std, min, max, range, skew, kurtosis\n",
    "d1 = pd.DataFrame(num_df1.apply(np.std)).T\n",
    "d2 = pd.DataFrame(num_df1.apply(min)).T\n",
    "d3 = pd.DataFrame(num_df1.apply(max)).T\n",
    "d4 = pd.DataFrame(num_df1.apply(lambda x: x.max() - x.min())).T\n",
    "d5 = pd.DataFrame(num_df1.apply(lambda x: x.skew())).T\n",
    "d6 = pd.DataFrame(num_df1.apply(lambda x: x.kurtosis)).T\n",
    "\n",
    "# concatenate \n",
    "m = pd.concat([d2,d3,d4,ct1,ct2,d1,d5,d6]).T.reset_index()\n",
    "m.columns = ['attributes','min','max','range','mean','median','std','skew','kurtosis']\n",
    "m"
   ]
  },
  {
   "cell_type": "markdown",
   "id": "cb4e9b5f",
   "metadata": {
    "heading_collapsed": true,
    "hidden": true
   },
   "source": [
    "### Categorical Attributes"
   ]
  },
  {
   "cell_type": "code",
   "execution_count": 59,
   "id": "f3266394",
   "metadata": {
    "ExecuteTime": {
     "end_time": "2022-01-08T19:23:34.052359Z",
     "start_time": "2022-01-08T19:23:33.898759Z"
    },
    "hidden": true
   },
   "outputs": [
    {
     "data": {
      "text/plain": [
       "state_holiday     4\n",
       "store_type        4\n",
       "assortment        3\n",
       "promo_interval    4\n",
       "dtype: int64"
      ]
     },
     "execution_count": 59,
     "metadata": {},
     "output_type": "execute_result"
    }
   ],
   "source": [
    "cat_df1.apply(lambda x: x.unique().shape[0])  "
   ]
  },
  {
   "cell_type": "code",
   "execution_count": 60,
   "id": "da2545eb",
   "metadata": {
    "ExecuteTime": {
     "end_time": "2022-01-08T19:24:59.729461Z",
     "start_time": "2022-01-08T19:24:58.532571Z"
    },
    "hidden": true
   },
   "outputs": [
    {
     "data": {
      "image/png": "[encoded data removed]",
      "text/plain": [
       "<Figure size 1440x720 with 3 Axes>"
      ]
     },
     "metadata": {},
     "output_type": "display_data"
    }
   ],
   "source": [
    "# checking sales by holidays, store type and assortment\n",
    "\n",
    "aux1 = df1[(df1['state_holiday']!='0') & (df1['sales']>0)] # filtering sales that happened during a state holiday\n",
    "plt.subplot(1,3,1)\n",
    "sns.boxplot(x='state_holiday', y='sales', data=aux1).set(xlabel=\"State Holiday\", ylabel=\"Sales\", title=\"Sales by State Holidays\");\n",
    "\n",
    "plt.subplot(1,3,2)\n",
    "sns.boxplot(x='store_type', y='sales', data=df1).set(xlabel=\"Store Type\", ylabel=\"Sales\", title=\"Sales by Store Type\");\n",
    "\n",
    "plt.subplot(1,3,3)\n",
    "sns.boxplot(x='assortment', y='sales', data=df1).set(xlabel=\"Assortment\", ylabel=\"Sales\", title=\"Sales by Assortment\");\n",
    "\n",
    "plt.tight_layout()"
   ]
  },
  {
   "cell_type": "code",
   "execution_count": null,
   "id": "af012778",
   "metadata": {
    "hidden": true
   },
   "outputs": [],
   "source": []
  }
 ],
 "metadata": {
  "kernelspec": {
   "display_name": "Python 3 (ipykernel)",
   "language": "python",
   "name": "python3"
  },
  "language_info": {
   "codemirror_mode": {
    "name": "ipython",
    "version": 3
   },
   "file_extension": ".py",
   "mimetype": "text/x-python",
   "name": "python",
   "nbconvert_exporter": "python",
   "pygments_lexer": "ipython3",
   "version": "3.9.7"
  },
  "toc": {
   "base_numbering": "0",
   "nav_menu": {},
   "number_sections": true,
   "sideBar": false,
   "skip_h1_title": false,
   "title_cell": "Table of Contents",
   "title_sidebar": "Contents",
   "toc_cell": false,
   "toc_position": {
    "height": "47.7083px",
    "left": "1388.29px",
    "top": "151.792px",
    "width": "159px"
   },
   "toc_section_display": false,
   "toc_window_display": true
  }
 },
 "nbformat": 4,
 "nbformat_minor": 5
}
