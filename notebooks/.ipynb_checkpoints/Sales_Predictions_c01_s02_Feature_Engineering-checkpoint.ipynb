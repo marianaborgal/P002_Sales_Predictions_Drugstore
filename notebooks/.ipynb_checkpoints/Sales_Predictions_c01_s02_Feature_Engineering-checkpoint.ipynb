{
 "cells": [
  {
   "cell_type": "markdown",
   "id": "cognitive-closure",
   "metadata": {},
   "source": [
    "# Imports"
   ]
  },
  {
   "cell_type": "code",
   "execution_count": 25,
   "id": "affiliated-dealing",
   "metadata": {
    "ExecuteTime": {
     "end_time": "2021-08-18T21:07:56.902101Z",
     "start_time": "2021-08-18T21:07:56.898098Z"
    }
   },
   "outputs": [],
   "source": [
    "import pandas             as pd\n",
    "import numpy              as np\n",
    "import seaborn            as sns\n",
    "import inflection\n",
    "import math\n",
    "import datetime\n",
    "\n",
    "from IPython.core.display import HTML\n",
    "from IPython.display      import Image\n",
    "from matplotlib           import pyplot     as plt"
   ]
  },
  {
   "cell_type": "markdown",
   "id": "english-papua",
   "metadata": {
    "heading_collapsed": true
   },
   "source": [
    "## Helper Functions"
   ]
  },
  {
   "cell_type": "code",
   "execution_count": 2,
   "id": "departmental-regulation",
   "metadata": {
    "ExecuteTime": {
     "end_time": "2021-08-18T21:05:40.842056Z",
     "start_time": "2021-08-18T21:05:40.827042Z"
    },
    "hidden": true
   },
   "outputs": [],
   "source": [
    "def personal_settings():\n",
    "    \n",
    "# plotly settings\n",
    "    plt.style.use( 'bmh' )\n",
    "    plt.rcParams['figure.figsize'] = [20, 10]\n",
    "    plt.rcParams['font.size'] = 24\n",
    "        \n",
    "    # notebook settings\n",
    "    display(HTML('<style>.container{width:90% !important;}</style>'))\n",
    "    np.set_printoptions(suppress=True)\n",
    "    pd.set_option('display.float_format', '{:.2f}'.format)\n",
    "\n",
    "        \n",
    "    # seaborn settings\n",
    "    sns.set(rc={'figure.figsize':(20,10)})\n",
    "    sns.set_theme(style = 'darkgrid', font_scale = 1.5)"
   ]
  },
  {
   "cell_type": "code",
   "execution_count": 3,
   "id": "comprehensive-model",
   "metadata": {
    "ExecuteTime": {
     "end_time": "2021-08-18T21:05:41.098289Z",
     "start_time": "2021-08-18T21:05:41.081274Z"
    },
    "hidden": true
   },
   "outputs": [
    {
     "data": {
      "text/html": [
       "<style>.container{width:90% !important;}</style>"
      ],
      "text/plain": [
       "<IPython.core.display.HTML object>"
      ]
     },
     "metadata": {},
     "output_type": "display_data"
    }
   ],
   "source": [
    "personal_settings();"
   ]
  },
  {
   "cell_type": "markdown",
   "id": "1b1732bf",
   "metadata": {
    "heading_collapsed": true
   },
   "source": [
    "## Loading Data"
   ]
  },
  {
   "cell_type": "code",
   "execution_count": 4,
   "id": "9979fdc5",
   "metadata": {
    "ExecuteTime": {
     "end_time": "2021-08-18T21:05:44.319217Z",
     "start_time": "2021-08-18T21:05:43.563529Z"
    },
    "hidden": true
   },
   "outputs": [],
   "source": [
    "df_sales_raw = pd.read_csv('../data/raw/train.csv', low_memory=False)\n",
    "df_store_raw = pd.read_csv('../data/raw/store.csv', low_memory=False)\n",
    "\n",
    "# merging datsets\n",
    "df_raw = pd.merge(df_sales_raw, df_store_raw, how='left', on='Store')"
   ]
  },
  {
   "cell_type": "markdown",
   "id": "c8d7e22a",
   "metadata": {
    "heading_collapsed": true
   },
   "source": [
    "# DATA DESCRIPTION"
   ]
  },
  {
   "cell_type": "code",
   "execution_count": 5,
   "id": "c9f2e538",
   "metadata": {
    "ExecuteTime": {
     "end_time": "2021-08-18T21:05:45.149972Z",
     "start_time": "2021-08-18T21:05:45.046878Z"
    },
    "hidden": true
   },
   "outputs": [],
   "source": [
    "df1=df_raw.copy()"
   ]
  },
  {
   "cell_type": "markdown",
   "id": "cee0616f",
   "metadata": {
    "hidden": true
   },
   "source": [
    "## Rename Columns"
   ]
  },
  {
   "cell_type": "code",
   "execution_count": 6,
   "id": "94f6b168",
   "metadata": {
    "ExecuteTime": {
     "end_time": "2021-08-18T21:05:45.843602Z",
     "start_time": "2021-08-18T21:05:45.826587Z"
    },
    "hidden": true
   },
   "outputs": [
    {
     "data": {
      "text/plain": [
       "Index(['Store', 'DayOfWeek', 'Date', 'Sales', 'Customers', 'Open', 'Promo',\n",
       "       'StateHoliday', 'SchoolHoliday', 'StoreType', 'Assortment',\n",
       "       'CompetitionDistance', 'CompetitionOpenSinceMonth',\n",
       "       'CompetitionOpenSinceYear', 'Promo2', 'Promo2SinceWeek',\n",
       "       'Promo2SinceYear', 'PromoInterval'],\n",
       "      dtype='object')"
      ]
     },
     "execution_count": 6,
     "metadata": {},
     "output_type": "execute_result"
    }
   ],
   "source": [
    "df1.columns"
   ]
  },
  {
   "cell_type": "code",
   "execution_count": 7,
   "id": "9f8f33e5",
   "metadata": {
    "ExecuteTime": {
     "end_time": "2021-08-18T21:05:46.035777Z",
     "start_time": "2021-08-18T21:05:46.028771Z"
    },
    "hidden": true
   },
   "outputs": [
    {
     "name": "stdout",
     "output_type": "stream",
     "text": [
      "Index(['store', 'day_of_week', 'date', 'sales', 'customers', 'open', 'promo',\n",
      "       'state_holiday', 'school_holiday', 'store_type', 'assortment',\n",
      "       'competition_distance', 'competition_open_since_month',\n",
      "       'competition_open_since_year', 'promo2', 'promo2_since_week',\n",
      "       'promo2_since_year', 'promo_interval'],\n",
      "      dtype='object')\n"
     ]
    }
   ],
   "source": [
    "cols_old=['Store', 'DayOfWeek', 'Date', 'Sales', 'Customers', 'Open', 'Promo',\n",
    "           'StateHoliday', 'SchoolHoliday', 'StoreType', 'Assortment',\n",
    "           'CompetitionDistance', 'CompetitionOpenSinceMonth',\n",
    "           'CompetitionOpenSinceYear', 'Promo2', 'Promo2SinceWeek',\n",
    "           'Promo2SinceYear', 'PromoInterval']\n",
    "\n",
    "\n",
    "# changing the name of the columns\n",
    "snakecase = lambda x: inflection.underscore(x)\n",
    "cols_new = list(map(snakecase, cols_old))\n",
    "\n",
    "# renaming dataset columns\n",
    "df1.columns = cols_new\n",
    "print(df1.columns)"
   ]
  },
  {
   "cell_type": "markdown",
   "id": "53125f50",
   "metadata": {
    "hidden": true
   },
   "source": [
    "## Data Dimension"
   ]
  },
  {
   "cell_type": "code",
   "execution_count": 8,
   "id": "bb6a7bec",
   "metadata": {
    "ExecuteTime": {
     "end_time": "2021-08-18T21:05:46.418125Z",
     "start_time": "2021-08-18T21:05:46.414121Z"
    },
    "hidden": true
   },
   "outputs": [
    {
     "name": "stdout",
     "output_type": "stream",
     "text": [
      "Number of rows: 1017209\n",
      "Number of columns: 18\n"
     ]
    }
   ],
   "source": [
    "print('Number of rows: {}' .format(df1.shape[0]))\n",
    "print('Number of columns: {}' .format(df1.shape[1]))"
   ]
  },
  {
   "cell_type": "markdown",
   "id": "58f8cf93",
   "metadata": {
    "hidden": true
   },
   "source": [
    "## Data Types"
   ]
  },
  {
   "cell_type": "code",
   "execution_count": 9,
   "id": "25ef85aa",
   "metadata": {
    "ExecuteTime": {
     "end_time": "2021-08-18T21:05:46.815992Z",
     "start_time": "2021-08-18T21:05:46.790969Z"
    },
    "hidden": true
   },
   "outputs": [
    {
     "name": "stdout",
     "output_type": "stream",
     "text": [
      "store                             int64\n",
      "day_of_week                       int64\n",
      "date                             object\n",
      "sales                             int64\n",
      "customers                         int64\n",
      "open                              int64\n",
      "promo                             int64\n",
      "state_holiday                    object\n",
      "school_holiday                    int64\n",
      "store_type                       object\n",
      "assortment                       object\n",
      "competition_distance            float64\n",
      "competition_open_since_month    float64\n",
      "competition_open_since_year     float64\n",
      "promo2                            int64\n",
      "promo2_since_week               float64\n",
      "promo2_since_year               float64\n",
      "promo_interval                   object\n",
      "dtype: object\n"
     ]
    },
    {
     "data": {
      "text/html": [
       "<div>\n",
       "<style scoped>\n",
       "    .dataframe tbody tr th:only-of-type {\n",
       "        vertical-align: middle;\n",
       "    }\n",
       "\n",
       "    .dataframe tbody tr th {\n",
       "        vertical-align: top;\n",
       "    }\n",
       "\n",
       "    .dataframe thead th {\n",
       "        text-align: right;\n",
       "    }\n",
       "</style>\n",
       "<table border=\"1\" class=\"dataframe\">\n",
       "  <thead>\n",
       "    <tr style=\"text-align: right;\">\n",
       "      <th></th>\n",
       "      <th>store</th>\n",
       "      <th>day_of_week</th>\n",
       "      <th>date</th>\n",
       "      <th>sales</th>\n",
       "      <th>customers</th>\n",
       "      <th>open</th>\n",
       "      <th>promo</th>\n",
       "      <th>state_holiday</th>\n",
       "      <th>school_holiday</th>\n",
       "      <th>store_type</th>\n",
       "      <th>assortment</th>\n",
       "      <th>competition_distance</th>\n",
       "      <th>competition_open_since_month</th>\n",
       "      <th>competition_open_since_year</th>\n",
       "      <th>promo2</th>\n",
       "      <th>promo2_since_week</th>\n",
       "      <th>promo2_since_year</th>\n",
       "      <th>promo_interval</th>\n",
       "    </tr>\n",
       "  </thead>\n",
       "  <tbody>\n",
       "    <tr>\n",
       "      <th>0</th>\n",
       "      <td>1</td>\n",
       "      <td>5</td>\n",
       "      <td>2015-07-31</td>\n",
       "      <td>5263</td>\n",
       "      <td>555</td>\n",
       "      <td>1</td>\n",
       "      <td>1</td>\n",
       "      <td>0</td>\n",
       "      <td>1</td>\n",
       "      <td>c</td>\n",
       "      <td>a</td>\n",
       "      <td>1270.00</td>\n",
       "      <td>9.00</td>\n",
       "      <td>2008.00</td>\n",
       "      <td>0</td>\n",
       "      <td>NaN</td>\n",
       "      <td>NaN</td>\n",
       "      <td>NaN</td>\n",
       "    </tr>\n",
       "    <tr>\n",
       "      <th>1</th>\n",
       "      <td>2</td>\n",
       "      <td>5</td>\n",
       "      <td>2015-07-31</td>\n",
       "      <td>6064</td>\n",
       "      <td>625</td>\n",
       "      <td>1</td>\n",
       "      <td>1</td>\n",
       "      <td>0</td>\n",
       "      <td>1</td>\n",
       "      <td>a</td>\n",
       "      <td>a</td>\n",
       "      <td>570.00</td>\n",
       "      <td>11.00</td>\n",
       "      <td>2007.00</td>\n",
       "      <td>1</td>\n",
       "      <td>13.00</td>\n",
       "      <td>2010.00</td>\n",
       "      <td>Jan,Apr,Jul,Oct</td>\n",
       "    </tr>\n",
       "    <tr>\n",
       "      <th>2</th>\n",
       "      <td>3</td>\n",
       "      <td>5</td>\n",
       "      <td>2015-07-31</td>\n",
       "      <td>8314</td>\n",
       "      <td>821</td>\n",
       "      <td>1</td>\n",
       "      <td>1</td>\n",
       "      <td>0</td>\n",
       "      <td>1</td>\n",
       "      <td>a</td>\n",
       "      <td>a</td>\n",
       "      <td>14130.00</td>\n",
       "      <td>12.00</td>\n",
       "      <td>2006.00</td>\n",
       "      <td>1</td>\n",
       "      <td>14.00</td>\n",
       "      <td>2011.00</td>\n",
       "      <td>Jan,Apr,Jul,Oct</td>\n",
       "    </tr>\n",
       "    <tr>\n",
       "      <th>3</th>\n",
       "      <td>4</td>\n",
       "      <td>5</td>\n",
       "      <td>2015-07-31</td>\n",
       "      <td>13995</td>\n",
       "      <td>1498</td>\n",
       "      <td>1</td>\n",
       "      <td>1</td>\n",
       "      <td>0</td>\n",
       "      <td>1</td>\n",
       "      <td>c</td>\n",
       "      <td>c</td>\n",
       "      <td>620.00</td>\n",
       "      <td>9.00</td>\n",
       "      <td>2009.00</td>\n",
       "      <td>0</td>\n",
       "      <td>NaN</td>\n",
       "      <td>NaN</td>\n",
       "      <td>NaN</td>\n",
       "    </tr>\n",
       "    <tr>\n",
       "      <th>4</th>\n",
       "      <td>5</td>\n",
       "      <td>5</td>\n",
       "      <td>2015-07-31</td>\n",
       "      <td>4822</td>\n",
       "      <td>559</td>\n",
       "      <td>1</td>\n",
       "      <td>1</td>\n",
       "      <td>0</td>\n",
       "      <td>1</td>\n",
       "      <td>a</td>\n",
       "      <td>a</td>\n",
       "      <td>29910.00</td>\n",
       "      <td>4.00</td>\n",
       "      <td>2015.00</td>\n",
       "      <td>0</td>\n",
       "      <td>NaN</td>\n",
       "      <td>NaN</td>\n",
       "      <td>NaN</td>\n",
       "    </tr>\n",
       "  </tbody>\n",
       "</table>\n",
       "</div>"
      ],
      "text/plain": [
       "   store  day_of_week        date  sales  customers  open  promo  \\\n",
       "0      1            5  2015-07-31   5263        555     1      1   \n",
       "1      2            5  2015-07-31   6064        625     1      1   \n",
       "2      3            5  2015-07-31   8314        821     1      1   \n",
       "3      4            5  2015-07-31  13995       1498     1      1   \n",
       "4      5            5  2015-07-31   4822        559     1      1   \n",
       "\n",
       "  state_holiday  school_holiday store_type assortment  competition_distance  \\\n",
       "0             0               1          c          a               1270.00   \n",
       "1             0               1          a          a                570.00   \n",
       "2             0               1          a          a              14130.00   \n",
       "3             0               1          c          c                620.00   \n",
       "4             0               1          a          a              29910.00   \n",
       "\n",
       "   competition_open_since_month  competition_open_since_year  promo2  \\\n",
       "0                          9.00                      2008.00       0   \n",
       "1                         11.00                      2007.00       1   \n",
       "2                         12.00                      2006.00       1   \n",
       "3                          9.00                      2009.00       0   \n",
       "4                          4.00                      2015.00       0   \n",
       "\n",
       "   promo2_since_week  promo2_since_year   promo_interval  \n",
       "0                NaN                NaN              NaN  \n",
       "1              13.00            2010.00  Jan,Apr,Jul,Oct  \n",
       "2              14.00            2011.00  Jan,Apr,Jul,Oct  \n",
       "3                NaN                NaN              NaN  \n",
       "4                NaN                NaN              NaN  "
      ]
     },
     "execution_count": 9,
     "metadata": {},
     "output_type": "execute_result"
    }
   ],
   "source": [
    "print(df1.dtypes)\n",
    "df1.head()"
   ]
  },
  {
   "cell_type": "markdown",
   "id": "ef590c1d",
   "metadata": {
    "hidden": true
   },
   "source": [
    "## Check NA "
   ]
  },
  {
   "cell_type": "code",
   "execution_count": 10,
   "id": "85f8d6d8",
   "metadata": {
    "ExecuteTime": {
     "end_time": "2021-08-18T21:05:47.376501Z",
     "start_time": "2021-08-18T21:05:47.188331Z"
    },
    "hidden": true
   },
   "outputs": [
    {
     "data": {
      "text/plain": [
       "store                                0\n",
       "day_of_week                          0\n",
       "date                                 0\n",
       "sales                                0\n",
       "customers                            0\n",
       "open                                 0\n",
       "promo                                0\n",
       "state_holiday                        0\n",
       "school_holiday                       0\n",
       "store_type                           0\n",
       "assortment                           0\n",
       "competition_distance              2642\n",
       "competition_open_since_month    323348\n",
       "competition_open_since_year     323348\n",
       "promo2                               0\n",
       "promo2_since_week               508031\n",
       "promo2_since_year               508031\n",
       "promo_interval                  508031\n",
       "dtype: int64"
      ]
     },
     "execution_count": 10,
     "metadata": {},
     "output_type": "execute_result"
    }
   ],
   "source": [
    "df1.isna().sum()"
   ]
  },
  {
   "cell_type": "markdown",
   "id": "8fdff453",
   "metadata": {
    "hidden": true
   },
   "source": [
    "## Fillout NA"
   ]
  },
  {
   "cell_type": "code",
   "execution_count": 11,
   "id": "d63c05a3",
   "metadata": {
    "ExecuteTime": {
     "end_time": "2021-08-18T21:05:47.792879Z",
     "start_time": "2021-08-18T21:05:47.577684Z"
    },
    "hidden": true
   },
   "outputs": [],
   "source": [
    "# ======= competition_distance\n",
    "\n",
    "#checking maximum value\n",
    "df1['competition_distance'].max() # The maximum distance is:  75860.0\n",
    "\n",
    "# replacing each NA\n",
    "df1['competition_distance'] = df1['competition_distance'].apply(lambda x:2000000.0 if math.isnan(x) else (x))"
   ]
  },
  {
   "cell_type": "code",
   "execution_count": 12,
   "id": "c6207d45",
   "metadata": {
    "ExecuteTime": {
     "end_time": "2021-08-18T21:06:15.082741Z",
     "start_time": "2021-08-18T21:05:47.793881Z"
    },
    "hidden": true
   },
   "outputs": [],
   "source": [
    "df1['date'] = pd.to_datetime(df1['date'])\n",
    "\n",
    "#  ======= competition_open_since_month\n",
    "df1['competition_open_since_month'] = df1.apply(lambda x: x['date'].month if math.isnan(x['competition_open_since_month']) else x['competition_open_since_month'], axis=1)\n",
    "\n",
    "#  ======= competition_open_since_year\n",
    "df1['competition_open_since_year'] = df1.apply(lambda x: x['date'].year if math.isnan(x['competition_open_since_year']) else x['competition_open_since_year'], axis=1)\n"
   ]
  },
  {
   "cell_type": "code",
   "execution_count": 13,
   "id": "0266467c",
   "metadata": {
    "ExecuteTime": {
     "end_time": "2021-08-18T21:06:42.410148Z",
     "start_time": "2021-08-18T21:06:15.083742Z"
    },
    "hidden": true
   },
   "outputs": [],
   "source": [
    "# ======= promo2_since_week\n",
    "df1['promo2_since_week'] = df1.apply(lambda x: x['date'].week if math.isnan(x['promo2_since_week']) else x['promo2_since_week'], axis=1)\n",
    "\n",
    "# ======= promo2_since_year\n",
    "df1['promo2_since_year'] = df1.apply(lambda x: x['date'].year if math.isnan(x['promo2_since_year']) else x['promo2_since_year'], axis=1)\n"
   ]
  },
  {
   "cell_type": "code",
   "execution_count": 14,
   "id": "7929d0a9",
   "metadata": {
    "ExecuteTime": {
     "end_time": "2021-08-18T21:06:52.974778Z",
     "start_time": "2021-08-18T21:06:42.411149Z"
    },
    "hidden": true
   },
   "outputs": [],
   "source": [
    "# ======= promo_interval\n",
    "\n",
    "month_map = { 1: 'Jan', 2: 'Feb', 3: 'Mar', 4: 'Apr', 5: 'May', 6: 'Jun',\n",
    "              7: 'Jul', 8: 'Ago', 9: 'Sep', 10: 'Oct', 11: 'Nov', 12: 'Dec'}\n",
    "\n",
    "# filling Na with \"0\"\n",
    "df1['promo_interval'].fillna(0, inplace=True)\n",
    "\n",
    "# finding the month name given month number by mapping the \"month_map\" dictionary\n",
    "df1 ['month_map'] = df1['date'].dt.month.map(month_map)\n",
    "\n",
    "\n",
    "df1['is_promo'] = df1[['promo_interval', 'month_map']].apply(lambda x: 0 if x['promo_interval'] == 0\n",
    "                                                                  else 1 if x['month_map'] in x['promo_interval'].split(',')\n",
    "                                                                  else 0, axis=1 )"
   ]
  },
  {
   "cell_type": "code",
   "execution_count": 15,
   "id": "3e81058a",
   "metadata": {
    "ExecuteTime": {
     "end_time": "2021-08-18T21:06:53.054851Z",
     "start_time": "2021-08-18T21:06:52.975779Z"
    },
    "hidden": true
   },
   "outputs": [
    {
     "data": {
      "text/html": [
       "<div>\n",
       "<style scoped>\n",
       "    .dataframe tbody tr th:only-of-type {\n",
       "        vertical-align: middle;\n",
       "    }\n",
       "\n",
       "    .dataframe tbody tr th {\n",
       "        vertical-align: top;\n",
       "    }\n",
       "\n",
       "    .dataframe thead th {\n",
       "        text-align: right;\n",
       "    }\n",
       "</style>\n",
       "<table border=\"1\" class=\"dataframe\">\n",
       "  <thead>\n",
       "    <tr style=\"text-align: right;\">\n",
       "      <th></th>\n",
       "      <th>competition_distance</th>\n",
       "      <th>competition_open_since_month</th>\n",
       "      <th>competition_open_since_year</th>\n",
       "      <th>promo2_since_week</th>\n",
       "      <th>promo2_since_year</th>\n",
       "      <th>promo_interval</th>\n",
       "      <th>month_map</th>\n",
       "      <th>is_promo</th>\n",
       "    </tr>\n",
       "  </thead>\n",
       "  <tbody>\n",
       "    <tr>\n",
       "      <th>657175</th>\n",
       "      <td>7890.00</td>\n",
       "      <td>11.00</td>\n",
       "      <td>2013.00</td>\n",
       "      <td>37.00</td>\n",
       "      <td>2009.00</td>\n",
       "      <td>Jan,Apr,Jul,Oct</td>\n",
       "      <td>Nov</td>\n",
       "      <td>0</td>\n",
       "    </tr>\n",
       "    <tr>\n",
       "      <th>37229</th>\n",
       "      <td>910.00</td>\n",
       "      <td>6.00</td>\n",
       "      <td>2015.00</td>\n",
       "      <td>26.00</td>\n",
       "      <td>2015.00</td>\n",
       "      <td>0</td>\n",
       "      <td>Jun</td>\n",
       "      <td>0</td>\n",
       "    </tr>\n",
       "    <tr>\n",
       "      <th>165424</th>\n",
       "      <td>1080.00</td>\n",
       "      <td>4.00</td>\n",
       "      <td>2008.00</td>\n",
       "      <td>14.00</td>\n",
       "      <td>2011.00</td>\n",
       "      <td>Jan,Apr,Jul,Oct</td>\n",
       "      <td>Mar</td>\n",
       "      <td>0</td>\n",
       "    </tr>\n",
       "    <tr>\n",
       "      <th>991310</th>\n",
       "      <td>740.00</td>\n",
       "      <td>1.00</td>\n",
       "      <td>2013.00</td>\n",
       "      <td>14.00</td>\n",
       "      <td>2013.00</td>\n",
       "      <td>Mar,Jun,Sept,Dec</td>\n",
       "      <td>Jan</td>\n",
       "      <td>0</td>\n",
       "    </tr>\n",
       "    <tr>\n",
       "      <th>234390</th>\n",
       "      <td>780.00</td>\n",
       "      <td>1.00</td>\n",
       "      <td>2015.00</td>\n",
       "      <td>1.00</td>\n",
       "      <td>2015.00</td>\n",
       "      <td>0</td>\n",
       "      <td>Jan</td>\n",
       "      <td>0</td>\n",
       "    </tr>\n",
       "  </tbody>\n",
       "</table>\n",
       "</div>"
      ],
      "text/plain": [
       "        competition_distance  competition_open_since_month  \\\n",
       "657175               7890.00                         11.00   \n",
       "37229                 910.00                          6.00   \n",
       "165424               1080.00                          4.00   \n",
       "991310                740.00                          1.00   \n",
       "234390                780.00                          1.00   \n",
       "\n",
       "        competition_open_since_year  promo2_since_week  promo2_since_year  \\\n",
       "657175                      2013.00              37.00            2009.00   \n",
       "37229                       2015.00              26.00            2015.00   \n",
       "165424                      2008.00              14.00            2011.00   \n",
       "991310                      2013.00              14.00            2013.00   \n",
       "234390                      2015.00               1.00            2015.00   \n",
       "\n",
       "          promo_interval month_map  is_promo  \n",
       "657175   Jan,Apr,Jul,Oct       Nov         0  \n",
       "37229                  0       Jun         0  \n",
       "165424   Jan,Apr,Jul,Oct       Mar         0  \n",
       "991310  Mar,Jun,Sept,Dec       Jan         0  \n",
       "234390                 0       Jan         0  "
      ]
     },
     "execution_count": 15,
     "metadata": {},
     "output_type": "execute_result"
    }
   ],
   "source": [
    "df1[['competition_distance','competition_open_since_month','competition_open_since_year',\n",
    "     'promo2_since_week','promo2_since_year','promo_interval', 'month_map', 'is_promo']].sample(5)"
   ]
  },
  {
   "cell_type": "markdown",
   "id": "52123c60",
   "metadata": {
    "hidden": true
   },
   "source": [
    "## Change Variable Types"
   ]
  },
  {
   "cell_type": "code",
   "execution_count": 16,
   "id": "0587b9ca",
   "metadata": {
    "ExecuteTime": {
     "end_time": "2021-08-18T21:06:53.086880Z",
     "start_time": "2021-08-18T21:06:53.055852Z"
    },
    "hidden": true
   },
   "outputs": [
    {
     "name": "stdout",
     "output_type": "stream",
     "text": [
      "store                                    int64\n",
      "day_of_week                              int64\n",
      "date                            datetime64[ns]\n",
      "sales                                    int64\n",
      "customers                                int64\n",
      "open                                     int64\n",
      "promo                                    int64\n",
      "state_holiday                           object\n",
      "school_holiday                           int64\n",
      "store_type                              object\n",
      "assortment                              object\n",
      "competition_distance                   float64\n",
      "competition_open_since_month           float64\n",
      "competition_open_since_year            float64\n",
      "promo2                                   int64\n",
      "promo2_since_week                      float64\n",
      "promo2_since_year                      float64\n",
      "promo_interval                          object\n",
      "month_map                               object\n",
      "is_promo                                 int64\n",
      "dtype: object\n"
     ]
    },
    {
     "data": {
      "text/html": [
       "<div>\n",
       "<style scoped>\n",
       "    .dataframe tbody tr th:only-of-type {\n",
       "        vertical-align: middle;\n",
       "    }\n",
       "\n",
       "    .dataframe tbody tr th {\n",
       "        vertical-align: top;\n",
       "    }\n",
       "\n",
       "    .dataframe thead th {\n",
       "        text-align: right;\n",
       "    }\n",
       "</style>\n",
       "<table border=\"1\" class=\"dataframe\">\n",
       "  <thead>\n",
       "    <tr style=\"text-align: right;\">\n",
       "      <th></th>\n",
       "      <th>store</th>\n",
       "      <th>day_of_week</th>\n",
       "      <th>date</th>\n",
       "      <th>sales</th>\n",
       "      <th>customers</th>\n",
       "      <th>open</th>\n",
       "      <th>promo</th>\n",
       "      <th>state_holiday</th>\n",
       "      <th>school_holiday</th>\n",
       "      <th>store_type</th>\n",
       "      <th>assortment</th>\n",
       "      <th>competition_distance</th>\n",
       "      <th>competition_open_since_month</th>\n",
       "      <th>competition_open_since_year</th>\n",
       "      <th>promo2</th>\n",
       "      <th>promo2_since_week</th>\n",
       "      <th>promo2_since_year</th>\n",
       "      <th>promo_interval</th>\n",
       "      <th>month_map</th>\n",
       "      <th>is_promo</th>\n",
       "    </tr>\n",
       "  </thead>\n",
       "  <tbody>\n",
       "    <tr>\n",
       "      <th>33520</th>\n",
       "      <td>71</td>\n",
       "      <td>3</td>\n",
       "      <td>2015-07-01</td>\n",
       "      <td>11837</td>\n",
       "      <td>803</td>\n",
       "      <td>1</td>\n",
       "      <td>1</td>\n",
       "      <td>0</td>\n",
       "      <td>1</td>\n",
       "      <td>a</td>\n",
       "      <td>a</td>\n",
       "      <td>17500.00</td>\n",
       "      <td>8.00</td>\n",
       "      <td>2008.00</td>\n",
       "      <td>1</td>\n",
       "      <td>37.00</td>\n",
       "      <td>2009.00</td>\n",
       "      <td>Mar,Jun,Sept,Dec</td>\n",
       "      <td>Jul</td>\n",
       "      <td>0</td>\n",
       "    </tr>\n",
       "  </tbody>\n",
       "</table>\n",
       "</div>"
      ],
      "text/plain": [
       "       store  day_of_week       date  sales  customers  open  promo  \\\n",
       "33520     71            3 2015-07-01  11837        803     1      1   \n",
       "\n",
       "      state_holiday  school_holiday store_type assortment  \\\n",
       "33520             0               1          a          a   \n",
       "\n",
       "       competition_distance  competition_open_since_month  \\\n",
       "33520              17500.00                          8.00   \n",
       "\n",
       "       competition_open_since_year  promo2  promo2_since_week  \\\n",
       "33520                      2008.00       1              37.00   \n",
       "\n",
       "       promo2_since_year    promo_interval month_map  is_promo  \n",
       "33520            2009.00  Mar,Jun,Sept,Dec       Jul         0  "
      ]
     },
     "execution_count": 16,
     "metadata": {},
     "output_type": "execute_result"
    }
   ],
   "source": [
    "print(df1.dtypes)\n",
    "df1.sample()"
   ]
  },
  {
   "cell_type": "code",
   "execution_count": 17,
   "id": "ef42ad36",
   "metadata": {
    "ExecuteTime": {
     "end_time": "2021-08-18T21:06:53.134923Z",
     "start_time": "2021-08-18T21:06:53.088881Z"
    },
    "hidden": true
   },
   "outputs": [],
   "source": [
    "df1['competition_open_since_month'] = df1['competition_open_since_month'].astype(np.int64)\n",
    "df1['competition_open_since_year'] = df1['competition_open_since_year'].astype(np.int64)\n",
    "\n",
    "df1['promo2_since_week'] = df1['promo2_since_week'].astype(np.int64)\n",
    "df1['promo2_since_year'] = df1['promo2_since_year'].astype(np.int64)"
   ]
  },
  {
   "cell_type": "markdown",
   "id": "d16d43c9",
   "metadata": {
    "hidden": true
   },
   "source": [
    "## Descriptive Statistical"
   ]
  },
  {
   "cell_type": "code",
   "execution_count": 18,
   "id": "0e99c97c",
   "metadata": {
    "ExecuteTime": {
     "end_time": "2021-08-18T21:06:53.214500Z",
     "start_time": "2021-08-18T21:06:53.135924Z"
    },
    "hidden": true
   },
   "outputs": [],
   "source": [
    "num_df1 = df1.select_dtypes(include=['int64','float64'])\n",
    "cat_df1 = df1.select_dtypes(exclude=['int64','float64','datetime64[ns]'])"
   ]
  },
  {
   "cell_type": "markdown",
   "id": "278bcc6a",
   "metadata": {
    "hidden": true
   },
   "source": [
    "### Numerical Attributes"
   ]
  },
  {
   "cell_type": "code",
   "execution_count": 20,
   "id": "bddeb2da",
   "metadata": {
    "ExecuteTime": {
     "end_time": "2021-08-18T21:06:58.733818Z",
     "start_time": "2021-08-18T21:06:55.960297Z"
    },
    "hidden": true
   },
   "outputs": [],
   "source": [
    "# central tendendy - mean, median\n",
    "ct1 = pd.DataFrame(num_df1.apply(np.mean)).T\n",
    "ct2 = pd.DataFrame(num_df1.apply(np.median)).T\n",
    "\n",
    "# dispersion - std, min, max, range, skew, kurtosis\n",
    "d1 = pd.DataFrame(num_df1.apply(np.std)).T\n",
    "d2 = pd.DataFrame(num_df1.apply(min)).T\n",
    "d3 = pd.DataFrame(num_df1.apply(max)).T\n",
    "d4 = pd.DataFrame(num_df1.apply(lambda x: x.max() - x.min())).T\n",
    "d5 = pd.DataFrame(num_df1.apply(lambda x: x.skew())).T\n",
    "d6 = pd.DataFrame(num_df1.apply(lambda x: x.kurtosis)).T\n",
    "\n",
    "# concatenate \n",
    "m = pd.concat([d2,d3,d4,ct1,ct2,d1,d5,d6]).T.reset_index()\n",
    "m.columns = ['attributes','min','max','range','mean','median','std','skew','kurtosis']\n",
    "#m"
   ]
  },
  {
   "cell_type": "markdown",
   "id": "72793478",
   "metadata": {
    "hidden": true
   },
   "source": [
    "### Categorical Attributes"
   ]
  },
  {
   "cell_type": "code",
   "execution_count": 21,
   "id": "f7d90662",
   "metadata": {
    "ExecuteTime": {
     "end_time": "2021-08-18T21:06:58.908977Z",
     "start_time": "2021-08-18T21:06:58.734819Z"
    },
    "hidden": true
   },
   "outputs": [
    {
     "data": {
      "text/plain": [
       "state_holiday      4\n",
       "store_type         4\n",
       "assortment         3\n",
       "promo_interval     4\n",
       "month_map         12\n",
       "dtype: int64"
      ]
     },
     "execution_count": 21,
     "metadata": {},
     "output_type": "execute_result"
    }
   ],
   "source": [
    "cat_df1.apply(lambda x: x.unique().shape[0])"
   ]
  },
  {
   "cell_type": "code",
   "execution_count": 22,
   "id": "99fbe371",
   "metadata": {
    "ExecuteTime": {
     "end_time": "2021-08-18T21:06:59.285319Z",
     "start_time": "2021-08-18T21:06:58.909978Z"
    },
    "hidden": true
   },
   "outputs": [
    {
     "data": {
      "image/png": "[encoded data removed]",
      "text/plain": [
       "<Figure size 1440x720 with 3 Axes>"
      ]
     },
     "metadata": {},
     "output_type": "display_data"
    }
   ],
   "source": [
    "# filtering sales that happened during a state holiday\n",
    "aux1 = df1[(df1['state_holiday']!='0') & (df1['sales']>0)]\n",
    "\n",
    "plt.subplot(1,3,1)\n",
    "sns.boxplot(x='state_holiday', y='sales', data=aux1);\n",
    "\n",
    "plt.subplot(1,3,2)\n",
    "sns.boxplot(x='store_type', y='sales', data=aux1);\n",
    "\n",
    "plt.subplot(1,3,3)\n",
    "sns.boxplot(x='assortment', y='sales', data=aux1);"
   ]
  },
  {
   "cell_type": "markdown",
   "id": "b6c8c3c3",
   "metadata": {},
   "source": [
    "# FEATURE ENGINEERING"
   ]
  },
  {
   "cell_type": "code",
   "execution_count": 26,
   "id": "ffaa8027",
   "metadata": {
    "ExecuteTime": {
     "end_time": "2021-08-18T21:08:15.441969Z",
     "start_time": "2021-08-18T21:08:15.380915Z"
    }
   },
   "outputs": [],
   "source": [
    "df2=df1.copy()"
   ]
  },
  {
   "cell_type": "markdown",
   "id": "818e09cc",
   "metadata": {},
   "source": [
    "## Mind Map Hypothesis "
   ]
  },
  {
   "cell_type": "code",
   "execution_count": 33,
   "id": "9dfa9dfd",
   "metadata": {
    "ExecuteTime": {
     "end_time": "2021-08-18T21:09:13.685245Z",
     "start_time": "2021-08-18T21:09:13.678238Z"
    }
   },
   "outputs": [
    {
     "data": {
      "image/png": "[encoded data removed]",
      "text/plain": [
       "<IPython.core.display.Image object>"
      ]
     },
     "execution_count": 33,
     "metadata": {},
     "output_type": "execute_result"
    }
   ],
   "source": [
    "# importing hipothesis mind map\n",
    "Image('../image/MindMapHypothesis.png')"
   ]
  },
  {
   "cell_type": "markdown",
   "id": "f7c67891",
   "metadata": {},
   "source": [
    "## Creating Hypothesis"
   ]
  },
  {
   "cell_type": "markdown",
   "id": "9808bacb",
   "metadata": {},
   "source": [
    "### Store Hypothesis \n",
    "1. Stores with bigger assortment should sell more.\n",
    "\n",
    "2. Stores with closer competitors should sell less.\n",
    "\n",
    "3. Stores with longer competitors should sell more. \n",
    "\n",
    "### Product Hypothesis\n",
    "4. Stores with longer active promotions should sell more.\n",
    "\n",
    "5. Stores with more promotion days should sell more.\n",
    "\n",
    "### Periodicity Hypothesis\n",
    "7. Stores open during Christmas holiday sHould sell more.\n",
    "\n",
    "8. Stores should sell more over the years.\n",
    "\n",
    "9. Stores should sell more in the second semester.\n",
    "\n",
    "10. Stores should sell more after the 10th of each month.\n",
    "\n",
    "11. Stores should sell less on weekends.\n",
    "\n",
    "12. Stores should sell less during school holidays."
   ]
  },
  {
   "cell_type": "markdown",
   "id": "f87ab55d",
   "metadata": {},
   "source": [
    "## Feature Engineering"
   ]
  },
  {
   "cell_type": "code",
   "execution_count": 34,
   "id": "b55d52d4",
   "metadata": {
    "ExecuteTime": {
     "end_time": "2021-08-18T21:12:27.508585Z",
     "start_time": "2021-08-18T21:12:27.441524Z"
    }
   },
   "outputs": [
    {
     "data": {
      "text/html": [
       "<div>\n",
       "<style scoped>\n",
       "    .dataframe tbody tr th:only-of-type {\n",
       "        vertical-align: middle;\n",
       "    }\n",
       "\n",
       "    .dataframe tbody tr th {\n",
       "        vertical-align: top;\n",
       "    }\n",
       "\n",
       "    .dataframe thead th {\n",
       "        text-align: right;\n",
       "    }\n",
       "</style>\n",
       "<table border=\"1\" class=\"dataframe\">\n",
       "  <thead>\n",
       "    <tr style=\"text-align: right;\">\n",
       "      <th></th>\n",
       "      <th>store</th>\n",
       "      <th>day_of_week</th>\n",
       "      <th>date</th>\n",
       "      <th>sales</th>\n",
       "      <th>customers</th>\n",
       "      <th>open</th>\n",
       "      <th>promo</th>\n",
       "      <th>state_holiday</th>\n",
       "      <th>school_holiday</th>\n",
       "      <th>store_type</th>\n",
       "      <th>assortment</th>\n",
       "      <th>competition_distance</th>\n",
       "      <th>competition_open_since_month</th>\n",
       "      <th>competition_open_since_year</th>\n",
       "      <th>promo2</th>\n",
       "      <th>promo2_since_week</th>\n",
       "      <th>promo2_since_year</th>\n",
       "      <th>promo_interval</th>\n",
       "      <th>month_map</th>\n",
       "      <th>is_promo</th>\n",
       "    </tr>\n",
       "  </thead>\n",
       "  <tbody>\n",
       "    <tr>\n",
       "      <th>0</th>\n",
       "      <td>1</td>\n",
       "      <td>5</td>\n",
       "      <td>2015-07-31</td>\n",
       "      <td>5263</td>\n",
       "      <td>555</td>\n",
       "      <td>1</td>\n",
       "      <td>1</td>\n",
       "      <td>0</td>\n",
       "      <td>1</td>\n",
       "      <td>c</td>\n",
       "      <td>a</td>\n",
       "      <td>1270.00</td>\n",
       "      <td>9</td>\n",
       "      <td>2008</td>\n",
       "      <td>0</td>\n",
       "      <td>31</td>\n",
       "      <td>2015</td>\n",
       "      <td>0</td>\n",
       "      <td>Jul</td>\n",
       "      <td>0</td>\n",
       "    </tr>\n",
       "    <tr>\n",
       "      <th>1</th>\n",
       "      <td>2</td>\n",
       "      <td>5</td>\n",
       "      <td>2015-07-31</td>\n",
       "      <td>6064</td>\n",
       "      <td>625</td>\n",
       "      <td>1</td>\n",
       "      <td>1</td>\n",
       "      <td>0</td>\n",
       "      <td>1</td>\n",
       "      <td>a</td>\n",
       "      <td>a</td>\n",
       "      <td>570.00</td>\n",
       "      <td>11</td>\n",
       "      <td>2007</td>\n",
       "      <td>1</td>\n",
       "      <td>13</td>\n",
       "      <td>2010</td>\n",
       "      <td>Jan,Apr,Jul,Oct</td>\n",
       "      <td>Jul</td>\n",
       "      <td>1</td>\n",
       "    </tr>\n",
       "    <tr>\n",
       "      <th>2</th>\n",
       "      <td>3</td>\n",
       "      <td>5</td>\n",
       "      <td>2015-07-31</td>\n",
       "      <td>8314</td>\n",
       "      <td>821</td>\n",
       "      <td>1</td>\n",
       "      <td>1</td>\n",
       "      <td>0</td>\n",
       "      <td>1</td>\n",
       "      <td>a</td>\n",
       "      <td>a</td>\n",
       "      <td>14130.00</td>\n",
       "      <td>12</td>\n",
       "      <td>2006</td>\n",
       "      <td>1</td>\n",
       "      <td>14</td>\n",
       "      <td>2011</td>\n",
       "      <td>Jan,Apr,Jul,Oct</td>\n",
       "      <td>Jul</td>\n",
       "      <td>1</td>\n",
       "    </tr>\n",
       "    <tr>\n",
       "      <th>3</th>\n",
       "      <td>4</td>\n",
       "      <td>5</td>\n",
       "      <td>2015-07-31</td>\n",
       "      <td>13995</td>\n",
       "      <td>1498</td>\n",
       "      <td>1</td>\n",
       "      <td>1</td>\n",
       "      <td>0</td>\n",
       "      <td>1</td>\n",
       "      <td>c</td>\n",
       "      <td>c</td>\n",
       "      <td>620.00</td>\n",
       "      <td>9</td>\n",
       "      <td>2009</td>\n",
       "      <td>0</td>\n",
       "      <td>31</td>\n",
       "      <td>2015</td>\n",
       "      <td>0</td>\n",
       "      <td>Jul</td>\n",
       "      <td>0</td>\n",
       "    </tr>\n",
       "    <tr>\n",
       "      <th>4</th>\n",
       "      <td>5</td>\n",
       "      <td>5</td>\n",
       "      <td>2015-07-31</td>\n",
       "      <td>4822</td>\n",
       "      <td>559</td>\n",
       "      <td>1</td>\n",
       "      <td>1</td>\n",
       "      <td>0</td>\n",
       "      <td>1</td>\n",
       "      <td>a</td>\n",
       "      <td>a</td>\n",
       "      <td>29910.00</td>\n",
       "      <td>4</td>\n",
       "      <td>2015</td>\n",
       "      <td>0</td>\n",
       "      <td>31</td>\n",
       "      <td>2015</td>\n",
       "      <td>0</td>\n",
       "      <td>Jul</td>\n",
       "      <td>0</td>\n",
       "    </tr>\n",
       "  </tbody>\n",
       "</table>\n",
       "</div>"
      ],
      "text/plain": [
       "   store  day_of_week       date  sales  customers  open  promo state_holiday  \\\n",
       "0      1            5 2015-07-31   5263        555     1      1             0   \n",
       "1      2            5 2015-07-31   6064        625     1      1             0   \n",
       "2      3            5 2015-07-31   8314        821     1      1             0   \n",
       "3      4            5 2015-07-31  13995       1498     1      1             0   \n",
       "4      5            5 2015-07-31   4822        559     1      1             0   \n",
       "\n",
       "   school_holiday store_type assortment  competition_distance  \\\n",
       "0               1          c          a               1270.00   \n",
       "1               1          a          a                570.00   \n",
       "2               1          a          a              14130.00   \n",
       "3               1          c          c                620.00   \n",
       "4               1          a          a              29910.00   \n",
       "\n",
       "   competition_open_since_month  competition_open_since_year  promo2  \\\n",
       "0                             9                         2008       0   \n",
       "1                            11                         2007       1   \n",
       "2                            12                         2006       1   \n",
       "3                             9                         2009       0   \n",
       "4                             4                         2015       0   \n",
       "\n",
       "   promo2_since_week  promo2_since_year   promo_interval month_map  is_promo  \n",
       "0                 31               2015                0       Jul         0  \n",
       "1                 13               2010  Jan,Apr,Jul,Oct       Jul         1  \n",
       "2                 14               2011  Jan,Apr,Jul,Oct       Jul         1  \n",
       "3                 31               2015                0       Jul         0  \n",
       "4                 31               2015                0       Jul         0  "
      ]
     },
     "execution_count": 34,
     "metadata": {},
     "output_type": "execute_result"
    }
   ],
   "source": [
    "df2 = df1.copy()\n",
    "df2.head()"
   ]
  },
  {
   "cell_type": "code",
   "execution_count": 35,
   "id": "34c26c20",
   "metadata": {
    "ExecuteTime": {
     "end_time": "2021-08-18T21:12:34.692619Z",
     "start_time": "2021-08-18T21:12:28.322325Z"
    }
   },
   "outputs": [],
   "source": [
    "# creating 'year' from 'date'\n",
    "df2['year'] = df2['date'].dt.year\n",
    "\n",
    "# creating 'month' from 'date'\n",
    "df2['month'] = df2['date'].dt.month\n",
    "\n",
    "# creating 'day' from 'date'\n",
    "df2['day'] = df2['date'].dt.day\n",
    "\n",
    "# creating 'week_of_year' from 'date'\n",
    "df2['week_of_year'] = df2['date'].dt.isocalendar().week.astype(np.int64)\n",
    "\n",
    "# creating 'year_week' from 'date'\n",
    "df2['year_week'] = df2['date'].dt.strftime('%Y-%W')"
   ]
  },
  {
   "cell_type": "code",
   "execution_count": 36,
   "id": "99db134f",
   "metadata": {
    "ExecuteTime": {
     "end_time": "2021-08-18T21:12:34.864776Z",
     "start_time": "2021-08-18T21:12:34.693620Z"
    }
   },
   "outputs": [
    {
     "name": "stdout",
     "output_type": "stream",
     "text": [
      "date            datetime64[ns]\n",
      "year                     int64\n",
      "month                    int64\n",
      "day                      int64\n",
      "week_of_year             int64\n",
      "year_week               object\n",
      "dtype: object\n"
     ]
    },
    {
     "data": {
      "text/html": [
       "<div>\n",
       "<style scoped>\n",
       "    .dataframe tbody tr th:only-of-type {\n",
       "        vertical-align: middle;\n",
       "    }\n",
       "\n",
       "    .dataframe tbody tr th {\n",
       "        vertical-align: top;\n",
       "    }\n",
       "\n",
       "    .dataframe thead th {\n",
       "        text-align: right;\n",
       "    }\n",
       "</style>\n",
       "<table border=\"1\" class=\"dataframe\">\n",
       "  <thead>\n",
       "    <tr style=\"text-align: right;\">\n",
       "      <th></th>\n",
       "      <th>date</th>\n",
       "      <th>year</th>\n",
       "      <th>month</th>\n",
       "      <th>day</th>\n",
       "      <th>week_of_year</th>\n",
       "      <th>year_week</th>\n",
       "    </tr>\n",
       "  </thead>\n",
       "  <tbody>\n",
       "    <tr>\n",
       "      <th>0</th>\n",
       "      <td>2015-07-31</td>\n",
       "      <td>2015</td>\n",
       "      <td>7</td>\n",
       "      <td>31</td>\n",
       "      <td>31</td>\n",
       "      <td>2015-30</td>\n",
       "    </tr>\n",
       "    <tr>\n",
       "      <th>1</th>\n",
       "      <td>2015-07-31</td>\n",
       "      <td>2015</td>\n",
       "      <td>7</td>\n",
       "      <td>31</td>\n",
       "      <td>31</td>\n",
       "      <td>2015-30</td>\n",
       "    </tr>\n",
       "    <tr>\n",
       "      <th>2</th>\n",
       "      <td>2015-07-31</td>\n",
       "      <td>2015</td>\n",
       "      <td>7</td>\n",
       "      <td>31</td>\n",
       "      <td>31</td>\n",
       "      <td>2015-30</td>\n",
       "    </tr>\n",
       "    <tr>\n",
       "      <th>3</th>\n",
       "      <td>2015-07-31</td>\n",
       "      <td>2015</td>\n",
       "      <td>7</td>\n",
       "      <td>31</td>\n",
       "      <td>31</td>\n",
       "      <td>2015-30</td>\n",
       "    </tr>\n",
       "    <tr>\n",
       "      <th>4</th>\n",
       "      <td>2015-07-31</td>\n",
       "      <td>2015</td>\n",
       "      <td>7</td>\n",
       "      <td>31</td>\n",
       "      <td>31</td>\n",
       "      <td>2015-30</td>\n",
       "    </tr>\n",
       "  </tbody>\n",
       "</table>\n",
       "</div>"
      ],
      "text/plain": [
       "        date  year  month  day  week_of_year year_week\n",
       "0 2015-07-31  2015      7   31            31   2015-30\n",
       "1 2015-07-31  2015      7   31            31   2015-30\n",
       "2 2015-07-31  2015      7   31            31   2015-30\n",
       "3 2015-07-31  2015      7   31            31   2015-30\n",
       "4 2015-07-31  2015      7   31            31   2015-30"
      ]
     },
     "execution_count": 36,
     "metadata": {},
     "output_type": "execute_result"
    }
   ],
   "source": [
    "print(df2[['date','year','month','day','week_of_year','year_week']].dtypes)\n",
    "df2[['date','year','month','day','week_of_year','year_week']].head()"
   ]
  },
  {
   "cell_type": "code",
   "execution_count": 37,
   "id": "d7e3b496",
   "metadata": {
    "ExecuteTime": {
     "end_time": "2021-08-18T21:12:57.300478Z",
     "start_time": "2021-08-18T21:12:34.865777Z"
    }
   },
   "outputs": [],
   "source": [
    "# creating 'competition_open_since' by combining 'competition_open_since_year and 'competition_open_since_month'\n",
    "df2['competition_open_since'] = df2.apply(lambda x: datetime.datetime(year=x['competition_open_since_year'], month=x['competition_open_since_month'], day=1), axis=1)\n",
    "\n",
    "# creating 'competition_open_timeinmonths' by calculating the difference between 'date' and 'competition_open_since':\n",
    "df2['competition_open_timeinmonths'] = ((df2['date']-df2['competition_open_since'])/30).apply(lambda x: x.days).astype('int64')"
   ]
  },
  {
   "cell_type": "code",
   "execution_count": 38,
   "id": "4ef59e35",
   "metadata": {
    "ExecuteTime": {
     "end_time": "2021-08-18T21:12:57.380551Z",
     "start_time": "2021-08-18T21:12:57.301479Z"
    }
   },
   "outputs": [
    {
     "name": "stdout",
     "output_type": "stream",
     "text": [
      "date                             datetime64[ns]\n",
      "competition_open_since_year               int64\n",
      "competition_open_since_month              int64\n",
      "competition_open_since           datetime64[ns]\n",
      "competition_open_timeinmonths             int64\n",
      "dtype: object\n"
     ]
    },
    {
     "data": {
      "text/html": [
       "<div>\n",
       "<style scoped>\n",
       "    .dataframe tbody tr th:only-of-type {\n",
       "        vertical-align: middle;\n",
       "    }\n",
       "\n",
       "    .dataframe tbody tr th {\n",
       "        vertical-align: top;\n",
       "    }\n",
       "\n",
       "    .dataframe thead th {\n",
       "        text-align: right;\n",
       "    }\n",
       "</style>\n",
       "<table border=\"1\" class=\"dataframe\">\n",
       "  <thead>\n",
       "    <tr style=\"text-align: right;\">\n",
       "      <th></th>\n",
       "      <th>date</th>\n",
       "      <th>competition_open_since_year</th>\n",
       "      <th>competition_open_since_month</th>\n",
       "      <th>competition_open_since</th>\n",
       "      <th>competition_open_timeinmonths</th>\n",
       "    </tr>\n",
       "  </thead>\n",
       "  <tbody>\n",
       "    <tr>\n",
       "      <th>0</th>\n",
       "      <td>2015-07-31</td>\n",
       "      <td>2008</td>\n",
       "      <td>9</td>\n",
       "      <td>2008-09-01</td>\n",
       "      <td>84</td>\n",
       "    </tr>\n",
       "    <tr>\n",
       "      <th>1</th>\n",
       "      <td>2015-07-31</td>\n",
       "      <td>2007</td>\n",
       "      <td>11</td>\n",
       "      <td>2007-11-01</td>\n",
       "      <td>94</td>\n",
       "    </tr>\n",
       "    <tr>\n",
       "      <th>2</th>\n",
       "      <td>2015-07-31</td>\n",
       "      <td>2006</td>\n",
       "      <td>12</td>\n",
       "      <td>2006-12-01</td>\n",
       "      <td>105</td>\n",
       "    </tr>\n",
       "    <tr>\n",
       "      <th>3</th>\n",
       "      <td>2015-07-31</td>\n",
       "      <td>2009</td>\n",
       "      <td>9</td>\n",
       "      <td>2009-09-01</td>\n",
       "      <td>71</td>\n",
       "    </tr>\n",
       "    <tr>\n",
       "      <th>4</th>\n",
       "      <td>2015-07-31</td>\n",
       "      <td>2015</td>\n",
       "      <td>4</td>\n",
       "      <td>2015-04-01</td>\n",
       "      <td>4</td>\n",
       "    </tr>\n",
       "  </tbody>\n",
       "</table>\n",
       "</div>"
      ],
      "text/plain": [
       "        date  competition_open_since_year  competition_open_since_month  \\\n",
       "0 2015-07-31                         2008                             9   \n",
       "1 2015-07-31                         2007                            11   \n",
       "2 2015-07-31                         2006                            12   \n",
       "3 2015-07-31                         2009                             9   \n",
       "4 2015-07-31                         2015                             4   \n",
       "\n",
       "  competition_open_since  competition_open_timeinmonths  \n",
       "0             2008-09-01                             84  \n",
       "1             2007-11-01                             94  \n",
       "2             2006-12-01                            105  \n",
       "3             2009-09-01                             71  \n",
       "4             2015-04-01                              4  "
      ]
     },
     "execution_count": 38,
     "metadata": {},
     "output_type": "execute_result"
    }
   ],
   "source": [
    "print(df2[['date','competition_open_since_year','competition_open_since_month',\n",
    "           'competition_open_since','competition_open_timeinmonths']].dtypes)\n",
    "\n",
    "df2[['date','competition_open_since_year','competition_open_since_month',\n",
    "     'competition_open_since','competition_open_timeinmonths']].head()"
   ]
  },
  {
   "cell_type": "code",
   "execution_count": 39,
   "id": "411d569d",
   "metadata": {
    "ExecuteTime": {
     "end_time": "2021-08-18T21:13:16.140262Z",
     "start_time": "2021-08-18T21:12:57.381552Z"
    }
   },
   "outputs": [],
   "source": [
    "# creating 'promo_since' by combining 'promo2_since_year' and 'promo2_since_week'\n",
    "df2['promo_since'] = df2['promo2_since_year'].astype(str) + '-' + df2['promo2_since_week'].astype(str) # string type (year-week, ex: 2015-31)\n",
    "df2['promo_since'] = df2['promo_since'].apply(lambda x: datetime.datetime.strptime( x + '-1', '%Y-%W-%w' ) - datetime.timedelta(days=7))  # date type (yyyy-mm-dd)\n",
    "\n",
    "# creating 'promo_since_timeinweeks' by calculating the difference between 'date' and 'promo_since':\n",
    "df2['promo_since_timeinweeks'] = ((df2['date'] - df2['promo_since'])/7).apply( lambda x: x.days).astype(np.int64)"
   ]
  },
  {
   "cell_type": "code",
   "execution_count": 40,
   "id": "ec9bb97a",
   "metadata": {
    "ExecuteTime": {
     "end_time": "2021-08-18T21:13:16.235349Z",
     "start_time": "2021-08-18T21:13:16.141263Z"
    }
   },
   "outputs": [
    {
     "name": "stdout",
     "output_type": "stream",
     "text": [
      "date                       datetime64[ns]\n",
      "promo2_since_year                   int64\n",
      "promo2_since_week                   int64\n",
      "promo_since                datetime64[ns]\n",
      "promo_since_timeinweeks             int64\n",
      "dtype: object\n"
     ]
    },
    {
     "data": {
      "text/html": [
       "<div>\n",
       "<style scoped>\n",
       "    .dataframe tbody tr th:only-of-type {\n",
       "        vertical-align: middle;\n",
       "    }\n",
       "\n",
       "    .dataframe tbody tr th {\n",
       "        vertical-align: top;\n",
       "    }\n",
       "\n",
       "    .dataframe thead th {\n",
       "        text-align: right;\n",
       "    }\n",
       "</style>\n",
       "<table border=\"1\" class=\"dataframe\">\n",
       "  <thead>\n",
       "    <tr style=\"text-align: right;\">\n",
       "      <th></th>\n",
       "      <th>date</th>\n",
       "      <th>promo2_since_year</th>\n",
       "      <th>promo2_since_week</th>\n",
       "      <th>promo_since</th>\n",
       "      <th>promo_since_timeinweeks</th>\n",
       "    </tr>\n",
       "  </thead>\n",
       "  <tbody>\n",
       "    <tr>\n",
       "      <th>0</th>\n",
       "      <td>2015-07-31</td>\n",
       "      <td>2015</td>\n",
       "      <td>31</td>\n",
       "      <td>2015-07-27</td>\n",
       "      <td>0</td>\n",
       "    </tr>\n",
       "    <tr>\n",
       "      <th>1</th>\n",
       "      <td>2015-07-31</td>\n",
       "      <td>2010</td>\n",
       "      <td>13</td>\n",
       "      <td>2010-03-22</td>\n",
       "      <td>279</td>\n",
       "    </tr>\n",
       "    <tr>\n",
       "      <th>2</th>\n",
       "      <td>2015-07-31</td>\n",
       "      <td>2011</td>\n",
       "      <td>14</td>\n",
       "      <td>2011-03-28</td>\n",
       "      <td>226</td>\n",
       "    </tr>\n",
       "    <tr>\n",
       "      <th>3</th>\n",
       "      <td>2015-07-31</td>\n",
       "      <td>2015</td>\n",
       "      <td>31</td>\n",
       "      <td>2015-07-27</td>\n",
       "      <td>0</td>\n",
       "    </tr>\n",
       "    <tr>\n",
       "      <th>4</th>\n",
       "      <td>2015-07-31</td>\n",
       "      <td>2015</td>\n",
       "      <td>31</td>\n",
       "      <td>2015-07-27</td>\n",
       "      <td>0</td>\n",
       "    </tr>\n",
       "  </tbody>\n",
       "</table>\n",
       "</div>"
      ],
      "text/plain": [
       "        date  promo2_since_year  promo2_since_week promo_since  \\\n",
       "0 2015-07-31               2015                 31  2015-07-27   \n",
       "1 2015-07-31               2010                 13  2010-03-22   \n",
       "2 2015-07-31               2011                 14  2011-03-28   \n",
       "3 2015-07-31               2015                 31  2015-07-27   \n",
       "4 2015-07-31               2015                 31  2015-07-27   \n",
       "\n",
       "   promo_since_timeinweeks  \n",
       "0                        0  \n",
       "1                      279  \n",
       "2                      226  \n",
       "3                        0  \n",
       "4                        0  "
      ]
     },
     "execution_count": 40,
     "metadata": {},
     "output_type": "execute_result"
    }
   ],
   "source": [
    "print(df2[['date','promo2_since_year','promo2_since_week','promo_since','promo_since_timeinweeks']].dtypes)\n",
    "\n",
    "df2[['date','promo2_since_year','promo2_since_week','promo_since','promo_since_timeinweeks']].head()"
   ]
  },
  {
   "cell_type": "code",
   "execution_count": 41,
   "id": "abb20121",
   "metadata": {
    "ExecuteTime": {
     "end_time": "2021-08-18T21:13:16.378480Z",
     "start_time": "2021-08-18T21:13:16.236350Z"
    }
   },
   "outputs": [],
   "source": [
    "# changing 'assortment' attribute by given classification\n",
    "df2['assortment'] = df2['assortment'].apply(lambda x: 'basic' if x=='a' \n",
    "                                                 else 'extra' if x=='b' \n",
    "                                                 else 'extended')"
   ]
  },
  {
   "cell_type": "code",
   "execution_count": 42,
   "id": "fcf89720",
   "metadata": {
    "ExecuteTime": {
     "end_time": "2021-08-18T21:13:16.394494Z",
     "start_time": "2021-08-18T21:13:16.379480Z"
    }
   },
   "outputs": [
    {
     "name": "stdout",
     "output_type": "stream",
     "text": [
      "assortment    object\n",
      "dtype: object\n"
     ]
    },
    {
     "data": {
      "text/html": [
       "<div>\n",
       "<style scoped>\n",
       "    .dataframe tbody tr th:only-of-type {\n",
       "        vertical-align: middle;\n",
       "    }\n",
       "\n",
       "    .dataframe tbody tr th {\n",
       "        vertical-align: top;\n",
       "    }\n",
       "\n",
       "    .dataframe thead th {\n",
       "        text-align: right;\n",
       "    }\n",
       "</style>\n",
       "<table border=\"1\" class=\"dataframe\">\n",
       "  <thead>\n",
       "    <tr style=\"text-align: right;\">\n",
       "      <th></th>\n",
       "      <th>assortment</th>\n",
       "    </tr>\n",
       "  </thead>\n",
       "  <tbody>\n",
       "    <tr>\n",
       "      <th>0</th>\n",
       "      <td>basic</td>\n",
       "    </tr>\n",
       "    <tr>\n",
       "      <th>1</th>\n",
       "      <td>basic</td>\n",
       "    </tr>\n",
       "    <tr>\n",
       "      <th>2</th>\n",
       "      <td>basic</td>\n",
       "    </tr>\n",
       "    <tr>\n",
       "      <th>3</th>\n",
       "      <td>extended</td>\n",
       "    </tr>\n",
       "    <tr>\n",
       "      <th>4</th>\n",
       "      <td>basic</td>\n",
       "    </tr>\n",
       "  </tbody>\n",
       "</table>\n",
       "</div>"
      ],
      "text/plain": [
       "  assortment\n",
       "0      basic\n",
       "1      basic\n",
       "2      basic\n",
       "3   extended\n",
       "4      basic"
      ]
     },
     "execution_count": 42,
     "metadata": {},
     "output_type": "execute_result"
    }
   ],
   "source": [
    "print(df2[['assortment']].dtypes)\n",
    "\n",
    "df2[['assortment']].head()"
   ]
  },
  {
   "cell_type": "code",
   "execution_count": 43,
   "id": "214e04d0",
   "metadata": {
    "ExecuteTime": {
     "end_time": "2021-08-18T21:13:16.600681Z",
     "start_time": "2021-08-18T21:13:16.395495Z"
    }
   },
   "outputs": [],
   "source": [
    "# changing 'sate_holiday' attribute by given classification\n",
    "df2['state_holiday'] = df2['state_holiday'].apply (lambda x: 'Public holiday' if x=='a' \n",
    "                                                        else 'Easter holiday' if x=='b' \n",
    "                                                        else 'Christmas'      if x=='c'\n",
    "                                                        else 'regular day')"
   ]
  },
  {
   "cell_type": "code",
   "execution_count": 44,
   "id": "83f0039b",
   "metadata": {
    "ExecuteTime": {
     "end_time": "2021-08-18T21:13:16.632710Z",
     "start_time": "2021-08-18T21:13:16.601682Z"
    }
   },
   "outputs": [
    {
     "name": "stdout",
     "output_type": "stream",
     "text": [
      "state_holiday    object\n",
      "dtype: object\n"
     ]
    },
    {
     "data": {
      "text/html": [
       "<div>\n",
       "<style scoped>\n",
       "    .dataframe tbody tr th:only-of-type {\n",
       "        vertical-align: middle;\n",
       "    }\n",
       "\n",
       "    .dataframe tbody tr th {\n",
       "        vertical-align: top;\n",
       "    }\n",
       "\n",
       "    .dataframe thead th {\n",
       "        text-align: right;\n",
       "    }\n",
       "</style>\n",
       "<table border=\"1\" class=\"dataframe\">\n",
       "  <thead>\n",
       "    <tr style=\"text-align: right;\">\n",
       "      <th></th>\n",
       "      <th>state_holiday</th>\n",
       "    </tr>\n",
       "  </thead>\n",
       "  <tbody>\n",
       "    <tr>\n",
       "      <th>0</th>\n",
       "      <td>regular day</td>\n",
       "    </tr>\n",
       "    <tr>\n",
       "      <th>1</th>\n",
       "      <td>regular day</td>\n",
       "    </tr>\n",
       "    <tr>\n",
       "      <th>2</th>\n",
       "      <td>regular day</td>\n",
       "    </tr>\n",
       "    <tr>\n",
       "      <th>3</th>\n",
       "      <td>regular day</td>\n",
       "    </tr>\n",
       "    <tr>\n",
       "      <th>4</th>\n",
       "      <td>regular day</td>\n",
       "    </tr>\n",
       "  </tbody>\n",
       "</table>\n",
       "</div>"
      ],
      "text/plain": [
       "  state_holiday\n",
       "0   regular day\n",
       "1   regular day\n",
       "2   regular day\n",
       "3   regular day\n",
       "4   regular day"
      ]
     },
     "execution_count": 44,
     "metadata": {},
     "output_type": "execute_result"
    }
   ],
   "source": [
    "print(df2[['state_holiday']].dtypes)\n",
    "\n",
    "df2[['state_holiday']].head()"
   ]
  },
  {
   "cell_type": "code",
   "execution_count": null,
   "id": "58fa6f24",
   "metadata": {},
   "outputs": [],
   "source": []
  }
 ],
 "metadata": {
  "kernelspec": {
   "display_name": "Python 3 (ipykernel)",
   "language": "python",
   "name": "python3"
  },
  "language_info": {
   "codemirror_mode": {
    "name": "ipython",
    "version": 3
   },
   "file_extension": ".py",
   "mimetype": "text/x-python",
   "name": "python",
   "nbconvert_exporter": "python",
   "pygments_lexer": "ipython3",
   "version": "3.9.7"
  },
  "toc": {
   "base_numbering": "0",
   "nav_menu": {},
   "number_sections": true,
   "sideBar": false,
   "skip_h1_title": false,
   "title_cell": "Table of Contents",
   "title_sidebar": "Contents",
   "toc_cell": false,
   "toc_position": {
    "height": "47.7778px",
    "left": "905.308px",
    "top": "134.045px",
    "width": "159.132px"
   },
   "toc_section_display": false,
   "toc_window_display": true
  }
 },
 "nbformat": 4,
 "nbformat_minor": 5
}
