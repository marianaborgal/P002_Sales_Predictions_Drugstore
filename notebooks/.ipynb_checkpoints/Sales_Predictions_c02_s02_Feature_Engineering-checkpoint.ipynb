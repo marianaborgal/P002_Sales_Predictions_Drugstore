{
 "cells": [
  {
   "cell_type": "markdown",
   "id": "cognitive-closure",
   "metadata": {
    "heading_collapsed": true
   },
   "source": [
    "# Imports"
   ]
  },
  {
   "cell_type": "code",
   "execution_count": 130,
   "id": "affiliated-dealing",
   "metadata": {
    "ExecuteTime": {
     "end_time": "2022-01-08T20:45:06.893556Z",
     "start_time": "2022-01-08T20:45:06.889051Z"
    },
    "hidden": true
   },
   "outputs": [],
   "source": [
    "import pandas             as pd\n",
    "import numpy              as np\n",
    "import seaborn            as sns\n",
    "import inflection\n",
    "import math\n",
    "import datetime\n",
    "\n",
    "from IPython.core.display import HTML\n",
    "from IPython.display      import Image\n",
    "from matplotlib           import pyplot     as plt"
   ]
  },
  {
   "cell_type": "markdown",
   "id": "english-papua",
   "metadata": {
    "heading_collapsed": true,
    "hidden": true
   },
   "source": [
    "## Helper Functions"
   ]
  },
  {
   "cell_type": "code",
   "execution_count": 131,
   "id": "departmental-regulation",
   "metadata": {
    "ExecuteTime": {
     "end_time": "2022-01-08T20:45:07.439817Z",
     "start_time": "2022-01-08T20:45:07.421789Z"
    },
    "hidden": true
   },
   "outputs": [],
   "source": [
    "def personal_settings():\n",
    "    \n",
    "    # plotly settings\n",
    "    plt.style.use( 'bmh' )\n",
    "    plt.rcParams['figure.figsize'] = [20, 10]\n",
    "    plt.rcParams['font.size'] = 24\n",
    "        \n",
    "    # notebook settings\n",
    "    display(HTML('<style>.container{width:90% !important;}</style>'))\n",
    "    np.set_printoptions(suppress=True)\n",
    "    pd.set_option('display.float_format', '{:.2f}'.format)\n",
    "\n",
    "    # seaborn settings\n",
    "    sns.set(rc={'figure.figsize':(20,10)})\n",
    "    sns.set_theme(style = 'darkgrid', font_scale = 1.5)"
   ]
  },
  {
   "cell_type": "code",
   "execution_count": 132,
   "id": "comprehensive-model",
   "metadata": {
    "ExecuteTime": {
     "end_time": "2022-01-08T20:45:07.455469Z",
     "start_time": "2022-01-08T20:45:07.446789Z"
    },
    "hidden": true
   },
   "outputs": [
    {
     "data": {
      "text/html": [
       "<style>.container{width:90% !important;}</style>"
      ],
      "text/plain": [
       "<IPython.core.display.HTML object>"
      ]
     },
     "metadata": {},
     "output_type": "display_data"
    }
   ],
   "source": [
    "personal_settings();"
   ]
  },
  {
   "cell_type": "markdown",
   "id": "1b1732bf",
   "metadata": {
    "heading_collapsed": true,
    "hidden": true
   },
   "source": [
    "## Loading Data"
   ]
  },
  {
   "cell_type": "code",
   "execution_count": 133,
   "id": "9979fdc5",
   "metadata": {
    "ExecuteTime": {
     "end_time": "2022-01-08T20:45:08.590016Z",
     "start_time": "2022-01-08T20:45:07.507042Z"
    },
    "hidden": true
   },
   "outputs": [],
   "source": [
    "df_sales_raw = pd.read_csv('../data/raw/train.csv', low_memory=False)\n",
    "df_store_raw = pd.read_csv('../data/raw/store.csv', low_memory=False)\n",
    "\n",
    "# merging datsets\n",
    "df_raw = pd.merge(df_sales_raw, df_store_raw, how='left', on='Store')"
   ]
  },
  {
   "cell_type": "markdown",
   "id": "c8d7e22a",
   "metadata": {
    "heading_collapsed": true
   },
   "source": [
    "# DATA DESCRIPTION"
   ]
  },
  {
   "cell_type": "code",
   "execution_count": 134,
   "id": "c9f2e538",
   "metadata": {
    "ExecuteTime": {
     "end_time": "2022-01-08T20:45:08.807630Z",
     "start_time": "2022-01-08T20:45:08.591590Z"
    },
    "hidden": true
   },
   "outputs": [],
   "source": [
    "df1=df_raw.copy()"
   ]
  },
  {
   "cell_type": "markdown",
   "id": "cee0616f",
   "metadata": {
    "heading_collapsed": true,
    "hidden": true
   },
   "source": [
    "## Rename Columns"
   ]
  },
  {
   "cell_type": "code",
   "execution_count": 135,
   "id": "94f6b168",
   "metadata": {
    "ExecuteTime": {
     "end_time": "2022-01-08T20:45:08.823602Z",
     "start_time": "2022-01-08T20:45:08.809577Z"
    },
    "hidden": true
   },
   "outputs": [
    {
     "data": {
      "text/plain": [
       "Index(['Store', 'DayOfWeek', 'Date', 'Sales', 'Customers', 'Open', 'Promo',\n",
       "       'StateHoliday', 'SchoolHoliday', 'StoreType', 'Assortment',\n",
       "       'CompetitionDistance', 'CompetitionOpenSinceMonth',\n",
       "       'CompetitionOpenSinceYear', 'Promo2', 'Promo2SinceWeek',\n",
       "       'Promo2SinceYear', 'PromoInterval'],\n",
       "      dtype='object')"
      ]
     },
     "execution_count": 135,
     "metadata": {},
     "output_type": "execute_result"
    }
   ],
   "source": [
    "df1.columns"
   ]
  },
  {
   "cell_type": "code",
   "execution_count": 136,
   "id": "9f8f33e5",
   "metadata": {
    "ExecuteTime": {
     "end_time": "2022-01-08T20:45:08.838739Z",
     "start_time": "2022-01-08T20:45:08.824618Z"
    },
    "hidden": true
   },
   "outputs": [
    {
     "name": "stdout",
     "output_type": "stream",
     "text": [
      "Index(['store', 'day_of_week', 'date', 'sales', 'customers', 'open', 'promo',\n",
      "       'state_holiday', 'school_holiday', 'store_type', 'assortment',\n",
      "       'competition_distance', 'competition_open_since_month',\n",
      "       'competition_open_since_year', 'promo2', 'promo2_since_week',\n",
      "       'promo2_since_year', 'promo_interval'],\n",
      "      dtype='object')\n"
     ]
    }
   ],
   "source": [
    "cols_old=['Store', 'DayOfWeek', 'Date', 'Sales', 'Customers', 'Open', 'Promo',\n",
    "           'StateHoliday', 'SchoolHoliday', 'StoreType', 'Assortment',\n",
    "           'CompetitionDistance', 'CompetitionOpenSinceMonth',\n",
    "           'CompetitionOpenSinceYear', 'Promo2', 'Promo2SinceWeek',\n",
    "           'Promo2SinceYear', 'PromoInterval']\n",
    "\n",
    "\n",
    "# changing the name of the columns\n",
    "snakecase = lambda x: inflection.underscore(x)\n",
    "cols_new = list(map(snakecase, cols_old))\n",
    "\n",
    "# renaming dataset columns\n",
    "df1.columns = cols_new\n",
    "print(df1.columns)"
   ]
  },
  {
   "cell_type": "markdown",
   "id": "53125f50",
   "metadata": {
    "heading_collapsed": true,
    "hidden": true
   },
   "source": [
    "## Data Dimension"
   ]
  },
  {
   "cell_type": "code",
   "execution_count": 137,
   "id": "bb6a7bec",
   "metadata": {
    "ExecuteTime": {
     "end_time": "2022-01-08T20:45:08.854366Z",
     "start_time": "2022-01-08T20:45:08.840241Z"
    },
    "hidden": true
   },
   "outputs": [
    {
     "name": "stdout",
     "output_type": "stream",
     "text": [
      "Number of rows: 1017209\n",
      "Number of columns: 18\n"
     ]
    }
   ],
   "source": [
    "print('Number of rows: {}' .format(df1.shape[0]))\n",
    "print('Number of columns: {}' .format(df1.shape[1]))"
   ]
  },
  {
   "cell_type": "markdown",
   "id": "58f8cf93",
   "metadata": {
    "heading_collapsed": true,
    "hidden": true
   },
   "source": [
    "## Data Types"
   ]
  },
  {
   "cell_type": "code",
   "execution_count": 138,
   "id": "25ef85aa",
   "metadata": {
    "ExecuteTime": {
     "end_time": "2022-01-08T20:45:08.869366Z",
     "start_time": "2022-01-08T20:45:08.855366Z"
    },
    "hidden": true
   },
   "outputs": [
    {
     "name": "stdout",
     "output_type": "stream",
     "text": [
      "store                             int64\n",
      "day_of_week                       int64\n",
      "date                             object\n",
      "sales                             int64\n",
      "customers                         int64\n",
      "open                              int64\n",
      "promo                             int64\n",
      "state_holiday                    object\n",
      "school_holiday                    int64\n",
      "store_type                       object\n",
      "assortment                       object\n",
      "competition_distance            float64\n",
      "competition_open_since_month    float64\n",
      "competition_open_since_year     float64\n",
      "promo2                            int64\n",
      "promo2_since_week               float64\n",
      "promo2_since_year               float64\n",
      "promo_interval                   object\n",
      "dtype: object\n"
     ]
    },
    {
     "data": {
      "text/html": [
       "<div>\n",
       "<style scoped>\n",
       "    .dataframe tbody tr th:only-of-type {\n",
       "        vertical-align: middle;\n",
       "    }\n",
       "\n",
       "    .dataframe tbody tr th {\n",
       "        vertical-align: top;\n",
       "    }\n",
       "\n",
       "    .dataframe thead th {\n",
       "        text-align: right;\n",
       "    }\n",
       "</style>\n",
       "<table border=\"1\" class=\"dataframe\">\n",
       "  <thead>\n",
       "    <tr style=\"text-align: right;\">\n",
       "      <th></th>\n",
       "      <th>store</th>\n",
       "      <th>day_of_week</th>\n",
       "      <th>date</th>\n",
       "      <th>sales</th>\n",
       "      <th>customers</th>\n",
       "      <th>open</th>\n",
       "      <th>promo</th>\n",
       "      <th>state_holiday</th>\n",
       "      <th>school_holiday</th>\n",
       "      <th>store_type</th>\n",
       "      <th>assortment</th>\n",
       "      <th>competition_distance</th>\n",
       "      <th>competition_open_since_month</th>\n",
       "      <th>competition_open_since_year</th>\n",
       "      <th>promo2</th>\n",
       "      <th>promo2_since_week</th>\n",
       "      <th>promo2_since_year</th>\n",
       "      <th>promo_interval</th>\n",
       "    </tr>\n",
       "  </thead>\n",
       "  <tbody>\n",
       "    <tr>\n",
       "      <th>0</th>\n",
       "      <td>1</td>\n",
       "      <td>5</td>\n",
       "      <td>2015-07-31</td>\n",
       "      <td>5263</td>\n",
       "      <td>555</td>\n",
       "      <td>1</td>\n",
       "      <td>1</td>\n",
       "      <td>0</td>\n",
       "      <td>1</td>\n",
       "      <td>c</td>\n",
       "      <td>a</td>\n",
       "      <td>1270.00</td>\n",
       "      <td>9.00</td>\n",
       "      <td>2008.00</td>\n",
       "      <td>0</td>\n",
       "      <td>NaN</td>\n",
       "      <td>NaN</td>\n",
       "      <td>NaN</td>\n",
       "    </tr>\n",
       "    <tr>\n",
       "      <th>1</th>\n",
       "      <td>2</td>\n",
       "      <td>5</td>\n",
       "      <td>2015-07-31</td>\n",
       "      <td>6064</td>\n",
       "      <td>625</td>\n",
       "      <td>1</td>\n",
       "      <td>1</td>\n",
       "      <td>0</td>\n",
       "      <td>1</td>\n",
       "      <td>a</td>\n",
       "      <td>a</td>\n",
       "      <td>570.00</td>\n",
       "      <td>11.00</td>\n",
       "      <td>2007.00</td>\n",
       "      <td>1</td>\n",
       "      <td>13.00</td>\n",
       "      <td>2010.00</td>\n",
       "      <td>Jan,Apr,Jul,Oct</td>\n",
       "    </tr>\n",
       "  </tbody>\n",
       "</table>\n",
       "</div>"
      ],
      "text/plain": [
       "   store  day_of_week        date  sales  customers  open  promo  \\\n",
       "0      1            5  2015-07-31   5263        555     1      1   \n",
       "1      2            5  2015-07-31   6064        625     1      1   \n",
       "\n",
       "  state_holiday  school_holiday store_type assortment  competition_distance  \\\n",
       "0             0               1          c          a               1270.00   \n",
       "1             0               1          a          a                570.00   \n",
       "\n",
       "   competition_open_since_month  competition_open_since_year  promo2  \\\n",
       "0                          9.00                      2008.00       0   \n",
       "1                         11.00                      2007.00       1   \n",
       "\n",
       "   promo2_since_week  promo2_since_year   promo_interval  \n",
       "0                NaN                NaN              NaN  \n",
       "1              13.00            2010.00  Jan,Apr,Jul,Oct  "
      ]
     },
     "execution_count": 138,
     "metadata": {},
     "output_type": "execute_result"
    }
   ],
   "source": [
    "print(df1.dtypes)\n",
    "df1.head(2)"
   ]
  },
  {
   "cell_type": "markdown",
   "id": "ef590c1d",
   "metadata": {
    "heading_collapsed": true,
    "hidden": true
   },
   "source": [
    "## Check NA "
   ]
  },
  {
   "cell_type": "code",
   "execution_count": 139,
   "id": "85f8d6d8",
   "metadata": {
    "ExecuteTime": {
     "end_time": "2022-01-08T20:45:09.042214Z",
     "start_time": "2022-01-08T20:45:08.871383Z"
    },
    "hidden": true
   },
   "outputs": [
    {
     "data": {
      "text/plain": [
       "store                                0\n",
       "day_of_week                          0\n",
       "date                                 0\n",
       "sales                                0\n",
       "customers                            0\n",
       "open                                 0\n",
       "promo                                0\n",
       "state_holiday                        0\n",
       "school_holiday                       0\n",
       "store_type                           0\n",
       "assortment                           0\n",
       "competition_distance              2642\n",
       "competition_open_since_month    323348\n",
       "competition_open_since_year     323348\n",
       "promo2                               0\n",
       "promo2_since_week               508031\n",
       "promo2_since_year               508031\n",
       "promo_interval                  508031\n",
       "dtype: int64"
      ]
     },
     "execution_count": 139,
     "metadata": {},
     "output_type": "execute_result"
    }
   ],
   "source": [
    "df1.isna().sum()"
   ]
  },
  {
   "cell_type": "markdown",
   "id": "8fdff453",
   "metadata": {
    "heading_collapsed": true,
    "hidden": true
   },
   "source": [
    "## Filling Out NA"
   ]
  },
  {
   "cell_type": "code",
   "execution_count": 140,
   "id": "781219ed",
   "metadata": {
    "ExecuteTime": {
     "end_time": "2022-01-08T20:45:09.119483Z",
     "start_time": "2022-01-08T20:45:09.043156Z"
    },
    "hidden": true
   },
   "outputs": [
    {
     "data": {
      "text/html": [
       "<div>\n",
       "<style scoped>\n",
       "    .dataframe tbody tr th:only-of-type {\n",
       "        vertical-align: middle;\n",
       "    }\n",
       "\n",
       "    .dataframe tbody tr th {\n",
       "        vertical-align: top;\n",
       "    }\n",
       "\n",
       "    .dataframe thead th {\n",
       "        text-align: right;\n",
       "    }\n",
       "</style>\n",
       "<table border=\"1\" class=\"dataframe\">\n",
       "  <thead>\n",
       "    <tr style=\"text-align: right;\">\n",
       "      <th></th>\n",
       "      <th>store</th>\n",
       "      <th>date</th>\n",
       "      <th>competition_distance</th>\n",
       "      <th>competition_open_since_month</th>\n",
       "      <th>competition_open_since_year</th>\n",
       "      <th>promo2</th>\n",
       "      <th>promo2_since_week</th>\n",
       "      <th>promo2_since_year</th>\n",
       "      <th>promo_interval</th>\n",
       "    </tr>\n",
       "  </thead>\n",
       "  <tbody>\n",
       "    <tr>\n",
       "      <th>943321</th>\n",
       "      <td>817</td>\n",
       "      <td>2013-03-08</td>\n",
       "      <td>140.00</td>\n",
       "      <td>3.00</td>\n",
       "      <td>2006.00</td>\n",
       "      <td>0</td>\n",
       "      <td>NaN</td>\n",
       "      <td>NaN</td>\n",
       "      <td>NaN</td>\n",
       "    </tr>\n",
       "    <tr>\n",
       "      <th>814573</th>\n",
       "      <td>294</td>\n",
       "      <td>2013-07-01</td>\n",
       "      <td>3150.00</td>\n",
       "      <td>5.00</td>\n",
       "      <td>2005.00</td>\n",
       "      <td>0</td>\n",
       "      <td>NaN</td>\n",
       "      <td>NaN</td>\n",
       "      <td>NaN</td>\n",
       "    </tr>\n",
       "    <tr>\n",
       "      <th>772371</th>\n",
       "      <td>462</td>\n",
       "      <td>2013-08-08</td>\n",
       "      <td>44320.00</td>\n",
       "      <td>8.00</td>\n",
       "      <td>2008.00</td>\n",
       "      <td>0</td>\n",
       "      <td>NaN</td>\n",
       "      <td>NaN</td>\n",
       "      <td>NaN</td>\n",
       "    </tr>\n",
       "    <tr>\n",
       "      <th>668939</th>\n",
       "      <td>725</td>\n",
       "      <td>2013-11-09</td>\n",
       "      <td>17540.00</td>\n",
       "      <td>6.00</td>\n",
       "      <td>2012.00</td>\n",
       "      <td>0</td>\n",
       "      <td>NaN</td>\n",
       "      <td>NaN</td>\n",
       "      <td>NaN</td>\n",
       "    </tr>\n",
       "    <tr>\n",
       "      <th>635748</th>\n",
       "      <td>984</td>\n",
       "      <td>2013-12-09</td>\n",
       "      <td>440.00</td>\n",
       "      <td>NaN</td>\n",
       "      <td>NaN</td>\n",
       "      <td>1</td>\n",
       "      <td>1.00</td>\n",
       "      <td>2013.00</td>\n",
       "      <td>Jan,Apr,Jul,Oct</td>\n",
       "    </tr>\n",
       "    <tr>\n",
       "      <th>315126</th>\n",
       "      <td>252</td>\n",
       "      <td>2014-10-08</td>\n",
       "      <td>22330.00</td>\n",
       "      <td>NaN</td>\n",
       "      <td>NaN</td>\n",
       "      <td>1</td>\n",
       "      <td>5.00</td>\n",
       "      <td>2010.00</td>\n",
       "      <td>Feb,May,Aug,Nov</td>\n",
       "    </tr>\n",
       "    <tr>\n",
       "      <th>214151</th>\n",
       "      <td>72</td>\n",
       "      <td>2015-01-20</td>\n",
       "      <td>2200.00</td>\n",
       "      <td>12.00</td>\n",
       "      <td>2009.00</td>\n",
       "      <td>1</td>\n",
       "      <td>13.00</td>\n",
       "      <td>2010.00</td>\n",
       "      <td>Jan,Apr,Jul,Oct</td>\n",
       "    </tr>\n",
       "    <tr>\n",
       "      <th>122160</th>\n",
       "      <td>626</td>\n",
       "      <td>2015-04-13</td>\n",
       "      <td>10740.00</td>\n",
       "      <td>11.00</td>\n",
       "      <td>2013.00</td>\n",
       "      <td>0</td>\n",
       "      <td>NaN</td>\n",
       "      <td>NaN</td>\n",
       "      <td>NaN</td>\n",
       "    </tr>\n",
       "    <tr>\n",
       "      <th>60226</th>\n",
       "      <td>17</td>\n",
       "      <td>2015-06-07</td>\n",
       "      <td>50.00</td>\n",
       "      <td>12.00</td>\n",
       "      <td>2005.00</td>\n",
       "      <td>1</td>\n",
       "      <td>26.00</td>\n",
       "      <td>2010.00</td>\n",
       "      <td>Jan,Apr,Jul,Oct</td>\n",
       "    </tr>\n",
       "    <tr>\n",
       "      <th>46622</th>\n",
       "      <td>908</td>\n",
       "      <td>2015-06-20</td>\n",
       "      <td>1980.00</td>\n",
       "      <td>7.00</td>\n",
       "      <td>2010.00</td>\n",
       "      <td>1</td>\n",
       "      <td>37.00</td>\n",
       "      <td>2009.00</td>\n",
       "      <td>Jan,Apr,Jul,Oct</td>\n",
       "    </tr>\n",
       "  </tbody>\n",
       "</table>\n",
       "</div>"
      ],
      "text/plain": [
       "        store        date  competition_distance  competition_open_since_month  \\\n",
       "943321    817  2013-03-08                140.00                          3.00   \n",
       "814573    294  2013-07-01               3150.00                          5.00   \n",
       "772371    462  2013-08-08              44320.00                          8.00   \n",
       "668939    725  2013-11-09              17540.00                          6.00   \n",
       "635748    984  2013-12-09                440.00                           NaN   \n",
       "315126    252  2014-10-08              22330.00                           NaN   \n",
       "214151     72  2015-01-20               2200.00                         12.00   \n",
       "122160    626  2015-04-13              10740.00                         11.00   \n",
       "60226      17  2015-06-07                 50.00                         12.00   \n",
       "46622     908  2015-06-20               1980.00                          7.00   \n",
       "\n",
       "        competition_open_since_year  promo2  promo2_since_week  \\\n",
       "943321                      2006.00       0                NaN   \n",
       "814573                      2005.00       0                NaN   \n",
       "772371                      2008.00       0                NaN   \n",
       "668939                      2012.00       0                NaN   \n",
       "635748                          NaN       1               1.00   \n",
       "315126                          NaN       1               5.00   \n",
       "214151                      2009.00       1              13.00   \n",
       "122160                      2013.00       0                NaN   \n",
       "60226                       2005.00       1              26.00   \n",
       "46622                       2010.00       1              37.00   \n",
       "\n",
       "        promo2_since_year   promo_interval  \n",
       "943321                NaN              NaN  \n",
       "814573                NaN              NaN  \n",
       "772371                NaN              NaN  \n",
       "668939                NaN              NaN  \n",
       "635748            2013.00  Jan,Apr,Jul,Oct  \n",
       "315126            2010.00  Feb,May,Aug,Nov  \n",
       "214151            2010.00  Jan,Apr,Jul,Oct  \n",
       "122160                NaN              NaN  \n",
       "60226             2010.00  Jan,Apr,Jul,Oct  \n",
       "46622             2009.00  Jan,Apr,Jul,Oct  "
      ]
     },
     "execution_count": 140,
     "metadata": {},
     "output_type": "execute_result"
    }
   ],
   "source": [
    "# analysing attributes with NA\n",
    "df1[['store','date','competition_distance', 'competition_open_since_month', 'competition_open_since_year',\n",
    "     'promo2', 'promo2_since_week', 'promo2_since_year', 'promo_interval']].sample(10).sort_values('date')"
   ]
  },
  {
   "cell_type": "code",
   "execution_count": 141,
   "id": "d63c05a3",
   "metadata": {
    "ExecuteTime": {
     "end_time": "2022-01-08T20:45:09.304981Z",
     "start_time": "2022-01-08T20:45:09.121432Z"
    },
    "hidden": true
   },
   "outputs": [],
   "source": [
    "# ======= competition_distance\n",
    "\n",
    "#checking maximum value\n",
    "df1['competition_distance'].max() # The maximum distance is: 75860.0\n",
    "\n",
    "# replacing each NA\n",
    "df1['competition_distance'] = df1['competition_distance'].apply(lambda x:2000000.0 if math.isnan(x) else (x))"
   ]
  },
  {
   "cell_type": "code",
   "execution_count": 142,
   "id": "c6207d45",
   "metadata": {
    "ExecuteTime": {
     "end_time": "2022-01-08T20:45:27.086616Z",
     "start_time": "2022-01-08T20:45:09.307933Z"
    },
    "hidden": true
   },
   "outputs": [],
   "source": [
    "df1['date'] = pd.to_datetime(df1['date'])\n",
    "\n",
    "#checking minimum value\n",
    "df1['date'].min() # every store has a row with date 2013/01/01\n",
    "fill_date = df1['date'].min() - datetime.timedelta(days=1)\n",
    "fill_month = fill_date.month\n",
    "fill_year = fill_date.year\n",
    "\n",
    "# ======= competition_open_since_month\n",
    "df1['competition_open_since_month'] = df1.apply(lambda x: fill_month if math.isnan(x['competition_open_since_month']) else x['competition_open_since_month'], axis=1)\n",
    "\n",
    "# ======= competition_open_since_year\n",
    "df1['competition_open_since_year'] = df1.apply(lambda x: fill_year if math.isnan(x['competition_open_since_year']) else x['competition_open_since_year'], axis=1)"
   ]
  },
  {
   "cell_type": "code",
   "execution_count": 143,
   "id": "0266467c",
   "metadata": {
    "ExecuteTime": {
     "end_time": "2022-01-08T20:45:27.588639Z",
     "start_time": "2022-01-08T20:45:27.088593Z"
    },
    "hidden": true
   },
   "outputs": [
    {
     "name": "stdout",
     "output_type": "stream",
     "text": [
      "Checking NAs for stores participanting in promo2\n",
      "NAs for week: 0\n",
      "NAs for year: 0\n",
      "NAs for interval: 0\n",
      "\n",
      "Checking unique values for stores tha are NOT participanting in promo2\n",
      "Unique values for week: [nan]\n",
      "Unique values for year: [nan]\n",
      "Unique values for interval: [nan]\n",
      "\n",
      "Data before:\n"
     ]
    },
    {
     "data": {
      "text/html": [
       "<div>\n",
       "<style scoped>\n",
       "    .dataframe tbody tr th:only-of-type {\n",
       "        vertical-align: middle;\n",
       "    }\n",
       "\n",
       "    .dataframe tbody tr th {\n",
       "        vertical-align: top;\n",
       "    }\n",
       "\n",
       "    .dataframe thead th {\n",
       "        text-align: right;\n",
       "    }\n",
       "</style>\n",
       "<table border=\"1\" class=\"dataframe\">\n",
       "  <thead>\n",
       "    <tr style=\"text-align: right;\">\n",
       "      <th></th>\n",
       "      <th>promo2</th>\n",
       "      <th>promo2_since_week</th>\n",
       "      <th>promo2_since_year</th>\n",
       "      <th>promo_interval</th>\n",
       "    </tr>\n",
       "  </thead>\n",
       "  <tbody>\n",
       "    <tr>\n",
       "      <th>615150</th>\n",
       "      <td>0</td>\n",
       "      <td>NaN</td>\n",
       "      <td>NaN</td>\n",
       "      <td>NaN</td>\n",
       "    </tr>\n",
       "    <tr>\n",
       "      <th>932457</th>\n",
       "      <td>1</td>\n",
       "      <td>5.00</td>\n",
       "      <td>2013.00</td>\n",
       "      <td>Feb,May,Aug,Nov</td>\n",
       "    </tr>\n",
       "    <tr>\n",
       "      <th>718370</th>\n",
       "      <td>1</td>\n",
       "      <td>10.00</td>\n",
       "      <td>2014.00</td>\n",
       "      <td>Mar,Jun,Sept,Dec</td>\n",
       "    </tr>\n",
       "    <tr>\n",
       "      <th>996142</th>\n",
       "      <td>0</td>\n",
       "      <td>NaN</td>\n",
       "      <td>NaN</td>\n",
       "      <td>NaN</td>\n",
       "    </tr>\n",
       "    <tr>\n",
       "      <th>320517</th>\n",
       "      <td>1</td>\n",
       "      <td>14.00</td>\n",
       "      <td>2013.00</td>\n",
       "      <td>Jan,Apr,Jul,Oct</td>\n",
       "    </tr>\n",
       "  </tbody>\n",
       "</table>\n",
       "</div>"
      ],
      "text/plain": [
       "        promo2  promo2_since_week  promo2_since_year    promo_interval\n",
       "615150       0                NaN                NaN               NaN\n",
       "932457       1               5.00            2013.00   Feb,May,Aug,Nov\n",
       "718370       1              10.00            2014.00  Mar,Jun,Sept,Dec\n",
       "996142       0                NaN                NaN               NaN\n",
       "320517       1              14.00            2013.00   Jan,Apr,Jul,Oct"
      ]
     },
     "metadata": {},
     "output_type": "display_data"
    },
    {
     "name": "stdout",
     "output_type": "stream",
     "text": [
      "\n",
      "Data after:\n"
     ]
    },
    {
     "data": {
      "text/html": [
       "<div>\n",
       "<style scoped>\n",
       "    .dataframe tbody tr th:only-of-type {\n",
       "        vertical-align: middle;\n",
       "    }\n",
       "\n",
       "    .dataframe tbody tr th {\n",
       "        vertical-align: top;\n",
       "    }\n",
       "\n",
       "    .dataframe thead th {\n",
       "        text-align: right;\n",
       "    }\n",
       "</style>\n",
       "<table border=\"1\" class=\"dataframe\">\n",
       "  <thead>\n",
       "    <tr style=\"text-align: right;\">\n",
       "      <th></th>\n",
       "      <th>promo2</th>\n",
       "      <th>promo2_since_week</th>\n",
       "      <th>promo2_since_year</th>\n",
       "      <th>promo_interval</th>\n",
       "    </tr>\n",
       "  </thead>\n",
       "  <tbody>\n",
       "    <tr>\n",
       "      <th>206303</th>\n",
       "      <td>0</td>\n",
       "      <td>0.00</td>\n",
       "      <td>0.00</td>\n",
       "      <td>0</td>\n",
       "    </tr>\n",
       "    <tr>\n",
       "      <th>224361</th>\n",
       "      <td>1</td>\n",
       "      <td>5.00</td>\n",
       "      <td>2013.00</td>\n",
       "      <td>Feb,May,Aug,Nov</td>\n",
       "    </tr>\n",
       "    <tr>\n",
       "      <th>775641</th>\n",
       "      <td>1</td>\n",
       "      <td>36.00</td>\n",
       "      <td>2013.00</td>\n",
       "      <td>Mar,Jun,Sept,Dec</td>\n",
       "    </tr>\n",
       "    <tr>\n",
       "      <th>695468</th>\n",
       "      <td>0</td>\n",
       "      <td>0.00</td>\n",
       "      <td>0.00</td>\n",
       "      <td>0</td>\n",
       "    </tr>\n",
       "    <tr>\n",
       "      <th>998587</th>\n",
       "      <td>0</td>\n",
       "      <td>0.00</td>\n",
       "      <td>0.00</td>\n",
       "      <td>0</td>\n",
       "    </tr>\n",
       "  </tbody>\n",
       "</table>\n",
       "</div>"
      ],
      "text/plain": [
       "        promo2  promo2_since_week  promo2_since_year    promo_interval\n",
       "206303       0               0.00               0.00                 0\n",
       "224361       1               5.00            2013.00   Feb,May,Aug,Nov\n",
       "775641       1              36.00            2013.00  Mar,Jun,Sept,Dec\n",
       "695468       0               0.00               0.00                 0\n",
       "998587       0               0.00               0.00                 0"
      ]
     },
     "metadata": {},
     "output_type": "display_data"
    }
   ],
   "source": [
    "# ======= promo2_since_week\n",
    "# ======= promo2_since_year\n",
    "# ======= promo_interval\n",
    "\n",
    "# 'promo2' is continuous promo, when 0 means that the store is not participating and 1 that the store is. \n",
    "# Therefore, if the store is not participating in 'promo2' there will be no data for 'promo2_since_week' and 'promo2_since_year'\n",
    "\n",
    "# Checking NAs for 'promo2'==1\n",
    "print(\"Checking NAs for stores participanting in promo2\")\n",
    "print('NAs for week:', df1[df1['promo2']==1]['promo2_since_week'].isna().sum())\n",
    "print('NAs for year:', df1[df1['promo2']==1]['promo2_since_year'].isna().sum())\n",
    "print('NAs for interval:',df1[df1['promo2']==1]['promo_interval'].isna().sum())\n",
    "\n",
    "# Checking NAs for 'promo2'==0\n",
    "print(\"\\nChecking unique values for stores tha are NOT participanting in promo2\")\n",
    "print('Unique values for week:', df1[df1['promo2']==0]['promo2_since_week'].unique())\n",
    "print('Unique values for year:',df1[df1['promo2']==0]['promo2_since_year'].unique())\n",
    "print('Unique values for interval:',df1[df1['promo2']==0]['promo_interval'].unique())\n",
    "\n",
    "print('\\nData before:')\n",
    "display(df1[['promo2','promo2_since_week', 'promo2_since_year', 'promo_interval']].sample(5))\n",
    "\n",
    "# filling Na with \"0\"\n",
    "df1['promo2_since_week'].fillna(0, inplace=True)\n",
    "df1['promo2_since_year'].fillna(0, inplace=True)\n",
    "df1['promo_interval'].fillna(0, inplace=True)\n",
    "\n",
    "print('\\nData after:')\n",
    "display(df1[['promo2','promo2_since_week', 'promo2_since_year', 'promo_interval']].sample(5))"
   ]
  },
  {
   "cell_type": "code",
   "execution_count": 144,
   "id": "3e81058a",
   "metadata": {
    "ExecuteTime": {
     "end_time": "2022-01-08T20:45:27.728542Z",
     "start_time": "2022-01-08T20:45:27.589585Z"
    },
    "hidden": true
   },
   "outputs": [
    {
     "data": {
      "text/plain": [
       "store                           0\n",
       "day_of_week                     0\n",
       "date                            0\n",
       "sales                           0\n",
       "customers                       0\n",
       "open                            0\n",
       "promo                           0\n",
       "state_holiday                   0\n",
       "school_holiday                  0\n",
       "store_type                      0\n",
       "assortment                      0\n",
       "competition_distance            0\n",
       "competition_open_since_month    0\n",
       "competition_open_since_year     0\n",
       "promo2                          0\n",
       "promo2_since_week               0\n",
       "promo2_since_year               0\n",
       "promo_interval                  0\n",
       "dtype: int64"
      ]
     },
     "execution_count": 144,
     "metadata": {},
     "output_type": "execute_result"
    }
   ],
   "source": [
    "# final check\n",
    "df1.isna().sum()"
   ]
  },
  {
   "cell_type": "markdown",
   "id": "52123c60",
   "metadata": {
    "heading_collapsed": true,
    "hidden": true
   },
   "source": [
    "## Change Variable Types"
   ]
  },
  {
   "cell_type": "code",
   "execution_count": 145,
   "id": "0587b9ca",
   "metadata": {
    "ExecuteTime": {
     "end_time": "2022-01-08T20:45:27.775542Z",
     "start_time": "2022-01-08T20:45:27.729488Z"
    },
    "hidden": true
   },
   "outputs": [
    {
     "name": "stdout",
     "output_type": "stream",
     "text": [
      "store                                    int64\n",
      "day_of_week                              int64\n",
      "date                            datetime64[ns]\n",
      "sales                                    int64\n",
      "customers                                int64\n",
      "open                                     int64\n",
      "promo                                    int64\n",
      "state_holiday                           object\n",
      "school_holiday                           int64\n",
      "store_type                              object\n",
      "assortment                              object\n",
      "competition_distance                   float64\n",
      "competition_open_since_month           float64\n",
      "competition_open_since_year            float64\n",
      "promo2                                   int64\n",
      "promo2_since_week                      float64\n",
      "promo2_since_year                      float64\n",
      "promo_interval                          object\n",
      "dtype: object\n"
     ]
    },
    {
     "data": {
      "text/html": [
       "<div>\n",
       "<style scoped>\n",
       "    .dataframe tbody tr th:only-of-type {\n",
       "        vertical-align: middle;\n",
       "    }\n",
       "\n",
       "    .dataframe tbody tr th {\n",
       "        vertical-align: top;\n",
       "    }\n",
       "\n",
       "    .dataframe thead th {\n",
       "        text-align: right;\n",
       "    }\n",
       "</style>\n",
       "<table border=\"1\" class=\"dataframe\">\n",
       "  <thead>\n",
       "    <tr style=\"text-align: right;\">\n",
       "      <th></th>\n",
       "      <th>store</th>\n",
       "      <th>day_of_week</th>\n",
       "      <th>date</th>\n",
       "      <th>sales</th>\n",
       "      <th>customers</th>\n",
       "      <th>open</th>\n",
       "      <th>promo</th>\n",
       "      <th>state_holiday</th>\n",
       "      <th>school_holiday</th>\n",
       "      <th>store_type</th>\n",
       "      <th>assortment</th>\n",
       "      <th>competition_distance</th>\n",
       "      <th>competition_open_since_month</th>\n",
       "      <th>competition_open_since_year</th>\n",
       "      <th>promo2</th>\n",
       "      <th>promo2_since_week</th>\n",
       "      <th>promo2_since_year</th>\n",
       "      <th>promo_interval</th>\n",
       "    </tr>\n",
       "  </thead>\n",
       "  <tbody>\n",
       "    <tr>\n",
       "      <th>176921</th>\n",
       "      <td>752</td>\n",
       "      <td>1</td>\n",
       "      <td>2015-02-23</td>\n",
       "      <td>3920</td>\n",
       "      <td>369</td>\n",
       "      <td>1</td>\n",
       "      <td>0</td>\n",
       "      <td>0</td>\n",
       "      <td>0</td>\n",
       "      <td>a</td>\n",
       "      <td>a</td>\n",
       "      <td>970.00</td>\n",
       "      <td>3.00</td>\n",
       "      <td>2013.00</td>\n",
       "      <td>1</td>\n",
       "      <td>31.00</td>\n",
       "      <td>2013.00</td>\n",
       "      <td>Feb,May,Aug,Nov</td>\n",
       "    </tr>\n",
       "  </tbody>\n",
       "</table>\n",
       "</div>"
      ],
      "text/plain": [
       "        store  day_of_week       date  sales  customers  open  promo  \\\n",
       "176921    752            1 2015-02-23   3920        369     1      0   \n",
       "\n",
       "       state_holiday  school_holiday store_type assortment  \\\n",
       "176921             0               0          a          a   \n",
       "\n",
       "        competition_distance  competition_open_since_month  \\\n",
       "176921                970.00                          3.00   \n",
       "\n",
       "        competition_open_since_year  promo2  promo2_since_week  \\\n",
       "176921                      2013.00       1              31.00   \n",
       "\n",
       "        promo2_since_year   promo_interval  \n",
       "176921            2013.00  Feb,May,Aug,Nov  "
      ]
     },
     "execution_count": 145,
     "metadata": {},
     "output_type": "execute_result"
    }
   ],
   "source": [
    "print(df1.dtypes)\n",
    "df1.sample()"
   ]
  },
  {
   "cell_type": "code",
   "execution_count": 146,
   "id": "ef42ad36",
   "metadata": {
    "ExecuteTime": {
     "end_time": "2022-01-08T20:45:27.854554Z",
     "start_time": "2022-01-08T20:45:27.776488Z"
    },
    "hidden": true
   },
   "outputs": [
    {
     "name": "stdout",
     "output_type": "stream",
     "text": [
      "store                                    int64\n",
      "day_of_week                              int64\n",
      "date                            datetime64[ns]\n",
      "sales                                    int64\n",
      "customers                                int64\n",
      "open                                     int64\n",
      "promo                                    int64\n",
      "state_holiday                           object\n",
      "school_holiday                           int64\n",
      "store_type                              object\n",
      "assortment                              object\n",
      "competition_distance                     int64\n",
      "competition_open_since_month             int64\n",
      "competition_open_since_year              int64\n",
      "promo2                                   int64\n",
      "promo2_since_week                        int64\n",
      "promo2_since_year                        int64\n",
      "promo_interval                          object\n",
      "dtype: object\n"
     ]
    }
   ],
   "source": [
    "df1['competition_distance'] = df1['competition_distance'].astype(np.int64)\n",
    "df1['competition_open_since_month'] = df1['competition_open_since_month'].astype(np.int64)\n",
    "df1['competition_open_since_year'] = df1['competition_open_since_year'].astype(np.int64)\n",
    "\n",
    "df1['promo2_since_week'] = df1['promo2_since_week'].astype(np.int64)\n",
    "df1['promo2_since_year'] = df1['promo2_since_year'].astype(np.int64)\n",
    "\n",
    "print(df1.dtypes)"
   ]
  },
  {
   "cell_type": "markdown",
   "id": "d16d43c9",
   "metadata": {
    "heading_collapsed": true,
    "hidden": true
   },
   "source": [
    "## Descriptive Statistical"
   ]
  },
  {
   "cell_type": "code",
   "execution_count": 147,
   "id": "0e99c97c",
   "metadata": {
    "ExecuteTime": {
     "end_time": "2022-01-08T20:45:27.980504Z",
     "start_time": "2022-01-08T20:45:27.856488Z"
    },
    "hidden": true
   },
   "outputs": [],
   "source": [
    "num_df1 = df1.select_dtypes(include=['int64','float64'])\n",
    "cat_df1 = df1.select_dtypes(exclude=['int64','float64','datetime64[ns]'])"
   ]
  },
  {
   "cell_type": "markdown",
   "id": "278bcc6a",
   "metadata": {
    "heading_collapsed": true,
    "hidden": true
   },
   "source": [
    "### Numerical Attributes"
   ]
  },
  {
   "cell_type": "code",
   "execution_count": 148,
   "id": "bddeb2da",
   "metadata": {
    "ExecuteTime": {
     "end_time": "2022-01-08T20:45:29.573116Z",
     "start_time": "2022-01-08T20:45:27.981449Z"
    },
    "hidden": true
   },
   "outputs": [
    {
     "data": {
      "text/html": [
       "<div>\n",
       "<style scoped>\n",
       "    .dataframe tbody tr th:only-of-type {\n",
       "        vertical-align: middle;\n",
       "    }\n",
       "\n",
       "    .dataframe tbody tr th {\n",
       "        vertical-align: top;\n",
       "    }\n",
       "\n",
       "    .dataframe thead th {\n",
       "        text-align: right;\n",
       "    }\n",
       "</style>\n",
       "<table border=\"1\" class=\"dataframe\">\n",
       "  <thead>\n",
       "    <tr style=\"text-align: right;\">\n",
       "      <th></th>\n",
       "      <th>attributes</th>\n",
       "      <th>min</th>\n",
       "      <th>max</th>\n",
       "      <th>range</th>\n",
       "      <th>mean</th>\n",
       "      <th>median</th>\n",
       "      <th>std</th>\n",
       "      <th>skew</th>\n",
       "      <th>kurtosis</th>\n",
       "    </tr>\n",
       "  </thead>\n",
       "  <tbody>\n",
       "    <tr>\n",
       "      <th>0</th>\n",
       "      <td>store</td>\n",
       "      <td>1</td>\n",
       "      <td>1115</td>\n",
       "      <td>1114</td>\n",
       "      <td>558.43</td>\n",
       "      <td>558.00</td>\n",
       "      <td>321.91</td>\n",
       "      <td>-0.00</td>\n",
       "      <td>&lt;bound method NDFrame._add_numeric_operations....</td>\n",
       "    </tr>\n",
       "    <tr>\n",
       "      <th>1</th>\n",
       "      <td>day_of_week</td>\n",
       "      <td>1</td>\n",
       "      <td>7</td>\n",
       "      <td>6</td>\n",
       "      <td>4.00</td>\n",
       "      <td>4.00</td>\n",
       "      <td>2.00</td>\n",
       "      <td>0.00</td>\n",
       "      <td>&lt;bound method NDFrame._add_numeric_operations....</td>\n",
       "    </tr>\n",
       "    <tr>\n",
       "      <th>2</th>\n",
       "      <td>sales</td>\n",
       "      <td>0</td>\n",
       "      <td>41551</td>\n",
       "      <td>41551</td>\n",
       "      <td>5773.82</td>\n",
       "      <td>5744.00</td>\n",
       "      <td>3849.92</td>\n",
       "      <td>0.64</td>\n",
       "      <td>&lt;bound method NDFrame._add_numeric_operations....</td>\n",
       "    </tr>\n",
       "    <tr>\n",
       "      <th>3</th>\n",
       "      <td>customers</td>\n",
       "      <td>0</td>\n",
       "      <td>7388</td>\n",
       "      <td>7388</td>\n",
       "      <td>633.15</td>\n",
       "      <td>609.00</td>\n",
       "      <td>464.41</td>\n",
       "      <td>1.60</td>\n",
       "      <td>&lt;bound method NDFrame._add_numeric_operations....</td>\n",
       "    </tr>\n",
       "    <tr>\n",
       "      <th>4</th>\n",
       "      <td>open</td>\n",
       "      <td>0</td>\n",
       "      <td>1</td>\n",
       "      <td>1</td>\n",
       "      <td>0.83</td>\n",
       "      <td>1.00</td>\n",
       "      <td>0.38</td>\n",
       "      <td>-1.76</td>\n",
       "      <td>&lt;bound method NDFrame._add_numeric_operations....</td>\n",
       "    </tr>\n",
       "    <tr>\n",
       "      <th>5</th>\n",
       "      <td>promo</td>\n",
       "      <td>0</td>\n",
       "      <td>1</td>\n",
       "      <td>1</td>\n",
       "      <td>0.38</td>\n",
       "      <td>0.00</td>\n",
       "      <td>0.49</td>\n",
       "      <td>0.49</td>\n",
       "      <td>&lt;bound method NDFrame._add_numeric_operations....</td>\n",
       "    </tr>\n",
       "    <tr>\n",
       "      <th>6</th>\n",
       "      <td>school_holiday</td>\n",
       "      <td>0</td>\n",
       "      <td>1</td>\n",
       "      <td>1</td>\n",
       "      <td>0.18</td>\n",
       "      <td>0.00</td>\n",
       "      <td>0.38</td>\n",
       "      <td>1.68</td>\n",
       "      <td>&lt;bound method NDFrame._add_numeric_operations....</td>\n",
       "    </tr>\n",
       "    <tr>\n",
       "      <th>7</th>\n",
       "      <td>competition_distance</td>\n",
       "      <td>20</td>\n",
       "      <td>2000000</td>\n",
       "      <td>1999980</td>\n",
       "      <td>10610.59</td>\n",
       "      <td>2330.00</td>\n",
       "      <td>101810.65</td>\n",
       "      <td>19.38</td>\n",
       "      <td>&lt;bound method NDFrame._add_numeric_operations....</td>\n",
       "    </tr>\n",
       "    <tr>\n",
       "      <th>8</th>\n",
       "      <td>competition_open_since_month</td>\n",
       "      <td>1</td>\n",
       "      <td>12</td>\n",
       "      <td>11</td>\n",
       "      <td>8.74</td>\n",
       "      <td>10.00</td>\n",
       "      <td>3.46</td>\n",
       "      <td>-0.66</td>\n",
       "      <td>&lt;bound method NDFrame._add_numeric_operations....</td>\n",
       "    </tr>\n",
       "    <tr>\n",
       "      <th>9</th>\n",
       "      <td>competition_open_since_year</td>\n",
       "      <td>1900</td>\n",
       "      <td>2015</td>\n",
       "      <td>115</td>\n",
       "      <td>2009.74</td>\n",
       "      <td>2012.00</td>\n",
       "      <td>5.18</td>\n",
       "      <td>-8.48</td>\n",
       "      <td>&lt;bound method NDFrame._add_numeric_operations....</td>\n",
       "    </tr>\n",
       "    <tr>\n",
       "      <th>10</th>\n",
       "      <td>promo2</td>\n",
       "      <td>0</td>\n",
       "      <td>1</td>\n",
       "      <td>1</td>\n",
       "      <td>0.50</td>\n",
       "      <td>1.00</td>\n",
       "      <td>0.50</td>\n",
       "      <td>-0.00</td>\n",
       "      <td>&lt;bound method NDFrame._add_numeric_operations....</td>\n",
       "    </tr>\n",
       "    <tr>\n",
       "      <th>11</th>\n",
       "      <td>promo2_since_week</td>\n",
       "      <td>0</td>\n",
       "      <td>50</td>\n",
       "      <td>50</td>\n",
       "      <td>11.65</td>\n",
       "      <td>1.00</td>\n",
       "      <td>15.32</td>\n",
       "      <td>1.00</td>\n",
       "      <td>&lt;bound method NDFrame._add_numeric_operations....</td>\n",
       "    </tr>\n",
       "    <tr>\n",
       "      <th>12</th>\n",
       "      <td>promo2_since_year</td>\n",
       "      <td>0</td>\n",
       "      <td>2015</td>\n",
       "      <td>2015</td>\n",
       "      <td>1007.01</td>\n",
       "      <td>2009.00</td>\n",
       "      <td>1005.88</td>\n",
       "      <td>-0.00</td>\n",
       "      <td>&lt;bound method NDFrame._add_numeric_operations....</td>\n",
       "    </tr>\n",
       "  </tbody>\n",
       "</table>\n",
       "</div>"
      ],
      "text/plain": [
       "                      attributes   min      max    range     mean  median  \\\n",
       "0                          store     1     1115     1114   558.43  558.00   \n",
       "1                    day_of_week     1        7        6     4.00    4.00   \n",
       "2                          sales     0    41551    41551  5773.82 5744.00   \n",
       "3                      customers     0     7388     7388   633.15  609.00   \n",
       "4                           open     0        1        1     0.83    1.00   \n",
       "5                          promo     0        1        1     0.38    0.00   \n",
       "6                 school_holiday     0        1        1     0.18    0.00   \n",
       "7           competition_distance    20  2000000  1999980 10610.59 2330.00   \n",
       "8   competition_open_since_month     1       12       11     8.74   10.00   \n",
       "9    competition_open_since_year  1900     2015      115  2009.74 2012.00   \n",
       "10                        promo2     0        1        1     0.50    1.00   \n",
       "11             promo2_since_week     0       50       50    11.65    1.00   \n",
       "12             promo2_since_year     0     2015     2015  1007.01 2009.00   \n",
       "\n",
       "         std  skew                                           kurtosis  \n",
       "0     321.91 -0.00  <bound method NDFrame._add_numeric_operations....  \n",
       "1       2.00  0.00  <bound method NDFrame._add_numeric_operations....  \n",
       "2    3849.92  0.64  <bound method NDFrame._add_numeric_operations....  \n",
       "3     464.41  1.60  <bound method NDFrame._add_numeric_operations....  \n",
       "4       0.38 -1.76  <bound method NDFrame._add_numeric_operations....  \n",
       "5       0.49  0.49  <bound method NDFrame._add_numeric_operations....  \n",
       "6       0.38  1.68  <bound method NDFrame._add_numeric_operations....  \n",
       "7  101810.65 19.38  <bound method NDFrame._add_numeric_operations....  \n",
       "8       3.46 -0.66  <bound method NDFrame._add_numeric_operations....  \n",
       "9       5.18 -8.48  <bound method NDFrame._add_numeric_operations....  \n",
       "10      0.50 -0.00  <bound method NDFrame._add_numeric_operations....  \n",
       "11     15.32  1.00  <bound method NDFrame._add_numeric_operations....  \n",
       "12   1005.88 -0.00  <bound method NDFrame._add_numeric_operations....  "
      ]
     },
     "execution_count": 148,
     "metadata": {},
     "output_type": "execute_result"
    }
   ],
   "source": [
    "# central tendendy - mean, median\n",
    "ct1 = pd.DataFrame(num_df1.apply(np.mean)).T\n",
    "ct2 = pd.DataFrame(num_df1.apply(np.median)).T\n",
    "\n",
    "# dispersion - std, min, max, range, skew, kurtosis\n",
    "d1 = pd.DataFrame(num_df1.apply(np.std)).T\n",
    "d2 = pd.DataFrame(num_df1.apply(min)).T\n",
    "d3 = pd.DataFrame(num_df1.apply(max)).T\n",
    "d4 = pd.DataFrame(num_df1.apply(lambda x: x.max() - x.min())).T\n",
    "d5 = pd.DataFrame(num_df1.apply(lambda x: x.skew())).T\n",
    "d6 = pd.DataFrame(num_df1.apply(lambda x: x.kurtosis)).T\n",
    "\n",
    "# concatenate \n",
    "m = pd.concat([d2,d3,d4,ct1,ct2,d1,d5,d6]).T.reset_index()\n",
    "m.columns = ['attributes','min','max','range','mean','median','std','skew','kurtosis']\n",
    "m"
   ]
  },
  {
   "cell_type": "markdown",
   "id": "72793478",
   "metadata": {
    "heading_collapsed": true,
    "hidden": true
   },
   "source": [
    "### Categorical Attributes"
   ]
  },
  {
   "cell_type": "code",
   "execution_count": 149,
   "id": "f7d90662",
   "metadata": {
    "ExecuteTime": {
     "end_time": "2022-01-08T20:45:29.729795Z",
     "start_time": "2022-01-08T20:45:29.574116Z"
    },
    "hidden": true
   },
   "outputs": [
    {
     "data": {
      "text/plain": [
       "state_holiday     4\n",
       "store_type        4\n",
       "assortment        3\n",
       "promo_interval    4\n",
       "dtype: int64"
      ]
     },
     "execution_count": 149,
     "metadata": {},
     "output_type": "execute_result"
    }
   ],
   "source": [
    "cat_df1.apply(lambda x: x.unique().shape[0])"
   ]
  },
  {
   "cell_type": "code",
   "execution_count": 150,
   "id": "99fbe371",
   "metadata": {
    "ExecuteTime": {
     "end_time": "2022-01-08T20:45:30.612453Z",
     "start_time": "2022-01-08T20:45:29.730730Z"
    },
    "hidden": true
   },
   "outputs": [
    {
     "data": {
      "image/png": "[encoded data removed]",
      "text/plain": [
       "<Figure size 1440x720 with 3 Axes>"
      ]
     },
     "metadata": {},
     "output_type": "display_data"
    }
   ],
   "source": [
    "# checking sales by holidays, store type and assortment\n",
    "\n",
    "aux1 = df1[(df1['state_holiday']!='0') & (df1['sales']>0)] # filtering sales that happened during a state holiday\n",
    "plt.subplot(1,3,1)\n",
    "sns.boxplot(x='state_holiday', y='sales', data=aux1).set(xlabel=\"State Holiday\", ylabel=\"Sales\", title=\"Sales by State Holidays\");\n",
    "\n",
    "plt.subplot(1,3,2)\n",
    "sns.boxplot(x='store_type', y='sales', data=df1).set(xlabel=\"Store Type\", ylabel=\"Sales\", title=\"Sales by Store Type\");\n",
    "\n",
    "plt.subplot(1,3,3)\n",
    "sns.boxplot(x='assortment', y='sales', data=df1).set(xlabel=\"Assortment\", ylabel=\"Sales\", title=\"Sales by Assortment\");\n",
    "\n",
    "plt.tight_layout()"
   ]
  },
  {
   "cell_type": "markdown",
   "id": "b6c8c3c3",
   "metadata": {},
   "source": [
    "# FEATURE ENGINEERING"
   ]
  },
  {
   "cell_type": "code",
   "execution_count": 151,
   "id": "ffaa8027",
   "metadata": {
    "ExecuteTime": {
     "end_time": "2022-01-08T20:45:30.691743Z",
     "start_time": "2022-01-08T20:45:30.613659Z"
    }
   },
   "outputs": [],
   "source": [
    "df2=df1.copy()"
   ]
  },
  {
   "cell_type": "markdown",
   "id": "818e09cc",
   "metadata": {
    "heading_collapsed": true
   },
   "source": [
    "## Mind Map Hypothesis "
   ]
  },
  {
   "cell_type": "code",
   "execution_count": 152,
   "id": "9dfa9dfd",
   "metadata": {
    "ExecuteTime": {
     "end_time": "2022-01-08T20:45:30.707760Z",
     "start_time": "2022-01-08T20:45:30.692682Z"
    },
    "hidden": true
   },
   "outputs": [
    {
     "data": {
      "image/png": "[encoded data removed]",
      "text/plain": [
       "<IPython.core.display.Image object>"
      ]
     },
     "execution_count": 152,
     "metadata": {},
     "output_type": "execute_result"
    }
   ],
   "source": [
    "# importing hipothesis mind map\n",
    "Image('../image/MindMapHypothesis.png')"
   ]
  },
  {
   "cell_type": "markdown",
   "id": "f7c67891",
   "metadata": {
    "heading_collapsed": true
   },
   "source": [
    "## Creating Hypothesis"
   ]
  },
  {
   "cell_type": "markdown",
   "id": "9808bacb",
   "metadata": {
    "heading_collapsed": true,
    "hidden": true
   },
   "source": [
    "### Store Hypothesis \n",
    "1. Stores with bigger assortment should sell more.\n",
    "\n",
    "2. Stores with closer competitors should sell less.\n",
    "\n",
    "3. Stores with longer competitors should sell more. \n",
    "\n",
    "### Marketing Hypothesis\n",
    "4. Stores with longer active promotions should sell more.\n",
    "\n",
    "5. Stores with more promotion days should sell more.\n",
    "\n",
    "### Periodicity Hypothesis\n",
    "7. Stores open during Christmas holiday sould sell more.\n",
    "\n",
    "8. Stores should sell more over the years.\n",
    "\n",
    "9. Stores should sell more in the second semester.\n",
    "\n",
    "10. Stores should sell more after the 10th of each month.\n",
    "\n",
    "11. Stores should sell less on weekends.\n",
    "\n",
    "12. Stores should sell less during school holidays."
   ]
  },
  {
   "cell_type": "markdown",
   "id": "f87ab55d",
   "metadata": {
    "heading_collapsed": true
   },
   "source": [
    "## Feature Engineering"
   ]
  },
  {
   "cell_type": "code",
   "execution_count": 153,
   "id": "b55d52d4",
   "metadata": {
    "ExecuteTime": {
     "end_time": "2022-01-08T20:45:30.771131Z",
     "start_time": "2022-01-08T20:45:30.708689Z"
    },
    "hidden": true
   },
   "outputs": [
    {
     "data": {
      "text/html": [
       "<div>\n",
       "<style scoped>\n",
       "    .dataframe tbody tr th:only-of-type {\n",
       "        vertical-align: middle;\n",
       "    }\n",
       "\n",
       "    .dataframe tbody tr th {\n",
       "        vertical-align: top;\n",
       "    }\n",
       "\n",
       "    .dataframe thead th {\n",
       "        text-align: right;\n",
       "    }\n",
       "</style>\n",
       "<table border=\"1\" class=\"dataframe\">\n",
       "  <thead>\n",
       "    <tr style=\"text-align: right;\">\n",
       "      <th></th>\n",
       "      <th>store</th>\n",
       "      <th>day_of_week</th>\n",
       "      <th>date</th>\n",
       "      <th>sales</th>\n",
       "      <th>customers</th>\n",
       "      <th>open</th>\n",
       "      <th>promo</th>\n",
       "      <th>state_holiday</th>\n",
       "      <th>school_holiday</th>\n",
       "      <th>store_type</th>\n",
       "      <th>assortment</th>\n",
       "      <th>competition_distance</th>\n",
       "      <th>competition_open_since_month</th>\n",
       "      <th>competition_open_since_year</th>\n",
       "      <th>promo2</th>\n",
       "      <th>promo2_since_week</th>\n",
       "      <th>promo2_since_year</th>\n",
       "      <th>promo_interval</th>\n",
       "    </tr>\n",
       "  </thead>\n",
       "  <tbody>\n",
       "    <tr>\n",
       "      <th>0</th>\n",
       "      <td>1</td>\n",
       "      <td>5</td>\n",
       "      <td>2015-07-31</td>\n",
       "      <td>5263</td>\n",
       "      <td>555</td>\n",
       "      <td>1</td>\n",
       "      <td>1</td>\n",
       "      <td>0</td>\n",
       "      <td>1</td>\n",
       "      <td>c</td>\n",
       "      <td>a</td>\n",
       "      <td>1270</td>\n",
       "      <td>9</td>\n",
       "      <td>2008</td>\n",
       "      <td>0</td>\n",
       "      <td>0</td>\n",
       "      <td>0</td>\n",
       "      <td>0</td>\n",
       "    </tr>\n",
       "    <tr>\n",
       "      <th>1</th>\n",
       "      <td>2</td>\n",
       "      <td>5</td>\n",
       "      <td>2015-07-31</td>\n",
       "      <td>6064</td>\n",
       "      <td>625</td>\n",
       "      <td>1</td>\n",
       "      <td>1</td>\n",
       "      <td>0</td>\n",
       "      <td>1</td>\n",
       "      <td>a</td>\n",
       "      <td>a</td>\n",
       "      <td>570</td>\n",
       "      <td>11</td>\n",
       "      <td>2007</td>\n",
       "      <td>1</td>\n",
       "      <td>13</td>\n",
       "      <td>2010</td>\n",
       "      <td>Jan,Apr,Jul,Oct</td>\n",
       "    </tr>\n",
       "    <tr>\n",
       "      <th>2</th>\n",
       "      <td>3</td>\n",
       "      <td>5</td>\n",
       "      <td>2015-07-31</td>\n",
       "      <td>8314</td>\n",
       "      <td>821</td>\n",
       "      <td>1</td>\n",
       "      <td>1</td>\n",
       "      <td>0</td>\n",
       "      <td>1</td>\n",
       "      <td>a</td>\n",
       "      <td>a</td>\n",
       "      <td>14130</td>\n",
       "      <td>12</td>\n",
       "      <td>2006</td>\n",
       "      <td>1</td>\n",
       "      <td>14</td>\n",
       "      <td>2011</td>\n",
       "      <td>Jan,Apr,Jul,Oct</td>\n",
       "    </tr>\n",
       "    <tr>\n",
       "      <th>3</th>\n",
       "      <td>4</td>\n",
       "      <td>5</td>\n",
       "      <td>2015-07-31</td>\n",
       "      <td>13995</td>\n",
       "      <td>1498</td>\n",
       "      <td>1</td>\n",
       "      <td>1</td>\n",
       "      <td>0</td>\n",
       "      <td>1</td>\n",
       "      <td>c</td>\n",
       "      <td>c</td>\n",
       "      <td>620</td>\n",
       "      <td>9</td>\n",
       "      <td>2009</td>\n",
       "      <td>0</td>\n",
       "      <td>0</td>\n",
       "      <td>0</td>\n",
       "      <td>0</td>\n",
       "    </tr>\n",
       "    <tr>\n",
       "      <th>4</th>\n",
       "      <td>5</td>\n",
       "      <td>5</td>\n",
       "      <td>2015-07-31</td>\n",
       "      <td>4822</td>\n",
       "      <td>559</td>\n",
       "      <td>1</td>\n",
       "      <td>1</td>\n",
       "      <td>0</td>\n",
       "      <td>1</td>\n",
       "      <td>a</td>\n",
       "      <td>a</td>\n",
       "      <td>29910</td>\n",
       "      <td>4</td>\n",
       "      <td>2015</td>\n",
       "      <td>0</td>\n",
       "      <td>0</td>\n",
       "      <td>0</td>\n",
       "      <td>0</td>\n",
       "    </tr>\n",
       "  </tbody>\n",
       "</table>\n",
       "</div>"
      ],
      "text/plain": [
       "   store  day_of_week       date  sales  customers  open  promo state_holiday  \\\n",
       "0      1            5 2015-07-31   5263        555     1      1             0   \n",
       "1      2            5 2015-07-31   6064        625     1      1             0   \n",
       "2      3            5 2015-07-31   8314        821     1      1             0   \n",
       "3      4            5 2015-07-31  13995       1498     1      1             0   \n",
       "4      5            5 2015-07-31   4822        559     1      1             0   \n",
       "\n",
       "   school_holiday store_type assortment  competition_distance  \\\n",
       "0               1          c          a                  1270   \n",
       "1               1          a          a                   570   \n",
       "2               1          a          a                 14130   \n",
       "3               1          c          c                   620   \n",
       "4               1          a          a                 29910   \n",
       "\n",
       "   competition_open_since_month  competition_open_since_year  promo2  \\\n",
       "0                             9                         2008       0   \n",
       "1                            11                         2007       1   \n",
       "2                            12                         2006       1   \n",
       "3                             9                         2009       0   \n",
       "4                             4                         2015       0   \n",
       "\n",
       "   promo2_since_week  promo2_since_year   promo_interval  \n",
       "0                  0                  0                0  \n",
       "1                 13               2010  Jan,Apr,Jul,Oct  \n",
       "2                 14               2011  Jan,Apr,Jul,Oct  \n",
       "3                  0                  0                0  \n",
       "4                  0                  0                0  "
      ]
     },
     "execution_count": 153,
     "metadata": {},
     "output_type": "execute_result"
    }
   ],
   "source": [
    "df2 = df1.copy()\n",
    "df2.head()"
   ]
  },
  {
   "cell_type": "code",
   "execution_count": 154,
   "id": "34c26c20",
   "metadata": {
    "ExecuteTime": {
     "end_time": "2022-01-08T20:45:35.332745Z",
     "start_time": "2022-01-08T20:45:30.772115Z"
    },
    "hidden": true
   },
   "outputs": [],
   "source": [
    "# creating 'year' from 'date'\n",
    "df2['year'] = df2['date'].dt.year\n",
    "\n",
    "# creating 'month' from 'date'\n",
    "df2['month'] = df2['date'].dt.month\n",
    "\n",
    "# creating 'day' from 'date'\n",
    "df2['day'] = df2['date'].dt.day\n",
    "\n",
    "# creating 'week_of_year' from 'date'\n",
    "df2['week_of_year'] = df2['date'].dt.isocalendar().week.astype(np.int64)\n",
    "\n",
    "# creating 'year_week' from 'date'\n",
    "df2['year_week'] = df2['date'].dt.strftime('%Y-%W')\n",
    "\n",
    "# === note:\n",
    "# strftime() - considers the first week of a year with a monday\n",
    "# isocalender() - considers the first week of a year a thursday"
   ]
  },
  {
   "cell_type": "code",
   "execution_count": 155,
   "id": "99db134f",
   "metadata": {
    "ExecuteTime": {
     "end_time": "2022-01-08T20:45:35.582936Z",
     "start_time": "2022-01-08T20:45:35.334691Z"
    },
    "hidden": true
   },
   "outputs": [
    {
     "name": "stdout",
     "output_type": "stream",
     "text": [
      "date            datetime64[ns]\n",
      "year                     int64\n",
      "month                    int64\n",
      "day                      int64\n",
      "week_of_year             int64\n",
      "year_week               object\n",
      "dtype: object\n"
     ]
    },
    {
     "data": {
      "text/html": [
       "<div>\n",
       "<style scoped>\n",
       "    .dataframe tbody tr th:only-of-type {\n",
       "        vertical-align: middle;\n",
       "    }\n",
       "\n",
       "    .dataframe tbody tr th {\n",
       "        vertical-align: top;\n",
       "    }\n",
       "\n",
       "    .dataframe thead th {\n",
       "        text-align: right;\n",
       "    }\n",
       "</style>\n",
       "<table border=\"1\" class=\"dataframe\">\n",
       "  <thead>\n",
       "    <tr style=\"text-align: right;\">\n",
       "      <th></th>\n",
       "      <th>date</th>\n",
       "      <th>year</th>\n",
       "      <th>month</th>\n",
       "      <th>day</th>\n",
       "      <th>week_of_year</th>\n",
       "      <th>year_week</th>\n",
       "    </tr>\n",
       "  </thead>\n",
       "  <tbody>\n",
       "    <tr>\n",
       "      <th>839540</th>\n",
       "      <td>2013-06-09</td>\n",
       "      <td>2013</td>\n",
       "      <td>6</td>\n",
       "      <td>9</td>\n",
       "      <td>23</td>\n",
       "      <td>2013-22</td>\n",
       "    </tr>\n",
       "    <tr>\n",
       "      <th>149033</th>\n",
       "      <td>2015-03-20</td>\n",
       "      <td>2015</td>\n",
       "      <td>3</td>\n",
       "      <td>20</td>\n",
       "      <td>12</td>\n",
       "      <td>2015-11</td>\n",
       "    </tr>\n",
       "    <tr>\n",
       "      <th>862087</th>\n",
       "      <td>2013-05-20</td>\n",
       "      <td>2013</td>\n",
       "      <td>5</td>\n",
       "      <td>20</td>\n",
       "      <td>21</td>\n",
       "      <td>2013-20</td>\n",
       "    </tr>\n",
       "    <tr>\n",
       "      <th>334978</th>\n",
       "      <td>2014-09-17</td>\n",
       "      <td>2014</td>\n",
       "      <td>9</td>\n",
       "      <td>17</td>\n",
       "      <td>38</td>\n",
       "      <td>2014-37</td>\n",
       "    </tr>\n",
       "    <tr>\n",
       "      <th>29099</th>\n",
       "      <td>2015-07-05</td>\n",
       "      <td>2015</td>\n",
       "      <td>7</td>\n",
       "      <td>5</td>\n",
       "      <td>27</td>\n",
       "      <td>2015-26</td>\n",
       "    </tr>\n",
       "  </tbody>\n",
       "</table>\n",
       "</div>"
      ],
      "text/plain": [
       "             date  year  month  day  week_of_year year_week\n",
       "839540 2013-06-09  2013      6    9            23   2013-22\n",
       "149033 2015-03-20  2015      3   20            12   2015-11\n",
       "862087 2013-05-20  2013      5   20            21   2013-20\n",
       "334978 2014-09-17  2014      9   17            38   2014-37\n",
       "29099  2015-07-05  2015      7    5            27   2015-26"
      ]
     },
     "execution_count": 155,
     "metadata": {},
     "output_type": "execute_result"
    }
   ],
   "source": [
    "print(df2[['date','year','month','day','week_of_year','year_week']].dtypes)\n",
    "df2[['date','year','month','day','week_of_year','year_week']].sample(5)"
   ]
  },
  {
   "cell_type": "code",
   "execution_count": 156,
   "id": "d7e3b496",
   "metadata": {
    "ExecuteTime": {
     "end_time": "2022-01-08T20:45:51.825648Z",
     "start_time": "2022-01-08T20:45:35.583897Z"
    },
    "hidden": true
   },
   "outputs": [],
   "source": [
    "# creating 'competition_open_since' by combining 'competition_open_since_year' and 'competition_open_since_month'\n",
    "df2['competition_open_since'] = df2.apply(lambda x: datetime.datetime(year=x['competition_open_since_year'], month=x['competition_open_since_month'], day=1), axis=1)\n",
    "\n",
    "# creating 'competition_open_timeinmonths' by calculating the difference between 'date' and 'competition_open_since':\n",
    "df2['competition_open_timeinmonths'] = ((df2['date']-df2['competition_open_since'])/30).apply(lambda x: x.days).astype('int64')"
   ]
  },
  {
   "cell_type": "code",
   "execution_count": 157,
   "id": "4ef59e35",
   "metadata": {
    "ExecuteTime": {
     "end_time": "2022-01-08T20:45:51.999119Z",
     "start_time": "2022-01-08T20:45:51.826647Z"
    },
    "hidden": true
   },
   "outputs": [
    {
     "name": "stdout",
     "output_type": "stream",
     "text": [
      "date                             datetime64[ns]\n",
      "competition_open_since_year               int64\n",
      "competition_open_since_month              int64\n",
      "competition_open_since           datetime64[ns]\n",
      "competition_open_timeinmonths             int64\n",
      "dtype: object\n"
     ]
    },
    {
     "data": {
      "text/html": [
       "<div>\n",
       "<style scoped>\n",
       "    .dataframe tbody tr th:only-of-type {\n",
       "        vertical-align: middle;\n",
       "    }\n",
       "\n",
       "    .dataframe tbody tr th {\n",
       "        vertical-align: top;\n",
       "    }\n",
       "\n",
       "    .dataframe thead th {\n",
       "        text-align: right;\n",
       "    }\n",
       "</style>\n",
       "<table border=\"1\" class=\"dataframe\">\n",
       "  <thead>\n",
       "    <tr style=\"text-align: right;\">\n",
       "      <th></th>\n",
       "      <th>date</th>\n",
       "      <th>competition_open_since_year</th>\n",
       "      <th>competition_open_since_month</th>\n",
       "      <th>competition_open_since</th>\n",
       "      <th>competition_open_timeinmonths</th>\n",
       "    </tr>\n",
       "  </thead>\n",
       "  <tbody>\n",
       "    <tr>\n",
       "      <th>353781</th>\n",
       "      <td>2014-08-28</td>\n",
       "      <td>2012</td>\n",
       "      <td>12</td>\n",
       "      <td>2012-12-01</td>\n",
       "      <td>21</td>\n",
       "    </tr>\n",
       "    <tr>\n",
       "      <th>849037</th>\n",
       "      <td>2013-05-31</td>\n",
       "      <td>2012</td>\n",
       "      <td>12</td>\n",
       "      <td>2012-12-01</td>\n",
       "      <td>6</td>\n",
       "    </tr>\n",
       "    <tr>\n",
       "      <th>147841</th>\n",
       "      <td>2015-03-21</td>\n",
       "      <td>2012</td>\n",
       "      <td>12</td>\n",
       "      <td>2012-12-01</td>\n",
       "      <td>28</td>\n",
       "    </tr>\n",
       "    <tr>\n",
       "      <th>952557</th>\n",
       "      <td>2013-02-27</td>\n",
       "      <td>2010</td>\n",
       "      <td>6</td>\n",
       "      <td>2010-06-01</td>\n",
       "      <td>33</td>\n",
       "    </tr>\n",
       "    <tr>\n",
       "      <th>827047</th>\n",
       "      <td>2013-06-20</td>\n",
       "      <td>2006</td>\n",
       "      <td>9</td>\n",
       "      <td>2006-09-01</td>\n",
       "      <td>82</td>\n",
       "    </tr>\n",
       "  </tbody>\n",
       "</table>\n",
       "</div>"
      ],
      "text/plain": [
       "             date  competition_open_since_year  competition_open_since_month  \\\n",
       "353781 2014-08-28                         2012                            12   \n",
       "849037 2013-05-31                         2012                            12   \n",
       "147841 2015-03-21                         2012                            12   \n",
       "952557 2013-02-27                         2010                             6   \n",
       "827047 2013-06-20                         2006                             9   \n",
       "\n",
       "       competition_open_since  competition_open_timeinmonths  \n",
       "353781             2012-12-01                             21  \n",
       "849037             2012-12-01                              6  \n",
       "147841             2012-12-01                             28  \n",
       "952557             2010-06-01                             33  \n",
       "827047             2006-09-01                             82  "
      ]
     },
     "execution_count": 157,
     "metadata": {},
     "output_type": "execute_result"
    }
   ],
   "source": [
    "print(df2[['date','competition_open_since_year','competition_open_since_month',\n",
    "           'competition_open_since','competition_open_timeinmonths']].dtypes)\n",
    "\n",
    "df2[['date','competition_open_since_year','competition_open_since_month',\n",
    "     'competition_open_since','competition_open_timeinmonths']].sample(5)"
   ]
  },
  {
   "cell_type": "code",
   "execution_count": 158,
   "id": "abb20121",
   "metadata": {
    "ExecuteTime": {
     "end_time": "2022-01-08T20:45:52.124851Z",
     "start_time": "2022-01-08T20:45:52.000154Z"
    },
    "hidden": true
   },
   "outputs": [],
   "source": [
    "# changing 'assortment' attribute by given classification\n",
    "df2['assortment'] = df2['assortment'].apply(lambda x: 'basic' if x=='a' \n",
    "                                                 else 'extra' if x=='b' \n",
    "                                                 else 'extended')"
   ]
  },
  {
   "cell_type": "code",
   "execution_count": 159,
   "id": "fcf89720",
   "metadata": {
    "ExecuteTime": {
     "end_time": "2022-01-08T20:45:52.170455Z",
     "start_time": "2022-01-08T20:45:52.127407Z"
    },
    "hidden": true
   },
   "outputs": [
    {
     "name": "stdout",
     "output_type": "stream",
     "text": [
      "assortment    object\n",
      "dtype: object\n"
     ]
    },
    {
     "data": {
      "text/html": [
       "<div>\n",
       "<style scoped>\n",
       "    .dataframe tbody tr th:only-of-type {\n",
       "        vertical-align: middle;\n",
       "    }\n",
       "\n",
       "    .dataframe tbody tr th {\n",
       "        vertical-align: top;\n",
       "    }\n",
       "\n",
       "    .dataframe thead th {\n",
       "        text-align: right;\n",
       "    }\n",
       "</style>\n",
       "<table border=\"1\" class=\"dataframe\">\n",
       "  <thead>\n",
       "    <tr style=\"text-align: right;\">\n",
       "      <th></th>\n",
       "      <th>assortment</th>\n",
       "    </tr>\n",
       "  </thead>\n",
       "  <tbody>\n",
       "    <tr>\n",
       "      <th>0</th>\n",
       "      <td>basic</td>\n",
       "    </tr>\n",
       "    <tr>\n",
       "      <th>1</th>\n",
       "      <td>basic</td>\n",
       "    </tr>\n",
       "    <tr>\n",
       "      <th>2</th>\n",
       "      <td>basic</td>\n",
       "    </tr>\n",
       "    <tr>\n",
       "      <th>3</th>\n",
       "      <td>extended</td>\n",
       "    </tr>\n",
       "    <tr>\n",
       "      <th>4</th>\n",
       "      <td>basic</td>\n",
       "    </tr>\n",
       "  </tbody>\n",
       "</table>\n",
       "</div>"
      ],
      "text/plain": [
       "  assortment\n",
       "0      basic\n",
       "1      basic\n",
       "2      basic\n",
       "3   extended\n",
       "4      basic"
      ]
     },
     "execution_count": 159,
     "metadata": {},
     "output_type": "execute_result"
    }
   ],
   "source": [
    "print(df2[['assortment']].dtypes)\n",
    "\n",
    "df2[['assortment']].head()"
   ]
  },
  {
   "cell_type": "code",
   "execution_count": 160,
   "id": "214e04d0",
   "metadata": {
    "ExecuteTime": {
     "end_time": "2022-01-08T20:45:52.328492Z",
     "start_time": "2022-01-08T20:45:52.175455Z"
    },
    "hidden": true
   },
   "outputs": [],
   "source": [
    "# changing 'sate_holiday' attribute by given classification\n",
    "df2['state_holiday'] = df2['state_holiday'].apply (lambda x: 'Public holiday' if x=='a' \n",
    "                                                        else 'Easter holiday' if x=='b' \n",
    "                                                        else 'Christmas'      if x=='c'\n",
    "                                                        else 'regular day')"
   ]
  },
  {
   "cell_type": "code",
   "execution_count": 161,
   "id": "83f0039b",
   "metadata": {
    "ExecuteTime": {
     "end_time": "2022-01-08T20:45:52.359944Z",
     "start_time": "2022-01-08T20:45:52.329489Z"
    },
    "hidden": true
   },
   "outputs": [
    {
     "name": "stdout",
     "output_type": "stream",
     "text": [
      "state_holiday    object\n",
      "dtype: object\n"
     ]
    },
    {
     "data": {
      "text/html": [
       "<div>\n",
       "<style scoped>\n",
       "    .dataframe tbody tr th:only-of-type {\n",
       "        vertical-align: middle;\n",
       "    }\n",
       "\n",
       "    .dataframe tbody tr th {\n",
       "        vertical-align: top;\n",
       "    }\n",
       "\n",
       "    .dataframe thead th {\n",
       "        text-align: right;\n",
       "    }\n",
       "</style>\n",
       "<table border=\"1\" class=\"dataframe\">\n",
       "  <thead>\n",
       "    <tr style=\"text-align: right;\">\n",
       "      <th></th>\n",
       "      <th>state_holiday</th>\n",
       "    </tr>\n",
       "  </thead>\n",
       "  <tbody>\n",
       "    <tr>\n",
       "      <th>0</th>\n",
       "      <td>regular day</td>\n",
       "    </tr>\n",
       "    <tr>\n",
       "      <th>1</th>\n",
       "      <td>regular day</td>\n",
       "    </tr>\n",
       "    <tr>\n",
       "      <th>2</th>\n",
       "      <td>regular day</td>\n",
       "    </tr>\n",
       "    <tr>\n",
       "      <th>3</th>\n",
       "      <td>regular day</td>\n",
       "    </tr>\n",
       "    <tr>\n",
       "      <th>4</th>\n",
       "      <td>regular day</td>\n",
       "    </tr>\n",
       "  </tbody>\n",
       "</table>\n",
       "</div>"
      ],
      "text/plain": [
       "  state_holiday\n",
       "0   regular day\n",
       "1   regular day\n",
       "2   regular day\n",
       "3   regular day\n",
       "4   regular day"
      ]
     },
     "execution_count": 161,
     "metadata": {},
     "output_type": "execute_result"
    }
   ],
   "source": [
    "print(df2[['state_holiday']].dtypes)\n",
    "\n",
    "df2[['state_holiday']].head()"
   ]
  },
  {
   "cell_type": "code",
   "execution_count": 162,
   "id": "58fa6f24",
   "metadata": {
    "ExecuteTime": {
     "end_time": "2022-01-08T20:45:59.395565Z",
     "start_time": "2022-01-08T20:45:52.361924Z"
    },
    "hidden": true
   },
   "outputs": [],
   "source": [
    "# creating 'is_promo' to check if the purchase was during a promotion\n",
    "\n",
    "month_map = { 1: 'Jan', 2: 'Feb', 3: 'Mar', 4: 'Apr', 5: 'May', 6: 'Jun',\n",
    "              7: 'Jul', 8: 'Ago', 9: 'Sep', 10: 'Oct', 11: 'Nov', 12: 'Dec'}\n",
    "\n",
    "# filling Na with \"0\"\n",
    "df2['promo_interval'].fillna(0, inplace=True)\n",
    "\n",
    "# finding the month name given month number by mapping the \"month_map\" dictionary\n",
    "df2['month_map'] = df2['date'].dt.month.map(month_map)\n",
    "\n",
    "\n",
    "df2['is_promo'] = df2[['promo_interval', 'month_map']].apply(lambda x: 0 if x['promo_interval'] == 0\n",
    "                                                                  else 1 if x['month_map'] in x['promo_interval'].split(',')\n",
    "                                                                  else 0, axis=1 )"
   ]
  },
  {
   "cell_type": "code",
   "execution_count": 163,
   "id": "3babb51c",
   "metadata": {
    "ExecuteTime": {
     "end_time": "2022-01-08T20:45:59.411111Z",
     "start_time": "2022-01-08T20:45:59.396565Z"
    },
    "hidden": true
   },
   "outputs": [],
   "source": [
    "# creating 'promo_since' and 'promo_since_timeinweeks'\n",
    "# === note: since there are rows with value=0, it can't be created a data referece\n",
    "\n",
    "# creating 'promo_since' by combining 'promo2_since_year' and 'promo2_since_week'\n",
    "# df2['promo_since'] = df2['promo2_since_year'].astype(str) + '-' + df2['promo2_since_week'].astype(str) # string type (year-week, ex: 2015-31)\n",
    "# df2['promo_since'] = df2['promo_since'].apply(lambda x: datetime.datetime.strptime( x + '-0', '%Y-%W-%w' ) if x['promo_since']==\"0-0\" \n",
    "#                                                    else datetime.datetime.strptime( x + '-1', '%Y-%W-%w' ) - datetime.timedelta(days=7))\n",
    "#\n",
    "# creating 'promo_since_timeinweeks' by calculating the difference between 'date' and 'promo_since':\n",
    "# df2['promo_since_timeinweeks'] = ((df2['date'] - df2['promo_since'])/7).apply( lambda x: x.days).astype(np.int64)"
   ]
  }
 ],
 "metadata": {
  "kernelspec": {
   "display_name": "Python 3 (ipykernel)",
   "language": "python",
   "name": "python3"
  },
  "language_info": {
   "codemirror_mode": {
    "name": "ipython",
    "version": 3
   },
   "file_extension": ".py",
   "mimetype": "text/x-python",
   "name": "python",
   "nbconvert_exporter": "python",
   "pygments_lexer": "ipython3",
   "version": "3.9.7"
  },
  "toc": {
   "base_numbering": "0",
   "nav_menu": {},
   "number_sections": true,
   "sideBar": false,
   "skip_h1_title": false,
   "title_cell": "Table of Contents",
   "title_sidebar": "Contents",
   "toc_cell": false,
   "toc_position": {
    "height": "47.7778px",
    "left": "1161.31px",
    "top": "111.139px",
    "width": "159px"
   },
   "toc_section_display": false,
   "toc_window_display": true
  }
 },
 "nbformat": 4,
 "nbformat_minor": 5
}
